{
  "nbformat": 4,
  "nbformat_minor": 0,
  "metadata": {
    "colab": {
      "name": "Feature Extraction Densenet-121 ImageCLEF.ipynb",
      "provenance": [],
      "collapsed_sections": [
        "5JtwD5qSaatm",
        "3AXIhpwIqu8p",
        "CJvBX9hvfBAI",
        "gyLq-VpOsuaf",
        "80VilvI6s1zi",
        "l_N6Ty9RZnCg"
      ],
      "toc_visible": true,
      "authorship_tag": "ABX9TyPT8BFxxT+92n8eyUspaDDA",
      "include_colab_link": true
    },
    "kernelspec": {
      "name": "python3",
      "display_name": "Python 3"
    },
    "language_info": {
      "name": "python"
    },
    "accelerator": "GPU"
  },
  "cells": [
    {
      "cell_type": "markdown",
      "metadata": {
        "id": "view-in-github",
        "colab_type": "text"
      },
      "source": [
        "<a href=\"https://colab.research.google.com/github/fjpa121197/ImageCLEF2021/blob/colab/Information_Retrieval_Approach/Feature_Extraction_Densenet_121_ImageCLEF.ipynb\" target=\"_parent\"><img src=\"https://colab.research.google.com/assets/colab-badge.svg\" alt=\"Open In Colab\"/></a>"
      ]
    },
    {
      "cell_type": "code",
      "metadata": {
        "colab": {
          "base_uri": "https://localhost:8080/"
        },
        "id": "c_-zv90dYqvX",
        "outputId": "4632161f-c71b-40ac-c87e-f1c11f1ade80"
      },
      "source": [
        "import os\n",
        "from zipfile import ZipFile\n",
        "os.environ['KAGGLE_USERNAME'] = \"#####\" # username from the json file\n",
        "os.environ['KAGGLE_KEY'] = \"#####\" # key from the json file\n",
        "!kaggle datasets download -d fjpa121197/imageclefmed-concept-detection-2021"
      ],
      "execution_count": null,
      "outputs": [
        {
          "output_type": "stream",
          "text": [
            "Downloading imageclefmed-concept-detection-2021.zip to /content\n",
            " 90% 130M/145M [00:01<00:00, 114MB/s]\n",
            "100% 145M/145M [00:01<00:00, 135MB/s]\n"
          ],
          "name": "stdout"
        }
      ]
    },
    {
      "cell_type": "code",
      "metadata": {
        "colab": {
          "base_uri": "https://localhost:8080/"
        },
        "id": "ERBctffYamNo",
        "outputId": "f985742c-2316-407e-e530-cdbcc2c9489b"
      },
      "source": [
        "# Unzip 2021 data\n",
        "clef2021 = \"/content/imageclefmed-concept-detection-2021.zip\"\n",
        "with ZipFile(clef2021, 'r') as zip:\n",
        "  zip.extractall()\n",
        "  print('done with 2021 dataset')"
      ],
      "execution_count": null,
      "outputs": [
        {
          "output_type": "stream",
          "text": [
            "done with 2021 dataset\n"
          ],
          "name": "stdout"
        }
      ]
    },
    {
      "cell_type": "code",
      "metadata": {
        "id": "Mz0pnn5cYzPL"
      },
      "source": [
        "import tensorflow as tf\n",
        "import numpy as np\n",
        "import pandas as pd\n",
        "from tqdm import tqdm\n",
        "import csv\n",
        "from sklearn.preprocessing import MultiLabelBinarizer\n",
        "from sklearn.model_selection import train_test_split\n",
        "import json"
      ],
      "execution_count": null,
      "outputs": []
    },
    {
      "cell_type": "markdown",
      "metadata": {
        "id": "jhF4M9iiKgUn"
      },
      "source": [
        "**Run the following cell only if you want to use 2020 dataset**"
      ]
    },
    {
      "cell_type": "code",
      "metadata": {
        "colab": {
          "base_uri": "https://localhost:8080/"
        },
        "id": "tCqCH-xKnBUl",
        "outputId": "457b8502-55d5-42ec-8e62-c8ef24f405de"
      },
      "source": [
        "# Download 2020 data\n",
        "!kaggle datasets download -d fjpa121197/imageclefmed2021\n",
        "# Unzip 2020 data\n",
        "clef2020 = \"/content/imageclefmed2021.zip\"\n",
        "with ZipFile(clef2020, 'r') as zip:\n",
        "  zip.extractall()\n",
        "  print('done with 2020 dataset')"
      ],
      "execution_count": null,
      "outputs": [
        {
          "output_type": "stream",
          "text": [
            "Downloading imageclefmed2021.zip to /content\n",
            "100% 3.83G/3.84G [01:15<00:01, 11.3MB/s]\n",
            "100% 3.84G/3.84G [01:15<00:00, 54.8MB/s]\n",
            "done with 2020 dataset\n"
          ],
          "name": "stdout"
        }
      ]
    },
    {
      "cell_type": "markdown",
      "metadata": {
        "id": "mMBvSgz_ZJlA"
      },
      "source": [
        "# Feature extraction using DenseNet-121 and 2021 dataset\n",
        "\n",
        "For the feature extraction, three approaches will be used.\n",
        "*   Use default DenseNet-121 model (imagenet weights) and use it to extract feature of the images without fine-tunning. **DONE!!!!**\n",
        "*   Use default DenseNet-121 model (imagenet weights) and use it to extract features of the images but using fine-tunning. **DONE!!!**\n",
        "*   Use a trained DenseNet-121 model (trained to classify 7 modalities using 2020 dataset) and use it to extract features of the images (no fine-tunning). **DONE!!!**\n",
        "*   Use a trained DenseNet-121 model (trained to classify 7 modalities using 2020 dataset) and use it to extract features of the images but using fine-tunning.\n",
        "\n",
        "\n",
        "**Extraction of features have previously been done. However, the image loaded was of shape 64x64. This current version is using 224x224. See Trello's board, and search for the feature extraction task, you can find the kaggle api command for the features extracted (64x64).**\n",
        "\n",
        "\n"
      ]
    },
    {
      "cell_type": "markdown",
      "metadata": {
        "id": "5JtwD5qSaatm"
      },
      "source": [
        "## Default DenseNet-121 model (imagenet weights) wo fine-tunning"
      ]
    },
    {
      "cell_type": "code",
      "metadata": {
        "id": "ifj3A2m1oGnn"
      },
      "source": [
        "default_densenet = tf.keras.applications.densenet.DenseNet121(include_top=False, weights= 'imagenet')\n",
        "#default_densenet.summary()"
      ],
      "execution_count": null,
      "outputs": []
    },
    {
      "cell_type": "code",
      "metadata": {
        "id": "KaT7z37Jazuq"
      },
      "source": [
        "def feedForward(fname, model):\n",
        "  \"\"\"\n",
        "    Function for preprocessing an image and then use a model to predict/extract features of a given image.\n",
        "    fname: full path and name of the image to be given to the model\n",
        "    model: model to be used for feature extraction\n",
        "    \n",
        "    Returns: a 1-D array that represents the features of the image based on the model.\n",
        "  \"\"\"\n",
        "  img = tf.keras.preprocessing.image.load_img(fname, target_size=(224,224))\n",
        "  x = tf.keras.preprocessing.image.img_to_array(img)\n",
        "  x = np.expand_dims(x, axis = 0)\n",
        "  x = tf.keras.applications.densenet.preprocess_input(x)\n",
        "  features = model.predict(x)\n",
        "  features = features.flatten()\n",
        "\n",
        "  return features\n",
        "\n",
        "def extract_store(path_dir, model):\n",
        "  \"\"\"\n",
        "    Function that takes a path and passes all the images (inside that directory) to the feedForward function for feature extraction, and then creates\n",
        "    a dataframe containing all features and image ids of the images.\n",
        "    path_dir: full path of the directory that will be searched\n",
        "    model: model to be used for feature extraction\n",
        "\n",
        "    Returns: A pandas DataFrame containing all images and their corresponding features\n",
        "  \"\"\"\n",
        "  id_features_vector = []\n",
        "  print('Extracting features...')\n",
        "\n",
        "  for image in tqdm(os.listdir(path_dir), position= 0, leave = False):\n",
        "    path = os.path.join(path_dir, image)\n",
        "    name_image = os.path.splitext(image)[0]\n",
        "    image_id = int(name_image.replace('synpic',''))\n",
        "    vector = feedForward(path, model)\n",
        "    vector = np.insert(vector,0,image_id)\n",
        "    id_features_vector.append(vector)\n",
        "  #df_values = pd.DataFrame(id_features_vector, dtype = float)\n",
        "\n",
        "  return id_features_vector"
      ],
      "execution_count": null,
      "outputs": []
    },
    {
      "cell_type": "code",
      "metadata": {
        "id": "pQHBWYXoZ6-j"
      },
      "source": [
        "# Training set\n",
        "id_features_vector = extract_store('/content/ImageCLEF2021_ConceptDetection_Training-Set/ImageCLEF2021_ConceptDetection_Training-Set/Training-Images', default_densenet)\n",
        "#default_features_df.to_csv('/content/features-densenet-default-training-2021.csv', index = False, header=False)\n",
        "np.save('/content/features-224-densenet-default-training-2021.npy', id_features_vector)\n"
      ],
      "execution_count": null,
      "outputs": []
    },
    {
      "cell_type": "code",
      "metadata": {
        "colab": {
          "base_uri": "https://localhost:8080/"
        },
        "id": "fFfTVVObhKA3",
        "outputId": "be7d9105-2287-4cc8-e81e-7da5beb7f04a"
      },
      "source": [
        "# Validation set\n",
        "id_features_vector = extract_store('/content/ImageCLEF2021_ConceptDetection_Validation-Set/Validation-Images', default_densenet)\n",
        "#default_features_df.to_csv('/content/features-densenet-default-validation-2021.csv', index = False, header=False)\n",
        "np.save('/content/features-224-densenet-default-validation-2021.npy', id_features_vector)"
      ],
      "execution_count": null,
      "outputs": [
        {
          "output_type": "stream",
          "text": [
            "  0%|          | 2/500 [00:00<00:28, 17.56it/s]"
          ],
          "name": "stderr"
        },
        {
          "output_type": "stream",
          "text": [
            "Extracting features...\n"
          ],
          "name": "stdout"
        },
        {
          "output_type": "stream",
          "text": [
            ""
          ],
          "name": "stderr"
        }
      ]
    },
    {
      "cell_type": "markdown",
      "metadata": {
        "id": "d6aox7LsgU9r"
      },
      "source": [
        "## Default Densenet-121 model (initialized with imagenet weights) with fine-tunning"
      ]
    },
    {
      "cell_type": "code",
      "metadata": {
        "colab": {
          "base_uri": "https://localhost:8080/"
        },
        "id": "8OZr49y4MMC7",
        "outputId": "835e76cc-c5ee-4b08-f0a7-e46d48169016"
      },
      "source": [
        "default_densenet = tf.keras.applications.densenet.DenseNet121(include_top=True, weights= 'imagenet')"
      ],
      "execution_count": null,
      "outputs": [
        {
          "output_type": "stream",
          "text": [
            "Downloading data from https://storage.googleapis.com/tensorflow/keras-applications/densenet/densenet121_weights_tf_dim_ordering_tf_kernels.h5\n",
            "33193984/33188688 [==============================] - 0s 0us/step\n"
          ],
          "name": "stdout"
        }
      ]
    },
    {
      "cell_type": "code",
      "metadata": {
        "id": "5dOycGbK0AtN"
      },
      "source": [
        "# Utils functions\n",
        "def extract_concepts(root_paths, csv_names, image_id_concepts_dict = dict()):\n",
        "\n",
        "    if len(root_paths)==len(csv_names):\n",
        "      for idx, name in enumerate(root_paths):\n",
        "        path = os.path.join(name, csv_names[idx])\n",
        "        if csv_names[idx] == 'Training_Set_Concepts.csv': # Make sure that you just convert the .xlsx file to csv manually\n",
        "          with open(path, \"r\", encoding= 'utf-8-sig') as f:\n",
        "            reader = csv.reader(f, delimiter = ',')\n",
        "            for i, line in enumerate(reader):\n",
        "              image_id_concepts_dict[line[0]+'.jpg'] = list(line[1].split(';'))\n",
        "        else:\n",
        "           with open(path, \"r\", encoding= 'utf-8-sig') as f:\n",
        "            reader = csv.reader(f, delimiter = '\\t')\n",
        "            for i, line in enumerate(reader):\n",
        "              image_id_concepts_dict[line[0]+'.jpg'] = list(line[1].split(';'))\n",
        "\n",
        "    return image_id_concepts_dict\n",
        "\n",
        "def transform_images(training_images_dir, image):\n",
        "  path_to_image = os.path.join(training_images_dir, image)\n",
        "  img = tf.keras.preprocessing.image.load_img(path = path_to_image, target_size= (224,224))\n",
        "  img = tf.keras.preprocessing.image.img_to_array(img)\n",
        "  img = tf.keras.applications.densenet.preprocess_input(img)\n",
        "\n",
        "  return img"
      ],
      "execution_count": null,
      "outputs": []
    },
    {
      "cell_type": "code",
      "metadata": {
        "id": "qc7CSzPjz1Hz"
      },
      "source": [
        "# Path and csv name to concepts file for training and validation images\n",
        "path_to_concepts = ['/content/ImageCLEF2021_ConceptDetection_Training-Set/ImageCLEF2021_ConceptDetection_Training-Set',\n",
        "                    '/content/ImageCLEF2021_ConceptDetection_Validation-Set']\n",
        "concepts_file_name = ['Training_Set_Concepts.csv', 'Validation_Set_Concepts.csv']\n",
        "\n",
        "#Extract concepts for the validation and training images and save to dict\n",
        "image_id_concepts_dict = extract_concepts(path_to_concepts,concepts_file_name)\n"
      ],
      "execution_count": null,
      "outputs": []
    },
    {
      "cell_type": "code",
      "metadata": {
        "id": "JAkL3E8y3xxh"
      },
      "source": [
        "# Define array where images array will be saved for training, and where the concepts for each image will be saved (Y)\n",
        "X = []\n",
        "Y = []"
      ],
      "execution_count": null,
      "outputs": []
    },
    {
      "cell_type": "code",
      "metadata": {
        "colab": {
          "base_uri": "https://localhost:8080/"
        },
        "id": "kl8I6XRj3r8z",
        "outputId": "08d17310-72aa-4b4f-c601-c011b0ffbaca"
      },
      "source": [
        "# Training images\n",
        "training_path = '/content/ImageCLEF2021_ConceptDetection_Training-Set/ImageCLEF2021_ConceptDetection_Training-Set/Training-Images'\n",
        "for image in tqdm(os.listdir(training_path), position = 0):\n",
        "  X.append(transform_images(training_path, image))\n",
        "  Y.append(image_id_concepts_dict[image])"
      ],
      "execution_count": null,
      "outputs": [
        {
          "output_type": "stream",
          "text": [
            "100%|██████████| 2756/2756 [00:20<00:00, 132.05it/s]\n"
          ],
          "name": "stderr"
        }
      ]
    },
    {
      "cell_type": "code",
      "metadata": {
        "colab": {
          "base_uri": "https://localhost:8080/"
        },
        "id": "Dv7-szLfIkE-",
        "outputId": "d4ad09bd-e367-4f89-b031-38014fd7087e"
      },
      "source": [
        "3# Validation images images\n",
        "validation_path = '/content/ImageCLEF2021_ConceptDetection_Validation-Set/Validation-Images'\n",
        "for image in tqdm(os.listdir(validation_path), position = 0):\n",
        "  X.append(transform_images(validation_path, image))\n",
        "  Y.append(image_id_concepts_dict[image])"
      ],
      "execution_count": null,
      "outputs": [
        {
          "output_type": "stream",
          "text": [
            "100%|██████████| 500/500 [00:03<00:00, 144.54it/s]\n"
          ],
          "name": "stderr"
        }
      ]
    },
    {
      "cell_type": "code",
      "metadata": {
        "colab": {
          "base_uri": "https://localhost:8080/"
        },
        "id": "XZ1WV0c6z1LL",
        "outputId": "268327a7-ef17-4b51-8203-fa3e89f7e14e"
      },
      "source": [
        "# Transform arrays to numpy arrays\n",
        "X = np.array(X)\n",
        "Y = np.array(Y)"
      ],
      "execution_count": null,
      "outputs": [
        {
          "output_type": "stream",
          "text": [
            "/usr/local/lib/python3.7/dist-packages/ipykernel_launcher.py:3: VisibleDeprecationWarning: Creating an ndarray from ragged nested sequences (which is a list-or-tuple of lists-or-tuples-or ndarrays with different lengths or shapes) is deprecated. If you meant to do this, you must specify 'dtype=object' when creating the ndarray\n",
            "  This is separate from the ipykernel package so we can avoid doing imports until\n"
          ],
          "name": "stderr"
        }
      ]
    },
    {
      "cell_type": "code",
      "metadata": {
        "colab": {
          "base_uri": "https://localhost:8080/"
        },
        "id": "OvAdx7aXz1OE",
        "outputId": "7d10a5c0-c22d-4c6c-f398-05f0213a5457"
      },
      "source": [
        "# Use a multilabelbinarizer to transform the concepts into a binary format for training\n",
        "mlb = MultiLabelBinarizer()\n",
        "Y = mlb.fit_transform(Y)\n",
        "print(len(mlb.classes_))"
      ],
      "execution_count": null,
      "outputs": [
        {
          "output_type": "stream",
          "text": [
            "1585\n"
          ],
          "name": "stdout"
        }
      ]
    },
    {
      "cell_type": "code",
      "metadata": {
        "colab": {
          "base_uri": "https://localhost:8080/"
        },
        "id": "6-JbaP0948GH",
        "outputId": "b356f8db-52bd-4fcb-c28e-57c4ab6fc577"
      },
      "source": [
        "# Fine tunning part\n",
        "default_densenet.trainable = False # Set the densenet-121 layers to train = False before creating new model\n",
        "print(len(default_densenet.trainable_variables))\n",
        "#default_densenet.summary()"
      ],
      "execution_count": null,
      "outputs": [
        {
          "output_type": "stream",
          "text": [
            "0\n"
          ],
          "name": "stdout"
        }
      ]
    },
    {
      "cell_type": "code",
      "metadata": {
        "id": "X9x1OSFD48J2"
      },
      "source": [
        "x = default_densenet.layers[-2].output\n",
        "prediction_layer = tf.keras.layers.Dense(len(mlb.classes_), activation= 'sigmoid')(x)\n",
        "fine_tuned_model = tf.keras.models.Model(inputs = default_densenet.input, outputs = prediction_layer)\n",
        "fine_tuned_model.summary()\n",
        "print(\"Total number of trainable variables (layer weights + bias): \", len(fine_tuned_model.trainable_variables))"
      ],
      "execution_count": null,
      "outputs": []
    },
    {
      "cell_type": "code",
      "metadata": {
        "id": "Podku1Y_48Nm"
      },
      "source": [
        "initial_learning_rate = 0.001\n",
        "lr_schedule = tf.keras.optimizers.schedules.ExponentialDecay(initial_learning_rate, decay_steps=100, decay_rate=0.90, staircase=True)\n",
        "\n",
        "fine_tuned_model.compile(loss = 'binary_crossentropy', optimizer= tf.keras.optimizers.Adam(learning_rate=lr_schedule), metrics = ['acc'])\n",
        "\n",
        "callback_earlystop = tf.keras.callbacks.EarlyStopping(monitor = 'val_loss', patience = 5, restore_best_weights= True)"
      ],
      "execution_count": null,
      "outputs": []
    },
    {
      "cell_type": "code",
      "metadata": {
        "id": "gXE0qIwT48Qj"
      },
      "source": [
        "data_generator = tf.keras.preprocessing.image.ImageDataGenerator(validation_split = 0.2)\n",
        "train_generator = data_generator.flow(X,Y, batch_size = 32, subset = 'training', seed = 14)\n",
        "val_generator = data_generator.flow(X,Y, batch_size = 32, subset = 'validation', seed = 14)"
      ],
      "execution_count": null,
      "outputs": []
    },
    {
      "cell_type": "code",
      "metadata": {
        "colab": {
          "base_uri": "https://localhost:8080/"
        },
        "id": "uLF-pTIe8jw4",
        "outputId": "f1df26a6-a749-459a-8a0f-c12ee5903957"
      },
      "source": [
        "history = fine_tuned_model.fit(train_generator, steps_per_epoch= 50, epochs = 15, validation_data= val_generator, validation_steps = 12, verbose= 1,\n",
        "                               callbacks = [callback_earlystop])"
      ],
      "execution_count": null,
      "outputs": [
        {
          "output_type": "stream",
          "text": [
            "Epoch 1/15\n",
            "50/50 [==============================] - 45s 147ms/step - loss: 0.1769 - acc: 0.1288 - val_loss: 0.0109 - val_acc: 0.2969\n",
            "Epoch 2/15\n",
            "50/50 [==============================] - 6s 116ms/step - loss: 0.0115 - acc: 0.2929 - val_loss: 0.0100 - val_acc: 0.3229\n",
            "Epoch 3/15\n",
            "50/50 [==============================] - 7s 137ms/step - loss: 0.0109 - acc: 0.3163 - val_loss: 0.0100 - val_acc: 0.3646\n",
            "Epoch 4/15\n",
            "50/50 [==============================] - 6s 115ms/step - loss: 0.0103 - acc: 0.3447 - val_loss: 0.0093 - val_acc: 0.3516\n",
            "Epoch 5/15\n",
            "50/50 [==============================] - 6s 117ms/step - loss: 0.0100 - acc: 0.3315 - val_loss: 0.0092 - val_acc: 0.3542\n",
            "Epoch 6/15\n",
            "50/50 [==============================] - 6s 117ms/step - loss: 0.0095 - acc: 0.3347 - val_loss: 0.0097 - val_acc: 0.3490\n",
            "Epoch 7/15\n",
            "50/50 [==============================] - 6s 119ms/step - loss: 0.0094 - acc: 0.3687 - val_loss: 0.0095 - val_acc: 0.3698\n",
            "Epoch 8/15\n",
            "50/50 [==============================] - 6s 118ms/step - loss: 0.0093 - acc: 0.3556 - val_loss: 0.0089 - val_acc: 0.3698\n",
            "Epoch 9/15\n",
            "50/50 [==============================] - 6s 118ms/step - loss: 0.0089 - acc: 0.3519 - val_loss: 0.0089 - val_acc: 0.3724\n",
            "Epoch 10/15\n",
            "50/50 [==============================] - 6s 119ms/step - loss: 0.0086 - acc: 0.3691 - val_loss: 0.0087 - val_acc: 0.3906\n",
            "Epoch 11/15\n",
            "50/50 [==============================] - 6s 120ms/step - loss: 0.0083 - acc: 0.3838 - val_loss: 0.0088 - val_acc: 0.3724\n",
            "Epoch 12/15\n",
            "50/50 [==============================] - 6s 119ms/step - loss: 0.0079 - acc: 0.3680 - val_loss: 0.0087 - val_acc: 0.3828\n",
            "Epoch 13/15\n",
            "50/50 [==============================] - 6s 120ms/step - loss: 0.0077 - acc: 0.3456 - val_loss: 0.0087 - val_acc: 0.3698\n",
            "Epoch 14/15\n",
            "50/50 [==============================] - 6s 121ms/step - loss: 0.0074 - acc: 0.3703 - val_loss: 0.0086 - val_acc: 0.3594\n",
            "Epoch 15/15\n",
            "50/50 [==============================] - 6s 121ms/step - loss: 0.0074 - acc: 0.3849 - val_loss: 0.0083 - val_acc: 0.3828\n"
          ],
          "name": "stdout"
        }
      ]
    },
    {
      "cell_type": "code",
      "metadata": {
        "id": "lqBL5P4y8j0h"
      },
      "source": [
        "default_densenet.trainable = True"
      ],
      "execution_count": null,
      "outputs": []
    },
    {
      "cell_type": "code",
      "metadata": {
        "id": "tp6JAmHA8j3x"
      },
      "source": [
        "fine_tune_at = 277\n",
        "\n",
        "for layer in default_densenet.layers[:fine_tune_at]:\n",
        "  layer.trainable = False"
      ],
      "execution_count": null,
      "outputs": []
    },
    {
      "cell_type": "code",
      "metadata": {
        "colab": {
          "base_uri": "https://localhost:8080/"
        },
        "id": "90Sfv3ho-lHn",
        "outputId": "9456e3c5-1243-40b4-fd9e-f308c5e6058c"
      },
      "source": [
        "print(len(default_densenet.trainable_variables))"
      ],
      "execution_count": null,
      "outputs": [
        {
          "output_type": "stream",
          "text": [
            "130\n"
          ],
          "name": "stdout"
        }
      ]
    },
    {
      "cell_type": "code",
      "metadata": {
        "id": "HOsryQU9-8nX"
      },
      "source": [
        "initial_learning_rate = 0.001\n",
        "lr_schedule = tf.keras.optimizers.schedules.ExponentialDecay(initial_learning_rate, decay_steps=100, decay_rate=0.90, staircase=True)\n",
        "\n",
        "fine_tuned_model.compile(loss='binary_crossentropy', optimizer= tf.keras.optimizers.Adam(learning_rate=lr_schedule), metrics = ['acc'])"
      ],
      "execution_count": null,
      "outputs": []
    },
    {
      "cell_type": "code",
      "metadata": {
        "colab": {
          "base_uri": "https://localhost:8080/"
        },
        "id": "MC2b1xe1-8rz",
        "outputId": "3ce78533-a67b-4dd8-c441-a64ee539321d"
      },
      "source": [
        "fine_tune_epochs = 20\n",
        "total_epochs =  15 + fine_tune_epochs\n",
        "\n",
        "history_fine = fine_tuned_model.fit(train_generator, steps_per_epoch= 50, epochs = total_epochs, validation_data= val_generator, validation_steps = 12, \n",
        "                                    verbose= 1, callbacks = [callback_earlystop], initial_epoch = history.epoch[-1])"
      ],
      "execution_count": null,
      "outputs": [
        {
          "output_type": "stream",
          "text": [
            "Epoch 15/35\n",
            "50/50 [==============================] - 17s 193ms/step - loss: 0.0084 - acc: 0.3462 - val_loss: 0.0107 - val_acc: 0.3854\n",
            "Epoch 16/35\n",
            "50/50 [==============================] - 8s 153ms/step - loss: 0.0068 - acc: 0.3773 - val_loss: 0.0088 - val_acc: 0.3854\n",
            "Epoch 17/35\n",
            "50/50 [==============================] - 8s 155ms/step - loss: 0.0055 - acc: 0.3757 - val_loss: 0.0078 - val_acc: 0.3828\n",
            "Epoch 18/35\n",
            "50/50 [==============================] - 8s 157ms/step - loss: 0.0044 - acc: 0.3831 - val_loss: 0.0079 - val_acc: 0.3750\n",
            "Epoch 19/35\n",
            "50/50 [==============================] - 8s 156ms/step - loss: 0.0037 - acc: 0.3390 - val_loss: 0.0071 - val_acc: 0.3646\n",
            "Epoch 20/35\n",
            "50/50 [==============================] - 8s 159ms/step - loss: 0.0029 - acc: 0.3762 - val_loss: 0.0075 - val_acc: 0.3776\n",
            "Epoch 21/35\n",
            "50/50 [==============================] - 8s 157ms/step - loss: 0.0023 - acc: 0.3738 - val_loss: 0.0070 - val_acc: 0.3828\n",
            "Epoch 22/35\n",
            "50/50 [==============================] - 8s 158ms/step - loss: 0.0019 - acc: 0.3823 - val_loss: 0.0068 - val_acc: 0.3958\n",
            "Epoch 23/35\n",
            "50/50 [==============================] - 8s 160ms/step - loss: 0.0015 - acc: 0.3859 - val_loss: 0.0070 - val_acc: 0.3620\n",
            "Epoch 24/35\n",
            "50/50 [==============================] - 8s 158ms/step - loss: 0.0011 - acc: 0.3877 - val_loss: 0.0073 - val_acc: 0.3906\n",
            "Epoch 25/35\n",
            "50/50 [==============================] - 8s 158ms/step - loss: 9.2329e-04 - acc: 0.3784 - val_loss: 0.0070 - val_acc: 0.3880\n",
            "Epoch 26/35\n",
            "50/50 [==============================] - 8s 160ms/step - loss: 7.2168e-04 - acc: 0.3811 - val_loss: 0.0071 - val_acc: 0.4062\n",
            "Epoch 27/35\n",
            "50/50 [==============================] - 8s 157ms/step - loss: 5.2548e-04 - acc: 0.4061 - val_loss: 0.0072 - val_acc: 0.4167\n"
          ],
          "name": "stdout"
        }
      ]
    },
    {
      "cell_type": "code",
      "metadata": {
        "id": "4SR9Y1d4AC2B"
      },
      "source": [
        "fine_tuned_model.save('fine-tuned-model-224-densenet121-2021.h5')"
      ],
      "execution_count": null,
      "outputs": []
    },
    {
      "cell_type": "code",
      "metadata": {
        "id": "YhaVChiCu3ON"
      },
      "source": [
        "# Load model when training is not needed\n",
        "#fine_tuned_model = tf.keras.models.load_model('/content/fine-tuned-model-densenet121-2021.h5')\n",
        "fine_tuned_model.summary()"
      ],
      "execution_count": null,
      "outputs": []
    },
    {
      "cell_type": "code",
      "metadata": {
        "id": "WXIClVoPApBX"
      },
      "source": [
        "get_layer_output = tf.keras.backend.function([fine_tuned_model.layers[0].input],[fine_tuned_model.layers[-2].output])"
      ],
      "execution_count": null,
      "outputs": []
    },
    {
      "cell_type": "code",
      "metadata": {
        "id": "aLpFPUaJBctO"
      },
      "source": [
        "def feedForward_finetuned(fname,get_layer_output):\n",
        "\n",
        "    img = tf.keras.preprocessing.image.load_img(fname, target_size=(224,224))\n",
        "    x = tf.keras.preprocessing.image.img_to_array(img)\n",
        "    x = np.expand_dims(x, axis = 0)\n",
        "    x = tf.keras.applications.densenet.preprocess_input(x)\n",
        "    features = get_layer_output([x])[0]\n",
        "    features = features.flatten()\n",
        "\n",
        "    return features\n",
        "\n",
        "def extract_store_finetuned(path_dir, model):\n",
        "  \"\"\"\n",
        "    Function that takes a path and passes all the images (inside that directory) to the feedForward function for feature extraction, and then creates\n",
        "    a dataframe containing all features and image ids of the images.\n",
        "    path_dir: full path of the directory that will be searched\n",
        "    model: model to be used for feature extraction\n",
        "\n",
        "    Returns: A pandas DataFrame containing all images and their corresponding features\n",
        "  \"\"\"\n",
        "  id_features_vector = []\n",
        "  print('Extracting features...')\n",
        "\n",
        "  for image in tqdm(os.listdir(path_dir), position= 0, leave = False):\n",
        "    path = os.path.join(path_dir, image)\n",
        "    name_image = os.path.splitext(image)[0]\n",
        "    image_id = int(name_image.replace('synpic',''))\n",
        "    vector = feedForward_finetuned(path, model)\n",
        "    vector = np.insert(vector,0,image_id)\n",
        "    id_features_vector.append(vector)\n",
        "\n",
        "\n",
        "  #df_values = pd.DataFrame(id_features_vector, dtype = float)\n",
        "\n",
        "  return id_features_vector"
      ],
      "execution_count": null,
      "outputs": []
    },
    {
      "cell_type": "code",
      "metadata": {
        "colab": {
          "base_uri": "https://localhost:8080/"
        },
        "id": "AciDjrQaAQiz",
        "outputId": "96adebfc-f078-4264-b9b5-8614aa542f6f"
      },
      "source": [
        "# Training set\n",
        "id_features_vector = extract_store_finetuned('/content/ImageCLEF2021_ConceptDetection_Training-Set/ImageCLEF2021_ConceptDetection_Training-Set/Training-Images', get_layer_output)\n",
        "#default_features_df.to_csv('/content/features-densenet-fined-training-2021.csv', index = False, header=False)\n",
        "np.save('/content/features-224-densenet-fined-training-2021.npy', id_features_vector)\n",
        "# Validation set\n",
        "id_features_vector = extract_store_finetuned('/content/ImageCLEF2021_ConceptDetection_Validation-Set/Validation-Images', get_layer_output)\n",
        "#default_features_df.to_csv('/content/features-densenet-fined-validation-2021.csv', index = False, header=False)\n",
        "np.save('/content/features-224-densenet-fined-validation-2021.npy', id_features_vector)"
      ],
      "execution_count": null,
      "outputs": [
        {
          "output_type": "stream",
          "text": [
            "  0%|          | 1/2756 [00:00<05:48,  7.90it/s]"
          ],
          "name": "stderr"
        },
        {
          "output_type": "stream",
          "text": [
            "Extracting features...\n"
          ],
          "name": "stdout"
        },
        {
          "output_type": "stream",
          "text": [
            "  0%|          | 1/500 [00:00<01:09,  7.14it/s]"
          ],
          "name": "stderr"
        },
        {
          "output_type": "stream",
          "text": [
            "Extracting features...\n"
          ],
          "name": "stdout"
        },
        {
          "output_type": "stream",
          "text": [
            ""
          ],
          "name": "stderr"
        }
      ]
    },
    {
      "cell_type": "markdown",
      "metadata": {
        "id": "3AXIhpwIqu8p"
      },
      "source": [
        "## Modality classifier model (with weigths from previous training) wo fine-tunning"
      ]
    },
    {
      "cell_type": "code",
      "metadata": {
        "id": "11r_DjjQrImK"
      },
      "source": [
        "# Load best model (modality classifier) and use as a feature extractor\n",
        "modality_clf_base = tf.keras.models.load_model('/content/densenet121-modality-classifier-224-best.h5')"
      ],
      "execution_count": null,
      "outputs": []
    },
    {
      "cell_type": "code",
      "metadata": {
        "id": "lMnMuMWuXBjP"
      },
      "source": [
        "modality_clf_base.summary()"
      ],
      "execution_count": null,
      "outputs": []
    },
    {
      "cell_type": "code",
      "metadata": {
        "id": "S8KY58TDs3kJ"
      },
      "source": [
        "# This is to create a function that given a input, it returns the output of layer within a model. Layer[-6] is a BatchNormalization layer.\n",
        "get_layer_output = tf.keras.backend.function([modality_clf_base.layers[0].input],[modality_clf_base.layers[-4].output])"
      ],
      "execution_count": null,
      "outputs": []
    },
    {
      "cell_type": "code",
      "metadata": {
        "id": "YQyz6lfIrIpV"
      },
      "source": [
        "def feedForward_finetuned(fname,get_layer_output):\n",
        "\n",
        "    img = tf.keras.preprocessing.image.load_img(fname, target_size=(224,224))\n",
        "    x = tf.keras.preprocessing.image.img_to_array(img)\n",
        "    x = np.expand_dims(x, axis = 0)\n",
        "    x = tf.keras.applications.densenet.preprocess_input(x)\n",
        "    features = get_layer_output([x])[0]\n",
        "    features = features.flatten()\n",
        "\n",
        "    return features\n",
        "\n",
        "def extract_store_finetuned(path_dir, model):\n",
        "  \"\"\"\n",
        "    Function that takes a path and passes all the images (inside that directory) to the feedForward function for feature extraction, and then creates\n",
        "    a dataframe containing all features and image ids of the images.\n",
        "    path_dir: full path of the directory that will be searched\n",
        "    model: model to be used for feature extraction\n",
        "\n",
        "    Returns: A pandas DataFrame containing all images and their corresponding features\n",
        "  \"\"\"\n",
        "  id_features_vector = []\n",
        "  print('Extracting features...')\n",
        "\n",
        "  for image in tqdm(os.listdir(path_dir), position= 0, leave = False):\n",
        "    path = os.path.join(path_dir, image)\n",
        "    name_image = os.path.splitext(image)[0]\n",
        "    image_id = int(name_image.replace('synpic',''))\n",
        "    vector = feedForward_finetuned(path, model)\n",
        "    vector = np.insert(vector,0,image_id)\n",
        "    id_features_vector.append(vector)\n",
        "\n",
        "\n",
        "  #df_values = pd.DataFrame(id_features_vector, dtype = float)\n",
        "\n",
        "  return id_features_vector"
      ],
      "execution_count": null,
      "outputs": []
    },
    {
      "cell_type": "code",
      "metadata": {
        "colab": {
          "base_uri": "https://localhost:8080/"
        },
        "id": "GXJ6d8gbrIr7",
        "outputId": "efb91684-57cc-4359-b088-a662359a44df"
      },
      "source": [
        "# Training set\n",
        "id_features_vector = extract_store_finetuned('/content/ImageCLEF2021_ConceptDetection_Training-Set/ImageCLEF2021_ConceptDetection_Training-Set/Training-Images', get_layer_output)\n",
        "#default_features_df.to_csv('/content/features-densenet-modality-clf-training-2021.csv', index = False, header=False)\n",
        "np.save('/content/features-224-densenet-modality-clf-training-2021.npy', id_features_vector)\n",
        "# Validation set\n",
        "id_features_vector = extract_store_finetuned('/content/ImageCLEF2021_ConceptDetection_Validation-Set/Validation-Images', get_layer_output)\n",
        "np.save('/content/features-224-densenet-modality-clf-validation-2021.npy', id_features_vector)\n",
        "#default_features_df.to_csv('/content/features-densenet-modalityclf-validation-2021.csv', index = False, header=False)"
      ],
      "execution_count": null,
      "outputs": [
        {
          "output_type": "stream",
          "text": [
            "\r  0%|          | 0/2756 [00:00<?, ?it/s]"
          ],
          "name": "stderr"
        },
        {
          "output_type": "stream",
          "text": [
            "Extracting features...\n"
          ],
          "name": "stdout"
        },
        {
          "output_type": "stream",
          "text": [
            "  0%|          | 1/500 [00:00<01:01,  8.09it/s]"
          ],
          "name": "stderr"
        },
        {
          "output_type": "stream",
          "text": [
            "Extracting features...\n"
          ],
          "name": "stdout"
        },
        {
          "output_type": "stream",
          "text": [
            ""
          ],
          "name": "stderr"
        }
      ]
    },
    {
      "cell_type": "markdown",
      "metadata": {
        "id": "CJvBX9hvfBAI"
      },
      "source": [
        "## Modality classifier model (with weigths from previous training) with fine-tunning"
      ]
    },
    {
      "cell_type": "code",
      "metadata": {
        "id": "379ZIwMMfFn3"
      },
      "source": [
        "# Load best model (modality classifier) and use as a feature extractor\n",
        "modality_clf_base_fine = tf.keras.models.load_model('/content/densenet121-modality-classifier-224-best.h5')\n",
        "modality_clf_base_fine.trainable = False\n",
        "modality_clf_base_fine.summary()"
      ],
      "execution_count": null,
      "outputs": []
    },
    {
      "cell_type": "code",
      "metadata": {
        "id": "XUVNsEr4fFqr"
      },
      "source": [
        "model2 = tf.keras.models.Model(inputs = modality_clf_base_fine.input, outputs = modality_clf_base_fine.layers[-2].output)"
      ],
      "execution_count": null,
      "outputs": []
    },
    {
      "cell_type": "code",
      "metadata": {
        "id": "xUDyItXpfFtk"
      },
      "source": [
        "# Utils functions\n",
        "def extract_concepts(root_paths, csv_names, image_id_concepts_dict = dict()):\n",
        "\n",
        "    if len(root_paths)==len(csv_names):\n",
        "      for idx, name in enumerate(root_paths):\n",
        "        path = os.path.join(name, csv_names[idx])\n",
        "        if csv_names[idx] == 'Training_Set_Concepts.csv': # Make sure that you just convert the .xlsx file to csv manually\n",
        "          with open(path, \"r\", encoding= 'utf-8-sig') as f:\n",
        "            reader = csv.reader(f, delimiter = ',')\n",
        "            for i, line in enumerate(reader):\n",
        "              image_id_concepts_dict[line[0]+'.jpg'] = list(line[1].split(';'))\n",
        "        else:\n",
        "           with open(path, \"r\", encoding= 'utf-8-sig') as f:\n",
        "            reader = csv.reader(f, delimiter = '\\t')\n",
        "            for i, line in enumerate(reader):\n",
        "              image_id_concepts_dict[line[0]+'.jpg'] = list(line[1].split(';'))\n",
        "\n",
        "    return image_id_concepts_dict\n",
        "\n",
        "def transform_images(training_images_dir, image):\n",
        "  path_to_image = os.path.join(training_images_dir, image)\n",
        "  img = tf.keras.preprocessing.image.load_img(path = path_to_image, target_size= (64,64))\n",
        "  img = tf.keras.preprocessing.image.img_to_array(img)\n",
        "  img = tf.keras.applications.densenet.preprocess_input(img)\n",
        "\n",
        "  return img"
      ],
      "execution_count": null,
      "outputs": []
    },
    {
      "cell_type": "code",
      "metadata": {
        "id": "A-Dyrwr3fFze"
      },
      "source": [
        "# Path and csv name to concepts file for training and validation images\n",
        "path_to_concepts = ['/content/ImageCLEF2021_ConceptDetection_Training-Set/ImageCLEF2021_ConceptDetection_Training-Set',\n",
        "                    '/content/ImageCLEF2021_ConceptDetection_Validation-Set']\n",
        "concepts_file_name = ['Training_Set_Concepts.csv', 'Validation_Set_Concepts.csv']\n",
        "\n",
        "#Extract concepts for the validation and training images and save to dict\n",
        "image_id_concepts_dict = extract_concepts(path_to_concepts,concepts_file_name)"
      ],
      "execution_count": null,
      "outputs": []
    },
    {
      "cell_type": "code",
      "metadata": {
        "id": "5UXqiSx5fF2f"
      },
      "source": [
        "# Define array where images array will be saved for training, and where the concepts for each image will be saved (Y)\n",
        "X = []\n",
        "Y = []"
      ],
      "execution_count": null,
      "outputs": []
    },
    {
      "cell_type": "code",
      "metadata": {
        "id": "0d-ZfRCZfF5f",
        "colab": {
          "base_uri": "https://localhost:8080/"
        },
        "outputId": "dae2ae10-d885-4d3a-9af0-9d21215feeb8"
      },
      "source": [
        "# Training images\n",
        "training_path = '/content/ImageCLEF2021_ConceptDetection_Training-Set/ImageCLEF2021_ConceptDetection_Training-Set/Training-Images'\n",
        "for image in tqdm(os.listdir(training_path), position = 0):\n",
        "  X.append(transform_images(training_path, image))\n",
        "  Y.append(image_id_concepts_dict[image])"
      ],
      "execution_count": null,
      "outputs": [
        {
          "output_type": "stream",
          "text": [
            "100%|██████████| 2756/2756 [00:18<00:00, 147.21it/s]\n"
          ],
          "name": "stderr"
        }
      ]
    },
    {
      "cell_type": "code",
      "metadata": {
        "id": "1ZGHha3VfF8a",
        "colab": {
          "base_uri": "https://localhost:8080/"
        },
        "outputId": "4ec570e4-d334-45a3-ed09-d3763a574504"
      },
      "source": [
        "# Validation images images\n",
        "validation_path = '/content/ImageCLEF2021_ConceptDetection_Validation-Set/Validation-Images'\n",
        "for image in tqdm(os.listdir(validation_path), position = 0):\n",
        "  X.append(transform_images(validation_path, image))\n",
        "  Y.append(image_id_concepts_dict[image])"
      ],
      "execution_count": null,
      "outputs": [
        {
          "output_type": "stream",
          "text": [
            "100%|██████████| 500/500 [00:03<00:00, 162.76it/s]\n"
          ],
          "name": "stderr"
        }
      ]
    },
    {
      "cell_type": "code",
      "metadata": {
        "id": "u-NkxBHWfF_S",
        "colab": {
          "base_uri": "https://localhost:8080/"
        },
        "outputId": "ad9ee7db-de79-46f8-88b2-e001ce0e9351"
      },
      "source": [
        "# Transform arrays to numpy arrays\n",
        "X = np.array(X)\n",
        "Y = np.array(Y)"
      ],
      "execution_count": null,
      "outputs": [
        {
          "output_type": "stream",
          "text": [
            "/usr/local/lib/python3.7/dist-packages/ipykernel_launcher.py:3: VisibleDeprecationWarning: Creating an ndarray from ragged nested sequences (which is a list-or-tuple of lists-or-tuples-or ndarrays with different lengths or shapes) is deprecated. If you meant to do this, you must specify 'dtype=object' when creating the ndarray\n",
            "  This is separate from the ipykernel package so we can avoid doing imports until\n"
          ],
          "name": "stderr"
        }
      ]
    },
    {
      "cell_type": "code",
      "metadata": {
        "id": "Rqh8QIHUfGB_",
        "colab": {
          "base_uri": "https://localhost:8080/"
        },
        "outputId": "5c610832-2781-4d2b-c5a3-2bc3e3be25c9"
      },
      "source": [
        "# Use a multilabelbinarizer to transform the concepts into a binary format for training\n",
        "mlb = MultiLabelBinarizer()\n",
        "Y = mlb.fit_transform(Y)\n",
        "print(len(mlb.classes_))"
      ],
      "execution_count": null,
      "outputs": [
        {
          "output_type": "stream",
          "text": [
            "1585\n"
          ],
          "name": "stdout"
        }
      ]
    },
    {
      "cell_type": "code",
      "metadata": {
        "colab": {
          "base_uri": "https://localhost:8080/"
        },
        "id": "aCJTj-0vBph6",
        "outputId": "bb000fe0-37c8-47c7-b2bd-58fa7558a1b3"
      },
      "source": [
        "x = model2.output\n",
        "prediction_layer = tf.keras.layers.Dense(len(mlb.classes_), activation= 'sigmoid')(x)\n",
        "fine_tuned_model = tf.keras.models.Model(inputs = model2.input, outputs = prediction_layer)\n",
        "print(\"Total number of trainable variables (layer weights + bias): \", len(fine_tuned_model.trainable_variables))"
      ],
      "execution_count": null,
      "outputs": [
        {
          "output_type": "stream",
          "text": [
            "Total number of trainable variables (layer weights + bias):  2\n"
          ],
          "name": "stdout"
        }
      ]
    },
    {
      "cell_type": "code",
      "metadata": {
        "id": "rHn9DiEz8O6s"
      },
      "source": [
        "fine_tuned_model.summary()"
      ],
      "execution_count": null,
      "outputs": []
    },
    {
      "cell_type": "code",
      "metadata": {
        "id": "bH-CfTHgBpoh"
      },
      "source": [
        "initial_learning_rate = 0.001\n",
        "lr_schedule = tf.keras.optimizers.schedules.ExponentialDecay(initial_learning_rate, decay_steps=100, decay_rate=0.90, staircase=True)\n",
        "\n",
        "fine_tuned_model.compile(loss = 'binary_crossentropy', optimizer= tf.keras.optimizers.Adam(learning_rate=lr_schedule), metrics = ['acc'])\n",
        "\n",
        "callback_earlystop = tf.keras.callbacks.EarlyStopping(monitor = 'val_loss', patience = 5, restore_best_weights= True)"
      ],
      "execution_count": null,
      "outputs": []
    },
    {
      "cell_type": "code",
      "metadata": {
        "id": "niM3kHCRBprN"
      },
      "source": [
        "data_generator = tf.keras.preprocessing.image.ImageDataGenerator(validation_split = 0.2)\n",
        "train_generator = data_generator.flow(X,Y, batch_size = 32, subset = 'training', seed = 14)\n",
        "val_generator = data_generator.flow(X,Y, batch_size = 32, subset = 'validation', seed = 14)"
      ],
      "execution_count": null,
      "outputs": []
    },
    {
      "cell_type": "code",
      "metadata": {
        "colab": {
          "base_uri": "https://localhost:8080/"
        },
        "id": "xQ6AlacFDLH0",
        "outputId": "158a7f0c-d954-4dae-f00d-69821c349815"
      },
      "source": [
        "history = fine_tuned_model.fit(train_generator, steps_per_epoch= 50, epochs = 15, validation_data= val_generator, validation_steps = 12, verbose= 1,\n",
        "                               callbacks = [callback_earlystop])"
      ],
      "execution_count": null,
      "outputs": [
        {
          "output_type": "stream",
          "text": [
            "Epoch 1/15\n",
            "50/50 [==============================] - 41s 68ms/step - loss: 0.2150 - acc: 0.1272 - val_loss: 0.0139 - val_acc: 0.2708\n",
            "Epoch 2/15\n",
            "50/50 [==============================] - 1s 22ms/step - loss: 0.0147 - acc: 0.2465 - val_loss: 0.0122 - val_acc: 0.2656\n",
            "Epoch 3/15\n",
            "50/50 [==============================] - 1s 22ms/step - loss: 0.0131 - acc: 0.2676 - val_loss: 0.0122 - val_acc: 0.3307\n",
            "Epoch 4/15\n",
            "50/50 [==============================] - 1s 22ms/step - loss: 0.0125 - acc: 0.2864 - val_loss: 0.0114 - val_acc: 0.2708\n",
            "Epoch 5/15\n",
            "50/50 [==============================] - 1s 22ms/step - loss: 0.0118 - acc: 0.2786 - val_loss: 0.0110 - val_acc: 0.3151\n",
            "Epoch 6/15\n",
            "50/50 [==============================] - 1s 22ms/step - loss: 0.0114 - acc: 0.3040 - val_loss: 0.0115 - val_acc: 0.2995\n",
            "Epoch 7/15\n",
            "50/50 [==============================] - 1s 21ms/step - loss: 0.0110 - acc: 0.2806 - val_loss: 0.0114 - val_acc: 0.2839\n",
            "Epoch 8/15\n",
            "50/50 [==============================] - 1s 22ms/step - loss: 0.0111 - acc: 0.2928 - val_loss: 0.0107 - val_acc: 0.2891\n",
            "Epoch 9/15\n",
            "50/50 [==============================] - 1s 22ms/step - loss: 0.0107 - acc: 0.2741 - val_loss: 0.0107 - val_acc: 0.3229\n",
            "Epoch 10/15\n",
            "50/50 [==============================] - 1s 22ms/step - loss: 0.0108 - acc: 0.3032 - val_loss: 0.0105 - val_acc: 0.3177\n",
            "Epoch 11/15\n",
            "50/50 [==============================] - 1s 22ms/step - loss: 0.0106 - acc: 0.3016 - val_loss: 0.0107 - val_acc: 0.2943\n",
            "Epoch 12/15\n",
            "50/50 [==============================] - 1s 22ms/step - loss: 0.0103 - acc: 0.2951 - val_loss: 0.0107 - val_acc: 0.3073\n",
            "Epoch 13/15\n",
            "50/50 [==============================] - 1s 22ms/step - loss: 0.0102 - acc: 0.2871 - val_loss: 0.0105 - val_acc: 0.2969\n",
            "Epoch 14/15\n",
            "50/50 [==============================] - 1s 22ms/step - loss: 0.0098 - acc: 0.3037 - val_loss: 0.0106 - val_acc: 0.2891\n",
            "Epoch 15/15\n",
            "50/50 [==============================] - 1s 21ms/step - loss: 0.0096 - acc: 0.3075 - val_loss: 0.0101 - val_acc: 0.3125\n"
          ],
          "name": "stdout"
        }
      ]
    },
    {
      "cell_type": "code",
      "metadata": {
        "id": "oTzwOKUSDLLN"
      },
      "source": [
        "model2.trainable = True"
      ],
      "execution_count": null,
      "outputs": []
    },
    {
      "cell_type": "code",
      "metadata": {
        "id": "jysOFxc5DLNp"
      },
      "source": [
        "fine_tune_at = 277\n",
        "\n",
        "for layer in model2.layers[:fine_tune_at]:\n",
        "  layer.trainable = False"
      ],
      "execution_count": null,
      "outputs": []
    },
    {
      "cell_type": "code",
      "metadata": {
        "id": "9D0Mj2uvD62N"
      },
      "source": [
        "fine_tuned_model.summary()"
      ],
      "execution_count": null,
      "outputs": []
    },
    {
      "cell_type": "code",
      "metadata": {
        "id": "Yove6DIRD64V"
      },
      "source": [
        "initial_learning_rate = 0.001\n",
        "lr_schedule = tf.keras.optimizers.schedules.ExponentialDecay(initial_learning_rate, decay_steps=100, decay_rate=0.90, staircase=True)\n",
        "\n",
        "fine_tuned_model.compile(loss = 'binary_crossentropy', optimizer= tf.keras.optimizers.Adam(learning_rate=lr_schedule), metrics = ['acc'])"
      ],
      "execution_count": null,
      "outputs": []
    },
    {
      "cell_type": "code",
      "metadata": {
        "colab": {
          "base_uri": "https://localhost:8080/"
        },
        "id": "Zc7oD9VzD68G",
        "outputId": "86319dab-317c-4b94-ffb1-fe00ef5097c3"
      },
      "source": [
        "fine_tune_epochs = 50\n",
        "total_epochs =  15 + fine_tune_epochs\n",
        "\n",
        "history_fine = fine_tuned_model.fit(train_generator, steps_per_epoch= 50, epochs = total_epochs, validation_data= val_generator, validation_steps = 12, \n",
        "                                    verbose= 1, callbacks = [callback_earlystop], initial_epoch = history.epoch[-1])"
      ],
      "execution_count": null,
      "outputs": [
        {
          "output_type": "stream",
          "text": [
            "Epoch 15/65\n",
            "50/50 [==============================] - 11s 75ms/step - loss: 0.0127 - acc: 0.2405 - val_loss: 0.0111 - val_acc: 0.2630\n",
            "Epoch 16/65\n",
            "50/50 [==============================] - 2s 36ms/step - loss: 0.0090 - acc: 0.3304 - val_loss: 0.0103 - val_acc: 0.3177\n",
            "Epoch 17/65\n",
            "50/50 [==============================] - 2s 37ms/step - loss: 0.0078 - acc: 0.3452 - val_loss: 0.0092 - val_acc: 0.3359\n",
            "Epoch 18/65\n",
            "50/50 [==============================] - 2s 37ms/step - loss: 0.0071 - acc: 0.3550 - val_loss: 0.0091 - val_acc: 0.3385\n",
            "Epoch 19/65\n",
            "50/50 [==============================] - 2s 37ms/step - loss: 0.0061 - acc: 0.3528 - val_loss: 0.0083 - val_acc: 0.3307\n",
            "Epoch 20/65\n",
            "50/50 [==============================] - 2s 36ms/step - loss: 0.0052 - acc: 0.3668 - val_loss: 0.0088 - val_acc: 0.3594\n",
            "Epoch 21/65\n",
            "50/50 [==============================] - 2s 36ms/step - loss: 0.0047 - acc: 0.3575 - val_loss: 0.0081 - val_acc: 0.3698\n",
            "Epoch 22/65\n",
            "50/50 [==============================] - 2s 36ms/step - loss: 0.0042 - acc: 0.3625 - val_loss: 0.0082 - val_acc: 0.3750\n",
            "Epoch 23/65\n",
            "50/50 [==============================] - 2s 37ms/step - loss: 0.0036 - acc: 0.3818 - val_loss: 0.0083 - val_acc: 0.3385\n",
            "Epoch 24/65\n",
            "50/50 [==============================] - 2s 37ms/step - loss: 0.0029 - acc: 0.3995 - val_loss: 0.0085 - val_acc: 0.3620\n",
            "Epoch 25/65\n",
            "50/50 [==============================] - 2s 36ms/step - loss: 0.0024 - acc: 0.3504 - val_loss: 0.0081 - val_acc: 0.3542\n",
            "Epoch 26/65\n",
            "50/50 [==============================] - 2s 37ms/step - loss: 0.0021 - acc: 0.3555 - val_loss: 0.0085 - val_acc: 0.3750\n",
            "Epoch 27/65\n",
            "50/50 [==============================] - 2s 36ms/step - loss: 0.0018 - acc: 0.3771 - val_loss: 0.0085 - val_acc: 0.3828\n",
            "Epoch 28/65\n",
            "50/50 [==============================] - 2s 36ms/step - loss: 0.0015 - acc: 0.3547 - val_loss: 0.0084 - val_acc: 0.3620\n",
            "Epoch 29/65\n",
            "50/50 [==============================] - 2s 37ms/step - loss: 0.0012 - acc: 0.3707 - val_loss: 0.0086 - val_acc: 0.3490\n",
            "Epoch 30/65\n",
            "50/50 [==============================] - 2s 37ms/step - loss: 0.0010 - acc: 0.3775 - val_loss: 0.0081 - val_acc: 0.3620\n"
          ],
          "name": "stdout"
        }
      ]
    },
    {
      "cell_type": "code",
      "metadata": {
        "id": "uO-ayNtcD69w"
      },
      "source": [
        "fine_tuned_model.save('fine-tuned-224-modality-clf-densenet121-2021.h5')"
      ],
      "execution_count": null,
      "outputs": []
    },
    {
      "cell_type": "code",
      "metadata": {
        "colab": {
          "base_uri": "https://localhost:8080/"
        },
        "id": "8eKOKHybyZYE",
        "outputId": "de4efb6f-fd39-4b82-c038-009e35d794bc"
      },
      "source": [
        "fine_tuned_model = tf.keras.models.load_model('/content/fine-tuned-224-modality-clf-densenet121-2021.h5')\n",
        "fine_tuned_model.summary()"
      ],
      "execution_count": null,
      "outputs": [
        {
          "output_type": "stream",
          "text": [
            "Model: \"model_3\"\n",
            "__________________________________________________________________________________________________\n",
            "Layer (type)                    Output Shape         Param #     Connected to                     \n",
            "==================================================================================================\n",
            "input_5 (InputLayer)            [(None, 224, 224, 3) 0                                            \n",
            "__________________________________________________________________________________________________\n",
            "zero_padding2d_8 (ZeroPadding2D (None, 230, 230, 3)  0           input_5[0][0]                    \n",
            "__________________________________________________________________________________________________\n",
            "conv1/conv (Conv2D)             (None, 112, 112, 64) 9408        zero_padding2d_8[0][0]           \n",
            "__________________________________________________________________________________________________\n",
            "conv1/bn (BatchNormalization)   (None, 112, 112, 64) 256         conv1/conv[0][0]                 \n",
            "__________________________________________________________________________________________________\n",
            "conv1/relu (Activation)         (None, 112, 112, 64) 0           conv1/bn[0][0]                   \n",
            "__________________________________________________________________________________________________\n",
            "zero_padding2d_9 (ZeroPadding2D (None, 114, 114, 64) 0           conv1/relu[0][0]                 \n",
            "__________________________________________________________________________________________________\n",
            "pool1 (MaxPooling2D)            (None, 56, 56, 64)   0           zero_padding2d_9[0][0]           \n",
            "__________________________________________________________________________________________________\n",
            "conv2_block1_0_bn (BatchNormali (None, 56, 56, 64)   256         pool1[0][0]                      \n",
            "__________________________________________________________________________________________________\n",
            "conv2_block1_0_relu (Activation (None, 56, 56, 64)   0           conv2_block1_0_bn[0][0]          \n",
            "__________________________________________________________________________________________________\n",
            "conv2_block1_1_conv (Conv2D)    (None, 56, 56, 128)  8192        conv2_block1_0_relu[0][0]        \n",
            "__________________________________________________________________________________________________\n",
            "conv2_block1_1_bn (BatchNormali (None, 56, 56, 128)  512         conv2_block1_1_conv[0][0]        \n",
            "__________________________________________________________________________________________________\n",
            "conv2_block1_1_relu (Activation (None, 56, 56, 128)  0           conv2_block1_1_bn[0][0]          \n",
            "__________________________________________________________________________________________________\n",
            "conv2_block1_2_conv (Conv2D)    (None, 56, 56, 32)   36864       conv2_block1_1_relu[0][0]        \n",
            "__________________________________________________________________________________________________\n",
            "conv2_block1_concat (Concatenat (None, 56, 56, 96)   0           pool1[0][0]                      \n",
            "                                                                 conv2_block1_2_conv[0][0]        \n",
            "__________________________________________________________________________________________________\n",
            "conv2_block2_0_bn (BatchNormali (None, 56, 56, 96)   384         conv2_block1_concat[0][0]        \n",
            "__________________________________________________________________________________________________\n",
            "conv2_block2_0_relu (Activation (None, 56, 56, 96)   0           conv2_block2_0_bn[0][0]          \n",
            "__________________________________________________________________________________________________\n",
            "conv2_block2_1_conv (Conv2D)    (None, 56, 56, 128)  12288       conv2_block2_0_relu[0][0]        \n",
            "__________________________________________________________________________________________________\n",
            "conv2_block2_1_bn (BatchNormali (None, 56, 56, 128)  512         conv2_block2_1_conv[0][0]        \n",
            "__________________________________________________________________________________________________\n",
            "conv2_block2_1_relu (Activation (None, 56, 56, 128)  0           conv2_block2_1_bn[0][0]          \n",
            "__________________________________________________________________________________________________\n",
            "conv2_block2_2_conv (Conv2D)    (None, 56, 56, 32)   36864       conv2_block2_1_relu[0][0]        \n",
            "__________________________________________________________________________________________________\n",
            "conv2_block2_concat (Concatenat (None, 56, 56, 128)  0           conv2_block1_concat[0][0]        \n",
            "                                                                 conv2_block2_2_conv[0][0]        \n",
            "__________________________________________________________________________________________________\n",
            "conv2_block3_0_bn (BatchNormali (None, 56, 56, 128)  512         conv2_block2_concat[0][0]        \n",
            "__________________________________________________________________________________________________\n",
            "conv2_block3_0_relu (Activation (None, 56, 56, 128)  0           conv2_block3_0_bn[0][0]          \n",
            "__________________________________________________________________________________________________\n",
            "conv2_block3_1_conv (Conv2D)    (None, 56, 56, 128)  16384       conv2_block3_0_relu[0][0]        \n",
            "__________________________________________________________________________________________________\n",
            "conv2_block3_1_bn (BatchNormali (None, 56, 56, 128)  512         conv2_block3_1_conv[0][0]        \n",
            "__________________________________________________________________________________________________\n",
            "conv2_block3_1_relu (Activation (None, 56, 56, 128)  0           conv2_block3_1_bn[0][0]          \n",
            "__________________________________________________________________________________________________\n",
            "conv2_block3_2_conv (Conv2D)    (None, 56, 56, 32)   36864       conv2_block3_1_relu[0][0]        \n",
            "__________________________________________________________________________________________________\n",
            "conv2_block3_concat (Concatenat (None, 56, 56, 160)  0           conv2_block2_concat[0][0]        \n",
            "                                                                 conv2_block3_2_conv[0][0]        \n",
            "__________________________________________________________________________________________________\n",
            "conv2_block4_0_bn (BatchNormali (None, 56, 56, 160)  640         conv2_block3_concat[0][0]        \n",
            "__________________________________________________________________________________________________\n",
            "conv2_block4_0_relu (Activation (None, 56, 56, 160)  0           conv2_block4_0_bn[0][0]          \n",
            "__________________________________________________________________________________________________\n",
            "conv2_block4_1_conv (Conv2D)    (None, 56, 56, 128)  20480       conv2_block4_0_relu[0][0]        \n",
            "__________________________________________________________________________________________________\n",
            "conv2_block4_1_bn (BatchNormali (None, 56, 56, 128)  512         conv2_block4_1_conv[0][0]        \n",
            "__________________________________________________________________________________________________\n",
            "conv2_block4_1_relu (Activation (None, 56, 56, 128)  0           conv2_block4_1_bn[0][0]          \n",
            "__________________________________________________________________________________________________\n",
            "conv2_block4_2_conv (Conv2D)    (None, 56, 56, 32)   36864       conv2_block4_1_relu[0][0]        \n",
            "__________________________________________________________________________________________________\n",
            "conv2_block4_concat (Concatenat (None, 56, 56, 192)  0           conv2_block3_concat[0][0]        \n",
            "                                                                 conv2_block4_2_conv[0][0]        \n",
            "__________________________________________________________________________________________________\n",
            "conv2_block5_0_bn (BatchNormali (None, 56, 56, 192)  768         conv2_block4_concat[0][0]        \n",
            "__________________________________________________________________________________________________\n",
            "conv2_block5_0_relu (Activation (None, 56, 56, 192)  0           conv2_block5_0_bn[0][0]          \n",
            "__________________________________________________________________________________________________\n",
            "conv2_block5_1_conv (Conv2D)    (None, 56, 56, 128)  24576       conv2_block5_0_relu[0][0]        \n",
            "__________________________________________________________________________________________________\n",
            "conv2_block5_1_bn (BatchNormali (None, 56, 56, 128)  512         conv2_block5_1_conv[0][0]        \n",
            "__________________________________________________________________________________________________\n",
            "conv2_block5_1_relu (Activation (None, 56, 56, 128)  0           conv2_block5_1_bn[0][0]          \n",
            "__________________________________________________________________________________________________\n",
            "conv2_block5_2_conv (Conv2D)    (None, 56, 56, 32)   36864       conv2_block5_1_relu[0][0]        \n",
            "__________________________________________________________________________________________________\n",
            "conv2_block5_concat (Concatenat (None, 56, 56, 224)  0           conv2_block4_concat[0][0]        \n",
            "                                                                 conv2_block5_2_conv[0][0]        \n",
            "__________________________________________________________________________________________________\n",
            "conv2_block6_0_bn (BatchNormali (None, 56, 56, 224)  896         conv2_block5_concat[0][0]        \n",
            "__________________________________________________________________________________________________\n",
            "conv2_block6_0_relu (Activation (None, 56, 56, 224)  0           conv2_block6_0_bn[0][0]          \n",
            "__________________________________________________________________________________________________\n",
            "conv2_block6_1_conv (Conv2D)    (None, 56, 56, 128)  28672       conv2_block6_0_relu[0][0]        \n",
            "__________________________________________________________________________________________________\n",
            "conv2_block6_1_bn (BatchNormali (None, 56, 56, 128)  512         conv2_block6_1_conv[0][0]        \n",
            "__________________________________________________________________________________________________\n",
            "conv2_block6_1_relu (Activation (None, 56, 56, 128)  0           conv2_block6_1_bn[0][0]          \n",
            "__________________________________________________________________________________________________\n",
            "conv2_block6_2_conv (Conv2D)    (None, 56, 56, 32)   36864       conv2_block6_1_relu[0][0]        \n",
            "__________________________________________________________________________________________________\n",
            "conv2_block6_concat (Concatenat (None, 56, 56, 256)  0           conv2_block5_concat[0][0]        \n",
            "                                                                 conv2_block6_2_conv[0][0]        \n",
            "__________________________________________________________________________________________________\n",
            "pool2_bn (BatchNormalization)   (None, 56, 56, 256)  1024        conv2_block6_concat[0][0]        \n",
            "__________________________________________________________________________________________________\n",
            "pool2_relu (Activation)         (None, 56, 56, 256)  0           pool2_bn[0][0]                   \n",
            "__________________________________________________________________________________________________\n",
            "pool2_conv (Conv2D)             (None, 56, 56, 128)  32768       pool2_relu[0][0]                 \n",
            "__________________________________________________________________________________________________\n",
            "pool2_pool (AveragePooling2D)   (None, 28, 28, 128)  0           pool2_conv[0][0]                 \n",
            "__________________________________________________________________________________________________\n",
            "conv3_block1_0_bn (BatchNormali (None, 28, 28, 128)  512         pool2_pool[0][0]                 \n",
            "__________________________________________________________________________________________________\n",
            "conv3_block1_0_relu (Activation (None, 28, 28, 128)  0           conv3_block1_0_bn[0][0]          \n",
            "__________________________________________________________________________________________________\n",
            "conv3_block1_1_conv (Conv2D)    (None, 28, 28, 128)  16384       conv3_block1_0_relu[0][0]        \n",
            "__________________________________________________________________________________________________\n",
            "conv3_block1_1_bn (BatchNormali (None, 28, 28, 128)  512         conv3_block1_1_conv[0][0]        \n",
            "__________________________________________________________________________________________________\n",
            "conv3_block1_1_relu (Activation (None, 28, 28, 128)  0           conv3_block1_1_bn[0][0]          \n",
            "__________________________________________________________________________________________________\n",
            "conv3_block1_2_conv (Conv2D)    (None, 28, 28, 32)   36864       conv3_block1_1_relu[0][0]        \n",
            "__________________________________________________________________________________________________\n",
            "conv3_block1_concat (Concatenat (None, 28, 28, 160)  0           pool2_pool[0][0]                 \n",
            "                                                                 conv3_block1_2_conv[0][0]        \n",
            "__________________________________________________________________________________________________\n",
            "conv3_block2_0_bn (BatchNormali (None, 28, 28, 160)  640         conv3_block1_concat[0][0]        \n",
            "__________________________________________________________________________________________________\n",
            "conv3_block2_0_relu (Activation (None, 28, 28, 160)  0           conv3_block2_0_bn[0][0]          \n",
            "__________________________________________________________________________________________________\n",
            "conv3_block2_1_conv (Conv2D)    (None, 28, 28, 128)  20480       conv3_block2_0_relu[0][0]        \n",
            "__________________________________________________________________________________________________\n",
            "conv3_block2_1_bn (BatchNormali (None, 28, 28, 128)  512         conv3_block2_1_conv[0][0]        \n",
            "__________________________________________________________________________________________________\n",
            "conv3_block2_1_relu (Activation (None, 28, 28, 128)  0           conv3_block2_1_bn[0][0]          \n",
            "__________________________________________________________________________________________________\n",
            "conv3_block2_2_conv (Conv2D)    (None, 28, 28, 32)   36864       conv3_block2_1_relu[0][0]        \n",
            "__________________________________________________________________________________________________\n",
            "conv3_block2_concat (Concatenat (None, 28, 28, 192)  0           conv3_block1_concat[0][0]        \n",
            "                                                                 conv3_block2_2_conv[0][0]        \n",
            "__________________________________________________________________________________________________\n",
            "conv3_block3_0_bn (BatchNormali (None, 28, 28, 192)  768         conv3_block2_concat[0][0]        \n",
            "__________________________________________________________________________________________________\n",
            "conv3_block3_0_relu (Activation (None, 28, 28, 192)  0           conv3_block3_0_bn[0][0]          \n",
            "__________________________________________________________________________________________________\n",
            "conv3_block3_1_conv (Conv2D)    (None, 28, 28, 128)  24576       conv3_block3_0_relu[0][0]        \n",
            "__________________________________________________________________________________________________\n",
            "conv3_block3_1_bn (BatchNormali (None, 28, 28, 128)  512         conv3_block3_1_conv[0][0]        \n",
            "__________________________________________________________________________________________________\n",
            "conv3_block3_1_relu (Activation (None, 28, 28, 128)  0           conv3_block3_1_bn[0][0]          \n",
            "__________________________________________________________________________________________________\n",
            "conv3_block3_2_conv (Conv2D)    (None, 28, 28, 32)   36864       conv3_block3_1_relu[0][0]        \n",
            "__________________________________________________________________________________________________\n",
            "conv3_block3_concat (Concatenat (None, 28, 28, 224)  0           conv3_block2_concat[0][0]        \n",
            "                                                                 conv3_block3_2_conv[0][0]        \n",
            "__________________________________________________________________________________________________\n",
            "conv3_block4_0_bn (BatchNormali (None, 28, 28, 224)  896         conv3_block3_concat[0][0]        \n",
            "__________________________________________________________________________________________________\n",
            "conv3_block4_0_relu (Activation (None, 28, 28, 224)  0           conv3_block4_0_bn[0][0]          \n",
            "__________________________________________________________________________________________________\n",
            "conv3_block4_1_conv (Conv2D)    (None, 28, 28, 128)  28672       conv3_block4_0_relu[0][0]        \n",
            "__________________________________________________________________________________________________\n",
            "conv3_block4_1_bn (BatchNormali (None, 28, 28, 128)  512         conv3_block4_1_conv[0][0]        \n",
            "__________________________________________________________________________________________________\n",
            "conv3_block4_1_relu (Activation (None, 28, 28, 128)  0           conv3_block4_1_bn[0][0]          \n",
            "__________________________________________________________________________________________________\n",
            "conv3_block4_2_conv (Conv2D)    (None, 28, 28, 32)   36864       conv3_block4_1_relu[0][0]        \n",
            "__________________________________________________________________________________________________\n",
            "conv3_block4_concat (Concatenat (None, 28, 28, 256)  0           conv3_block3_concat[0][0]        \n",
            "                                                                 conv3_block4_2_conv[0][0]        \n",
            "__________________________________________________________________________________________________\n",
            "conv3_block5_0_bn (BatchNormali (None, 28, 28, 256)  1024        conv3_block4_concat[0][0]        \n",
            "__________________________________________________________________________________________________\n",
            "conv3_block5_0_relu (Activation (None, 28, 28, 256)  0           conv3_block5_0_bn[0][0]          \n",
            "__________________________________________________________________________________________________\n",
            "conv3_block5_1_conv (Conv2D)    (None, 28, 28, 128)  32768       conv3_block5_0_relu[0][0]        \n",
            "__________________________________________________________________________________________________\n",
            "conv3_block5_1_bn (BatchNormali (None, 28, 28, 128)  512         conv3_block5_1_conv[0][0]        \n",
            "__________________________________________________________________________________________________\n",
            "conv3_block5_1_relu (Activation (None, 28, 28, 128)  0           conv3_block5_1_bn[0][0]          \n",
            "__________________________________________________________________________________________________\n",
            "conv3_block5_2_conv (Conv2D)    (None, 28, 28, 32)   36864       conv3_block5_1_relu[0][0]        \n",
            "__________________________________________________________________________________________________\n",
            "conv3_block5_concat (Concatenat (None, 28, 28, 288)  0           conv3_block4_concat[0][0]        \n",
            "                                                                 conv3_block5_2_conv[0][0]        \n",
            "__________________________________________________________________________________________________\n",
            "conv3_block6_0_bn (BatchNormali (None, 28, 28, 288)  1152        conv3_block5_concat[0][0]        \n",
            "__________________________________________________________________________________________________\n",
            "conv3_block6_0_relu (Activation (None, 28, 28, 288)  0           conv3_block6_0_bn[0][0]          \n",
            "__________________________________________________________________________________________________\n",
            "conv3_block6_1_conv (Conv2D)    (None, 28, 28, 128)  36864       conv3_block6_0_relu[0][0]        \n",
            "__________________________________________________________________________________________________\n",
            "conv3_block6_1_bn (BatchNormali (None, 28, 28, 128)  512         conv3_block6_1_conv[0][0]        \n",
            "__________________________________________________________________________________________________\n",
            "conv3_block6_1_relu (Activation (None, 28, 28, 128)  0           conv3_block6_1_bn[0][0]          \n",
            "__________________________________________________________________________________________________\n",
            "conv3_block6_2_conv (Conv2D)    (None, 28, 28, 32)   36864       conv3_block6_1_relu[0][0]        \n",
            "__________________________________________________________________________________________________\n",
            "conv3_block6_concat (Concatenat (None, 28, 28, 320)  0           conv3_block5_concat[0][0]        \n",
            "                                                                 conv3_block6_2_conv[0][0]        \n",
            "__________________________________________________________________________________________________\n",
            "conv3_block7_0_bn (BatchNormali (None, 28, 28, 320)  1280        conv3_block6_concat[0][0]        \n",
            "__________________________________________________________________________________________________\n",
            "conv3_block7_0_relu (Activation (None, 28, 28, 320)  0           conv3_block7_0_bn[0][0]          \n",
            "__________________________________________________________________________________________________\n",
            "conv3_block7_1_conv (Conv2D)    (None, 28, 28, 128)  40960       conv3_block7_0_relu[0][0]        \n",
            "__________________________________________________________________________________________________\n",
            "conv3_block7_1_bn (BatchNormali (None, 28, 28, 128)  512         conv3_block7_1_conv[0][0]        \n",
            "__________________________________________________________________________________________________\n",
            "conv3_block7_1_relu (Activation (None, 28, 28, 128)  0           conv3_block7_1_bn[0][0]          \n",
            "__________________________________________________________________________________________________\n",
            "conv3_block7_2_conv (Conv2D)    (None, 28, 28, 32)   36864       conv3_block7_1_relu[0][0]        \n",
            "__________________________________________________________________________________________________\n",
            "conv3_block7_concat (Concatenat (None, 28, 28, 352)  0           conv3_block6_concat[0][0]        \n",
            "                                                                 conv3_block7_2_conv[0][0]        \n",
            "__________________________________________________________________________________________________\n",
            "conv3_block8_0_bn (BatchNormali (None, 28, 28, 352)  1408        conv3_block7_concat[0][0]        \n",
            "__________________________________________________________________________________________________\n",
            "conv3_block8_0_relu (Activation (None, 28, 28, 352)  0           conv3_block8_0_bn[0][0]          \n",
            "__________________________________________________________________________________________________\n",
            "conv3_block8_1_conv (Conv2D)    (None, 28, 28, 128)  45056       conv3_block8_0_relu[0][0]        \n",
            "__________________________________________________________________________________________________\n",
            "conv3_block8_1_bn (BatchNormali (None, 28, 28, 128)  512         conv3_block8_1_conv[0][0]        \n",
            "__________________________________________________________________________________________________\n",
            "conv3_block8_1_relu (Activation (None, 28, 28, 128)  0           conv3_block8_1_bn[0][0]          \n",
            "__________________________________________________________________________________________________\n",
            "conv3_block8_2_conv (Conv2D)    (None, 28, 28, 32)   36864       conv3_block8_1_relu[0][0]        \n",
            "__________________________________________________________________________________________________\n",
            "conv3_block8_concat (Concatenat (None, 28, 28, 384)  0           conv3_block7_concat[0][0]        \n",
            "                                                                 conv3_block8_2_conv[0][0]        \n",
            "__________________________________________________________________________________________________\n",
            "conv3_block9_0_bn (BatchNormali (None, 28, 28, 384)  1536        conv3_block8_concat[0][0]        \n",
            "__________________________________________________________________________________________________\n",
            "conv3_block9_0_relu (Activation (None, 28, 28, 384)  0           conv3_block9_0_bn[0][0]          \n",
            "__________________________________________________________________________________________________\n",
            "conv3_block9_1_conv (Conv2D)    (None, 28, 28, 128)  49152       conv3_block9_0_relu[0][0]        \n",
            "__________________________________________________________________________________________________\n",
            "conv3_block9_1_bn (BatchNormali (None, 28, 28, 128)  512         conv3_block9_1_conv[0][0]        \n",
            "__________________________________________________________________________________________________\n",
            "conv3_block9_1_relu (Activation (None, 28, 28, 128)  0           conv3_block9_1_bn[0][0]          \n",
            "__________________________________________________________________________________________________\n",
            "conv3_block9_2_conv (Conv2D)    (None, 28, 28, 32)   36864       conv3_block9_1_relu[0][0]        \n",
            "__________________________________________________________________________________________________\n",
            "conv3_block9_concat (Concatenat (None, 28, 28, 416)  0           conv3_block8_concat[0][0]        \n",
            "                                                                 conv3_block9_2_conv[0][0]        \n",
            "__________________________________________________________________________________________________\n",
            "conv3_block10_0_bn (BatchNormal (None, 28, 28, 416)  1664        conv3_block9_concat[0][0]        \n",
            "__________________________________________________________________________________________________\n",
            "conv3_block10_0_relu (Activatio (None, 28, 28, 416)  0           conv3_block10_0_bn[0][0]         \n",
            "__________________________________________________________________________________________________\n",
            "conv3_block10_1_conv (Conv2D)   (None, 28, 28, 128)  53248       conv3_block10_0_relu[0][0]       \n",
            "__________________________________________________________________________________________________\n",
            "conv3_block10_1_bn (BatchNormal (None, 28, 28, 128)  512         conv3_block10_1_conv[0][0]       \n",
            "__________________________________________________________________________________________________\n",
            "conv3_block10_1_relu (Activatio (None, 28, 28, 128)  0           conv3_block10_1_bn[0][0]         \n",
            "__________________________________________________________________________________________________\n",
            "conv3_block10_2_conv (Conv2D)   (None, 28, 28, 32)   36864       conv3_block10_1_relu[0][0]       \n",
            "__________________________________________________________________________________________________\n",
            "conv3_block10_concat (Concatena (None, 28, 28, 448)  0           conv3_block9_concat[0][0]        \n",
            "                                                                 conv3_block10_2_conv[0][0]       \n",
            "__________________________________________________________________________________________________\n",
            "conv3_block11_0_bn (BatchNormal (None, 28, 28, 448)  1792        conv3_block10_concat[0][0]       \n",
            "__________________________________________________________________________________________________\n",
            "conv3_block11_0_relu (Activatio (None, 28, 28, 448)  0           conv3_block11_0_bn[0][0]         \n",
            "__________________________________________________________________________________________________\n",
            "conv3_block11_1_conv (Conv2D)   (None, 28, 28, 128)  57344       conv3_block11_0_relu[0][0]       \n",
            "__________________________________________________________________________________________________\n",
            "conv3_block11_1_bn (BatchNormal (None, 28, 28, 128)  512         conv3_block11_1_conv[0][0]       \n",
            "__________________________________________________________________________________________________\n",
            "conv3_block11_1_relu (Activatio (None, 28, 28, 128)  0           conv3_block11_1_bn[0][0]         \n",
            "__________________________________________________________________________________________________\n",
            "conv3_block11_2_conv (Conv2D)   (None, 28, 28, 32)   36864       conv3_block11_1_relu[0][0]       \n",
            "__________________________________________________________________________________________________\n",
            "conv3_block11_concat (Concatena (None, 28, 28, 480)  0           conv3_block10_concat[0][0]       \n",
            "                                                                 conv3_block11_2_conv[0][0]       \n",
            "__________________________________________________________________________________________________\n",
            "conv3_block12_0_bn (BatchNormal (None, 28, 28, 480)  1920        conv3_block11_concat[0][0]       \n",
            "__________________________________________________________________________________________________\n",
            "conv3_block12_0_relu (Activatio (None, 28, 28, 480)  0           conv3_block12_0_bn[0][0]         \n",
            "__________________________________________________________________________________________________\n",
            "conv3_block12_1_conv (Conv2D)   (None, 28, 28, 128)  61440       conv3_block12_0_relu[0][0]       \n",
            "__________________________________________________________________________________________________\n",
            "conv3_block12_1_bn (BatchNormal (None, 28, 28, 128)  512         conv3_block12_1_conv[0][0]       \n",
            "__________________________________________________________________________________________________\n",
            "conv3_block12_1_relu (Activatio (None, 28, 28, 128)  0           conv3_block12_1_bn[0][0]         \n",
            "__________________________________________________________________________________________________\n",
            "conv3_block12_2_conv (Conv2D)   (None, 28, 28, 32)   36864       conv3_block12_1_relu[0][0]       \n",
            "__________________________________________________________________________________________________\n",
            "conv3_block12_concat (Concatena (None, 28, 28, 512)  0           conv3_block11_concat[0][0]       \n",
            "                                                                 conv3_block12_2_conv[0][0]       \n",
            "__________________________________________________________________________________________________\n",
            "pool3_bn (BatchNormalization)   (None, 28, 28, 512)  2048        conv3_block12_concat[0][0]       \n",
            "__________________________________________________________________________________________________\n",
            "pool3_relu (Activation)         (None, 28, 28, 512)  0           pool3_bn[0][0]                   \n",
            "__________________________________________________________________________________________________\n",
            "pool3_conv (Conv2D)             (None, 28, 28, 256)  131072      pool3_relu[0][0]                 \n",
            "__________________________________________________________________________________________________\n",
            "pool3_pool (AveragePooling2D)   (None, 14, 14, 256)  0           pool3_conv[0][0]                 \n",
            "__________________________________________________________________________________________________\n",
            "conv4_block1_0_bn (BatchNormali (None, 14, 14, 256)  1024        pool3_pool[0][0]                 \n",
            "__________________________________________________________________________________________________\n",
            "conv4_block1_0_relu (Activation (None, 14, 14, 256)  0           conv4_block1_0_bn[0][0]          \n",
            "__________________________________________________________________________________________________\n",
            "conv4_block1_1_conv (Conv2D)    (None, 14, 14, 128)  32768       conv4_block1_0_relu[0][0]        \n",
            "__________________________________________________________________________________________________\n",
            "conv4_block1_1_bn (BatchNormali (None, 14, 14, 128)  512         conv4_block1_1_conv[0][0]        \n",
            "__________________________________________________________________________________________________\n",
            "conv4_block1_1_relu (Activation (None, 14, 14, 128)  0           conv4_block1_1_bn[0][0]          \n",
            "__________________________________________________________________________________________________\n",
            "conv4_block1_2_conv (Conv2D)    (None, 14, 14, 32)   36864       conv4_block1_1_relu[0][0]        \n",
            "__________________________________________________________________________________________________\n",
            "conv4_block1_concat (Concatenat (None, 14, 14, 288)  0           pool3_pool[0][0]                 \n",
            "                                                                 conv4_block1_2_conv[0][0]        \n",
            "__________________________________________________________________________________________________\n",
            "conv4_block2_0_bn (BatchNormali (None, 14, 14, 288)  1152        conv4_block1_concat[0][0]        \n",
            "__________________________________________________________________________________________________\n",
            "conv4_block2_0_relu (Activation (None, 14, 14, 288)  0           conv4_block2_0_bn[0][0]          \n",
            "__________________________________________________________________________________________________\n",
            "conv4_block2_1_conv (Conv2D)    (None, 14, 14, 128)  36864       conv4_block2_0_relu[0][0]        \n",
            "__________________________________________________________________________________________________\n",
            "conv4_block2_1_bn (BatchNormali (None, 14, 14, 128)  512         conv4_block2_1_conv[0][0]        \n",
            "__________________________________________________________________________________________________\n",
            "conv4_block2_1_relu (Activation (None, 14, 14, 128)  0           conv4_block2_1_bn[0][0]          \n",
            "__________________________________________________________________________________________________\n",
            "conv4_block2_2_conv (Conv2D)    (None, 14, 14, 32)   36864       conv4_block2_1_relu[0][0]        \n",
            "__________________________________________________________________________________________________\n",
            "conv4_block2_concat (Concatenat (None, 14, 14, 320)  0           conv4_block1_concat[0][0]        \n",
            "                                                                 conv4_block2_2_conv[0][0]        \n",
            "__________________________________________________________________________________________________\n",
            "conv4_block3_0_bn (BatchNormali (None, 14, 14, 320)  1280        conv4_block2_concat[0][0]        \n",
            "__________________________________________________________________________________________________\n",
            "conv4_block3_0_relu (Activation (None, 14, 14, 320)  0           conv4_block3_0_bn[0][0]          \n",
            "__________________________________________________________________________________________________\n",
            "conv4_block3_1_conv (Conv2D)    (None, 14, 14, 128)  40960       conv4_block3_0_relu[0][0]        \n",
            "__________________________________________________________________________________________________\n",
            "conv4_block3_1_bn (BatchNormali (None, 14, 14, 128)  512         conv4_block3_1_conv[0][0]        \n",
            "__________________________________________________________________________________________________\n",
            "conv4_block3_1_relu (Activation (None, 14, 14, 128)  0           conv4_block3_1_bn[0][0]          \n",
            "__________________________________________________________________________________________________\n",
            "conv4_block3_2_conv (Conv2D)    (None, 14, 14, 32)   36864       conv4_block3_1_relu[0][0]        \n",
            "__________________________________________________________________________________________________\n",
            "conv4_block3_concat (Concatenat (None, 14, 14, 352)  0           conv4_block2_concat[0][0]        \n",
            "                                                                 conv4_block3_2_conv[0][0]        \n",
            "__________________________________________________________________________________________________\n",
            "conv4_block4_0_bn (BatchNormali (None, 14, 14, 352)  1408        conv4_block3_concat[0][0]        \n",
            "__________________________________________________________________________________________________\n",
            "conv4_block4_0_relu (Activation (None, 14, 14, 352)  0           conv4_block4_0_bn[0][0]          \n",
            "__________________________________________________________________________________________________\n",
            "conv4_block4_1_conv (Conv2D)    (None, 14, 14, 128)  45056       conv4_block4_0_relu[0][0]        \n",
            "__________________________________________________________________________________________________\n",
            "conv4_block4_1_bn (BatchNormali (None, 14, 14, 128)  512         conv4_block4_1_conv[0][0]        \n",
            "__________________________________________________________________________________________________\n",
            "conv4_block4_1_relu (Activation (None, 14, 14, 128)  0           conv4_block4_1_bn[0][0]          \n",
            "__________________________________________________________________________________________________\n",
            "conv4_block4_2_conv (Conv2D)    (None, 14, 14, 32)   36864       conv4_block4_1_relu[0][0]        \n",
            "__________________________________________________________________________________________________\n",
            "conv4_block4_concat (Concatenat (None, 14, 14, 384)  0           conv4_block3_concat[0][0]        \n",
            "                                                                 conv4_block4_2_conv[0][0]        \n",
            "__________________________________________________________________________________________________\n",
            "conv4_block5_0_bn (BatchNormali (None, 14, 14, 384)  1536        conv4_block4_concat[0][0]        \n",
            "__________________________________________________________________________________________________\n",
            "conv4_block5_0_relu (Activation (None, 14, 14, 384)  0           conv4_block5_0_bn[0][0]          \n",
            "__________________________________________________________________________________________________\n",
            "conv4_block5_1_conv (Conv2D)    (None, 14, 14, 128)  49152       conv4_block5_0_relu[0][0]        \n",
            "__________________________________________________________________________________________________\n",
            "conv4_block5_1_bn (BatchNormali (None, 14, 14, 128)  512         conv4_block5_1_conv[0][0]        \n",
            "__________________________________________________________________________________________________\n",
            "conv4_block5_1_relu (Activation (None, 14, 14, 128)  0           conv4_block5_1_bn[0][0]          \n",
            "__________________________________________________________________________________________________\n",
            "conv4_block5_2_conv (Conv2D)    (None, 14, 14, 32)   36864       conv4_block5_1_relu[0][0]        \n",
            "__________________________________________________________________________________________________\n",
            "conv4_block5_concat (Concatenat (None, 14, 14, 416)  0           conv4_block4_concat[0][0]        \n",
            "                                                                 conv4_block5_2_conv[0][0]        \n",
            "__________________________________________________________________________________________________\n",
            "conv4_block6_0_bn (BatchNormali (None, 14, 14, 416)  1664        conv4_block5_concat[0][0]        \n",
            "__________________________________________________________________________________________________\n",
            "conv4_block6_0_relu (Activation (None, 14, 14, 416)  0           conv4_block6_0_bn[0][0]          \n",
            "__________________________________________________________________________________________________\n",
            "conv4_block6_1_conv (Conv2D)    (None, 14, 14, 128)  53248       conv4_block6_0_relu[0][0]        \n",
            "__________________________________________________________________________________________________\n",
            "conv4_block6_1_bn (BatchNormali (None, 14, 14, 128)  512         conv4_block6_1_conv[0][0]        \n",
            "__________________________________________________________________________________________________\n",
            "conv4_block6_1_relu (Activation (None, 14, 14, 128)  0           conv4_block6_1_bn[0][0]          \n",
            "__________________________________________________________________________________________________\n",
            "conv4_block6_2_conv (Conv2D)    (None, 14, 14, 32)   36864       conv4_block6_1_relu[0][0]        \n",
            "__________________________________________________________________________________________________\n",
            "conv4_block6_concat (Concatenat (None, 14, 14, 448)  0           conv4_block5_concat[0][0]        \n",
            "                                                                 conv4_block6_2_conv[0][0]        \n",
            "__________________________________________________________________________________________________\n",
            "conv4_block7_0_bn (BatchNormali (None, 14, 14, 448)  1792        conv4_block6_concat[0][0]        \n",
            "__________________________________________________________________________________________________\n",
            "conv4_block7_0_relu (Activation (None, 14, 14, 448)  0           conv4_block7_0_bn[0][0]          \n",
            "__________________________________________________________________________________________________\n",
            "conv4_block7_1_conv (Conv2D)    (None, 14, 14, 128)  57344       conv4_block7_0_relu[0][0]        \n",
            "__________________________________________________________________________________________________\n",
            "conv4_block7_1_bn (BatchNormali (None, 14, 14, 128)  512         conv4_block7_1_conv[0][0]        \n",
            "__________________________________________________________________________________________________\n",
            "conv4_block7_1_relu (Activation (None, 14, 14, 128)  0           conv4_block7_1_bn[0][0]          \n",
            "__________________________________________________________________________________________________\n",
            "conv4_block7_2_conv (Conv2D)    (None, 14, 14, 32)   36864       conv4_block7_1_relu[0][0]        \n",
            "__________________________________________________________________________________________________\n",
            "conv4_block7_concat (Concatenat (None, 14, 14, 480)  0           conv4_block6_concat[0][0]        \n",
            "                                                                 conv4_block7_2_conv[0][0]        \n",
            "__________________________________________________________________________________________________\n",
            "conv4_block8_0_bn (BatchNormali (None, 14, 14, 480)  1920        conv4_block7_concat[0][0]        \n",
            "__________________________________________________________________________________________________\n",
            "conv4_block8_0_relu (Activation (None, 14, 14, 480)  0           conv4_block8_0_bn[0][0]          \n",
            "__________________________________________________________________________________________________\n",
            "conv4_block8_1_conv (Conv2D)    (None, 14, 14, 128)  61440       conv4_block8_0_relu[0][0]        \n",
            "__________________________________________________________________________________________________\n",
            "conv4_block8_1_bn (BatchNormali (None, 14, 14, 128)  512         conv4_block8_1_conv[0][0]        \n",
            "__________________________________________________________________________________________________\n",
            "conv4_block8_1_relu (Activation (None, 14, 14, 128)  0           conv4_block8_1_bn[0][0]          \n",
            "__________________________________________________________________________________________________\n",
            "conv4_block8_2_conv (Conv2D)    (None, 14, 14, 32)   36864       conv4_block8_1_relu[0][0]        \n",
            "__________________________________________________________________________________________________\n",
            "conv4_block8_concat (Concatenat (None, 14, 14, 512)  0           conv4_block7_concat[0][0]        \n",
            "                                                                 conv4_block8_2_conv[0][0]        \n",
            "__________________________________________________________________________________________________\n",
            "conv4_block9_0_bn (BatchNormali (None, 14, 14, 512)  2048        conv4_block8_concat[0][0]        \n",
            "__________________________________________________________________________________________________\n",
            "conv4_block9_0_relu (Activation (None, 14, 14, 512)  0           conv4_block9_0_bn[0][0]          \n",
            "__________________________________________________________________________________________________\n",
            "conv4_block9_1_conv (Conv2D)    (None, 14, 14, 128)  65536       conv4_block9_0_relu[0][0]        \n",
            "__________________________________________________________________________________________________\n",
            "conv4_block9_1_bn (BatchNormali (None, 14, 14, 128)  512         conv4_block9_1_conv[0][0]        \n",
            "__________________________________________________________________________________________________\n",
            "conv4_block9_1_relu (Activation (None, 14, 14, 128)  0           conv4_block9_1_bn[0][0]          \n",
            "__________________________________________________________________________________________________\n",
            "conv4_block9_2_conv (Conv2D)    (None, 14, 14, 32)   36864       conv4_block9_1_relu[0][0]        \n",
            "__________________________________________________________________________________________________\n",
            "conv4_block9_concat (Concatenat (None, 14, 14, 544)  0           conv4_block8_concat[0][0]        \n",
            "                                                                 conv4_block9_2_conv[0][0]        \n",
            "__________________________________________________________________________________________________\n",
            "conv4_block10_0_bn (BatchNormal (None, 14, 14, 544)  2176        conv4_block9_concat[0][0]        \n",
            "__________________________________________________________________________________________________\n",
            "conv4_block10_0_relu (Activatio (None, 14, 14, 544)  0           conv4_block10_0_bn[0][0]         \n",
            "__________________________________________________________________________________________________\n",
            "conv4_block10_1_conv (Conv2D)   (None, 14, 14, 128)  69632       conv4_block10_0_relu[0][0]       \n",
            "__________________________________________________________________________________________________\n",
            "conv4_block10_1_bn (BatchNormal (None, 14, 14, 128)  512         conv4_block10_1_conv[0][0]       \n",
            "__________________________________________________________________________________________________\n",
            "conv4_block10_1_relu (Activatio (None, 14, 14, 128)  0           conv4_block10_1_bn[0][0]         \n",
            "__________________________________________________________________________________________________\n",
            "conv4_block10_2_conv (Conv2D)   (None, 14, 14, 32)   36864       conv4_block10_1_relu[0][0]       \n",
            "__________________________________________________________________________________________________\n",
            "conv4_block10_concat (Concatena (None, 14, 14, 576)  0           conv4_block9_concat[0][0]        \n",
            "                                                                 conv4_block10_2_conv[0][0]       \n",
            "__________________________________________________________________________________________________\n",
            "conv4_block11_0_bn (BatchNormal (None, 14, 14, 576)  2304        conv4_block10_concat[0][0]       \n",
            "__________________________________________________________________________________________________\n",
            "conv4_block11_0_relu (Activatio (None, 14, 14, 576)  0           conv4_block11_0_bn[0][0]         \n",
            "__________________________________________________________________________________________________\n",
            "conv4_block11_1_conv (Conv2D)   (None, 14, 14, 128)  73728       conv4_block11_0_relu[0][0]       \n",
            "__________________________________________________________________________________________________\n",
            "conv4_block11_1_bn (BatchNormal (None, 14, 14, 128)  512         conv4_block11_1_conv[0][0]       \n",
            "__________________________________________________________________________________________________\n",
            "conv4_block11_1_relu (Activatio (None, 14, 14, 128)  0           conv4_block11_1_bn[0][0]         \n",
            "__________________________________________________________________________________________________\n",
            "conv4_block11_2_conv (Conv2D)   (None, 14, 14, 32)   36864       conv4_block11_1_relu[0][0]       \n",
            "__________________________________________________________________________________________________\n",
            "conv4_block11_concat (Concatena (None, 14, 14, 608)  0           conv4_block10_concat[0][0]       \n",
            "                                                                 conv4_block11_2_conv[0][0]       \n",
            "__________________________________________________________________________________________________\n",
            "conv4_block12_0_bn (BatchNormal (None, 14, 14, 608)  2432        conv4_block11_concat[0][0]       \n",
            "__________________________________________________________________________________________________\n",
            "conv4_block12_0_relu (Activatio (None, 14, 14, 608)  0           conv4_block12_0_bn[0][0]         \n",
            "__________________________________________________________________________________________________\n",
            "conv4_block12_1_conv (Conv2D)   (None, 14, 14, 128)  77824       conv4_block12_0_relu[0][0]       \n",
            "__________________________________________________________________________________________________\n",
            "conv4_block12_1_bn (BatchNormal (None, 14, 14, 128)  512         conv4_block12_1_conv[0][0]       \n",
            "__________________________________________________________________________________________________\n",
            "conv4_block12_1_relu (Activatio (None, 14, 14, 128)  0           conv4_block12_1_bn[0][0]         \n",
            "__________________________________________________________________________________________________\n",
            "conv4_block12_2_conv (Conv2D)   (None, 14, 14, 32)   36864       conv4_block12_1_relu[0][0]       \n",
            "__________________________________________________________________________________________________\n",
            "conv4_block12_concat (Concatena (None, 14, 14, 640)  0           conv4_block11_concat[0][0]       \n",
            "                                                                 conv4_block12_2_conv[0][0]       \n",
            "__________________________________________________________________________________________________\n",
            "conv4_block13_0_bn (BatchNormal (None, 14, 14, 640)  2560        conv4_block12_concat[0][0]       \n",
            "__________________________________________________________________________________________________\n",
            "conv4_block13_0_relu (Activatio (None, 14, 14, 640)  0           conv4_block13_0_bn[0][0]         \n",
            "__________________________________________________________________________________________________\n",
            "conv4_block13_1_conv (Conv2D)   (None, 14, 14, 128)  81920       conv4_block13_0_relu[0][0]       \n",
            "__________________________________________________________________________________________________\n",
            "conv4_block13_1_bn (BatchNormal (None, 14, 14, 128)  512         conv4_block13_1_conv[0][0]       \n",
            "__________________________________________________________________________________________________\n",
            "conv4_block13_1_relu (Activatio (None, 14, 14, 128)  0           conv4_block13_1_bn[0][0]         \n",
            "__________________________________________________________________________________________________\n",
            "conv4_block13_2_conv (Conv2D)   (None, 14, 14, 32)   36864       conv4_block13_1_relu[0][0]       \n",
            "__________________________________________________________________________________________________\n",
            "conv4_block13_concat (Concatena (None, 14, 14, 672)  0           conv4_block12_concat[0][0]       \n",
            "                                                                 conv4_block13_2_conv[0][0]       \n",
            "__________________________________________________________________________________________________\n",
            "conv4_block14_0_bn (BatchNormal (None, 14, 14, 672)  2688        conv4_block13_concat[0][0]       \n",
            "__________________________________________________________________________________________________\n",
            "conv4_block14_0_relu (Activatio (None, 14, 14, 672)  0           conv4_block14_0_bn[0][0]         \n",
            "__________________________________________________________________________________________________\n",
            "conv4_block14_1_conv (Conv2D)   (None, 14, 14, 128)  86016       conv4_block14_0_relu[0][0]       \n",
            "__________________________________________________________________________________________________\n",
            "conv4_block14_1_bn (BatchNormal (None, 14, 14, 128)  512         conv4_block14_1_conv[0][0]       \n",
            "__________________________________________________________________________________________________\n",
            "conv4_block14_1_relu (Activatio (None, 14, 14, 128)  0           conv4_block14_1_bn[0][0]         \n",
            "__________________________________________________________________________________________________\n",
            "conv4_block14_2_conv (Conv2D)   (None, 14, 14, 32)   36864       conv4_block14_1_relu[0][0]       \n",
            "__________________________________________________________________________________________________\n",
            "conv4_block14_concat (Concatena (None, 14, 14, 704)  0           conv4_block13_concat[0][0]       \n",
            "                                                                 conv4_block14_2_conv[0][0]       \n",
            "__________________________________________________________________________________________________\n",
            "conv4_block15_0_bn (BatchNormal (None, 14, 14, 704)  2816        conv4_block14_concat[0][0]       \n",
            "__________________________________________________________________________________________________\n",
            "conv4_block15_0_relu (Activatio (None, 14, 14, 704)  0           conv4_block15_0_bn[0][0]         \n",
            "__________________________________________________________________________________________________\n",
            "conv4_block15_1_conv (Conv2D)   (None, 14, 14, 128)  90112       conv4_block15_0_relu[0][0]       \n",
            "__________________________________________________________________________________________________\n",
            "conv4_block15_1_bn (BatchNormal (None, 14, 14, 128)  512         conv4_block15_1_conv[0][0]       \n",
            "__________________________________________________________________________________________________\n",
            "conv4_block15_1_relu (Activatio (None, 14, 14, 128)  0           conv4_block15_1_bn[0][0]         \n",
            "__________________________________________________________________________________________________\n",
            "conv4_block15_2_conv (Conv2D)   (None, 14, 14, 32)   36864       conv4_block15_1_relu[0][0]       \n",
            "__________________________________________________________________________________________________\n",
            "conv4_block15_concat (Concatena (None, 14, 14, 736)  0           conv4_block14_concat[0][0]       \n",
            "                                                                 conv4_block15_2_conv[0][0]       \n",
            "__________________________________________________________________________________________________\n",
            "conv4_block16_0_bn (BatchNormal (None, 14, 14, 736)  2944        conv4_block15_concat[0][0]       \n",
            "__________________________________________________________________________________________________\n",
            "conv4_block16_0_relu (Activatio (None, 14, 14, 736)  0           conv4_block16_0_bn[0][0]         \n",
            "__________________________________________________________________________________________________\n",
            "conv4_block16_1_conv (Conv2D)   (None, 14, 14, 128)  94208       conv4_block16_0_relu[0][0]       \n",
            "__________________________________________________________________________________________________\n",
            "conv4_block16_1_bn (BatchNormal (None, 14, 14, 128)  512         conv4_block16_1_conv[0][0]       \n",
            "__________________________________________________________________________________________________\n",
            "conv4_block16_1_relu (Activatio (None, 14, 14, 128)  0           conv4_block16_1_bn[0][0]         \n",
            "__________________________________________________________________________________________________\n",
            "conv4_block16_2_conv (Conv2D)   (None, 14, 14, 32)   36864       conv4_block16_1_relu[0][0]       \n",
            "__________________________________________________________________________________________________\n",
            "conv4_block16_concat (Concatena (None, 14, 14, 768)  0           conv4_block15_concat[0][0]       \n",
            "                                                                 conv4_block16_2_conv[0][0]       \n",
            "__________________________________________________________________________________________________\n",
            "conv4_block17_0_bn (BatchNormal (None, 14, 14, 768)  3072        conv4_block16_concat[0][0]       \n",
            "__________________________________________________________________________________________________\n",
            "conv4_block17_0_relu (Activatio (None, 14, 14, 768)  0           conv4_block17_0_bn[0][0]         \n",
            "__________________________________________________________________________________________________\n",
            "conv4_block17_1_conv (Conv2D)   (None, 14, 14, 128)  98304       conv4_block17_0_relu[0][0]       \n",
            "__________________________________________________________________________________________________\n",
            "conv4_block17_1_bn (BatchNormal (None, 14, 14, 128)  512         conv4_block17_1_conv[0][0]       \n",
            "__________________________________________________________________________________________________\n",
            "conv4_block17_1_relu (Activatio (None, 14, 14, 128)  0           conv4_block17_1_bn[0][0]         \n",
            "__________________________________________________________________________________________________\n",
            "conv4_block17_2_conv (Conv2D)   (None, 14, 14, 32)   36864       conv4_block17_1_relu[0][0]       \n",
            "__________________________________________________________________________________________________\n",
            "conv4_block17_concat (Concatena (None, 14, 14, 800)  0           conv4_block16_concat[0][0]       \n",
            "                                                                 conv4_block17_2_conv[0][0]       \n",
            "__________________________________________________________________________________________________\n",
            "conv4_block18_0_bn (BatchNormal (None, 14, 14, 800)  3200        conv4_block17_concat[0][0]       \n",
            "__________________________________________________________________________________________________\n",
            "conv4_block18_0_relu (Activatio (None, 14, 14, 800)  0           conv4_block18_0_bn[0][0]         \n",
            "__________________________________________________________________________________________________\n",
            "conv4_block18_1_conv (Conv2D)   (None, 14, 14, 128)  102400      conv4_block18_0_relu[0][0]       \n",
            "__________________________________________________________________________________________________\n",
            "conv4_block18_1_bn (BatchNormal (None, 14, 14, 128)  512         conv4_block18_1_conv[0][0]       \n",
            "__________________________________________________________________________________________________\n",
            "conv4_block18_1_relu (Activatio (None, 14, 14, 128)  0           conv4_block18_1_bn[0][0]         \n",
            "__________________________________________________________________________________________________\n",
            "conv4_block18_2_conv (Conv2D)   (None, 14, 14, 32)   36864       conv4_block18_1_relu[0][0]       \n",
            "__________________________________________________________________________________________________\n",
            "conv4_block18_concat (Concatena (None, 14, 14, 832)  0           conv4_block17_concat[0][0]       \n",
            "                                                                 conv4_block18_2_conv[0][0]       \n",
            "__________________________________________________________________________________________________\n",
            "conv4_block19_0_bn (BatchNormal (None, 14, 14, 832)  3328        conv4_block18_concat[0][0]       \n",
            "__________________________________________________________________________________________________\n",
            "conv4_block19_0_relu (Activatio (None, 14, 14, 832)  0           conv4_block19_0_bn[0][0]         \n",
            "__________________________________________________________________________________________________\n",
            "conv4_block19_1_conv (Conv2D)   (None, 14, 14, 128)  106496      conv4_block19_0_relu[0][0]       \n",
            "__________________________________________________________________________________________________\n",
            "conv4_block19_1_bn (BatchNormal (None, 14, 14, 128)  512         conv4_block19_1_conv[0][0]       \n",
            "__________________________________________________________________________________________________\n",
            "conv4_block19_1_relu (Activatio (None, 14, 14, 128)  0           conv4_block19_1_bn[0][0]         \n",
            "__________________________________________________________________________________________________\n",
            "conv4_block19_2_conv (Conv2D)   (None, 14, 14, 32)   36864       conv4_block19_1_relu[0][0]       \n",
            "__________________________________________________________________________________________________\n",
            "conv4_block19_concat (Concatena (None, 14, 14, 864)  0           conv4_block18_concat[0][0]       \n",
            "                                                                 conv4_block19_2_conv[0][0]       \n",
            "__________________________________________________________________________________________________\n",
            "conv4_block20_0_bn (BatchNormal (None, 14, 14, 864)  3456        conv4_block19_concat[0][0]       \n",
            "__________________________________________________________________________________________________\n",
            "conv4_block20_0_relu (Activatio (None, 14, 14, 864)  0           conv4_block20_0_bn[0][0]         \n",
            "__________________________________________________________________________________________________\n",
            "conv4_block20_1_conv (Conv2D)   (None, 14, 14, 128)  110592      conv4_block20_0_relu[0][0]       \n",
            "__________________________________________________________________________________________________\n",
            "conv4_block20_1_bn (BatchNormal (None, 14, 14, 128)  512         conv4_block20_1_conv[0][0]       \n",
            "__________________________________________________________________________________________________\n",
            "conv4_block20_1_relu (Activatio (None, 14, 14, 128)  0           conv4_block20_1_bn[0][0]         \n",
            "__________________________________________________________________________________________________\n",
            "conv4_block20_2_conv (Conv2D)   (None, 14, 14, 32)   36864       conv4_block20_1_relu[0][0]       \n",
            "__________________________________________________________________________________________________\n",
            "conv4_block20_concat (Concatena (None, 14, 14, 896)  0           conv4_block19_concat[0][0]       \n",
            "                                                                 conv4_block20_2_conv[0][0]       \n",
            "__________________________________________________________________________________________________\n",
            "conv4_block21_0_bn (BatchNormal (None, 14, 14, 896)  3584        conv4_block20_concat[0][0]       \n",
            "__________________________________________________________________________________________________\n",
            "conv4_block21_0_relu (Activatio (None, 14, 14, 896)  0           conv4_block21_0_bn[0][0]         \n",
            "__________________________________________________________________________________________________\n",
            "conv4_block21_1_conv (Conv2D)   (None, 14, 14, 128)  114688      conv4_block21_0_relu[0][0]       \n",
            "__________________________________________________________________________________________________\n",
            "conv4_block21_1_bn (BatchNormal (None, 14, 14, 128)  512         conv4_block21_1_conv[0][0]       \n",
            "__________________________________________________________________________________________________\n",
            "conv4_block21_1_relu (Activatio (None, 14, 14, 128)  0           conv4_block21_1_bn[0][0]         \n",
            "__________________________________________________________________________________________________\n",
            "conv4_block21_2_conv (Conv2D)   (None, 14, 14, 32)   36864       conv4_block21_1_relu[0][0]       \n",
            "__________________________________________________________________________________________________\n",
            "conv4_block21_concat (Concatena (None, 14, 14, 928)  0           conv4_block20_concat[0][0]       \n",
            "                                                                 conv4_block21_2_conv[0][0]       \n",
            "__________________________________________________________________________________________________\n",
            "conv4_block22_0_bn (BatchNormal (None, 14, 14, 928)  3712        conv4_block21_concat[0][0]       \n",
            "__________________________________________________________________________________________________\n",
            "conv4_block22_0_relu (Activatio (None, 14, 14, 928)  0           conv4_block22_0_bn[0][0]         \n",
            "__________________________________________________________________________________________________\n",
            "conv4_block22_1_conv (Conv2D)   (None, 14, 14, 128)  118784      conv4_block22_0_relu[0][0]       \n",
            "__________________________________________________________________________________________________\n",
            "conv4_block22_1_bn (BatchNormal (None, 14, 14, 128)  512         conv4_block22_1_conv[0][0]       \n",
            "__________________________________________________________________________________________________\n",
            "conv4_block22_1_relu (Activatio (None, 14, 14, 128)  0           conv4_block22_1_bn[0][0]         \n",
            "__________________________________________________________________________________________________\n",
            "conv4_block22_2_conv (Conv2D)   (None, 14, 14, 32)   36864       conv4_block22_1_relu[0][0]       \n",
            "__________________________________________________________________________________________________\n",
            "conv4_block22_concat (Concatena (None, 14, 14, 960)  0           conv4_block21_concat[0][0]       \n",
            "                                                                 conv4_block22_2_conv[0][0]       \n",
            "__________________________________________________________________________________________________\n",
            "conv4_block23_0_bn (BatchNormal (None, 14, 14, 960)  3840        conv4_block22_concat[0][0]       \n",
            "__________________________________________________________________________________________________\n",
            "conv4_block23_0_relu (Activatio (None, 14, 14, 960)  0           conv4_block23_0_bn[0][0]         \n",
            "__________________________________________________________________________________________________\n",
            "conv4_block23_1_conv (Conv2D)   (None, 14, 14, 128)  122880      conv4_block23_0_relu[0][0]       \n",
            "__________________________________________________________________________________________________\n",
            "conv4_block23_1_bn (BatchNormal (None, 14, 14, 128)  512         conv4_block23_1_conv[0][0]       \n",
            "__________________________________________________________________________________________________\n",
            "conv4_block23_1_relu (Activatio (None, 14, 14, 128)  0           conv4_block23_1_bn[0][0]         \n",
            "__________________________________________________________________________________________________\n",
            "conv4_block23_2_conv (Conv2D)   (None, 14, 14, 32)   36864       conv4_block23_1_relu[0][0]       \n",
            "__________________________________________________________________________________________________\n",
            "conv4_block23_concat (Concatena (None, 14, 14, 992)  0           conv4_block22_concat[0][0]       \n",
            "                                                                 conv4_block23_2_conv[0][0]       \n",
            "__________________________________________________________________________________________________\n",
            "conv4_block24_0_bn (BatchNormal (None, 14, 14, 992)  3968        conv4_block23_concat[0][0]       \n",
            "__________________________________________________________________________________________________\n",
            "conv4_block24_0_relu (Activatio (None, 14, 14, 992)  0           conv4_block24_0_bn[0][0]         \n",
            "__________________________________________________________________________________________________\n",
            "conv4_block24_1_conv (Conv2D)   (None, 14, 14, 128)  126976      conv4_block24_0_relu[0][0]       \n",
            "__________________________________________________________________________________________________\n",
            "conv4_block24_1_bn (BatchNormal (None, 14, 14, 128)  512         conv4_block24_1_conv[0][0]       \n",
            "__________________________________________________________________________________________________\n",
            "conv4_block24_1_relu (Activatio (None, 14, 14, 128)  0           conv4_block24_1_bn[0][0]         \n",
            "__________________________________________________________________________________________________\n",
            "conv4_block24_2_conv (Conv2D)   (None, 14, 14, 32)   36864       conv4_block24_1_relu[0][0]       \n",
            "__________________________________________________________________________________________________\n",
            "conv4_block24_concat (Concatena (None, 14, 14, 1024) 0           conv4_block23_concat[0][0]       \n",
            "                                                                 conv4_block24_2_conv[0][0]       \n",
            "__________________________________________________________________________________________________\n",
            "pool4_bn (BatchNormalization)   (None, 14, 14, 1024) 4096        conv4_block24_concat[0][0]       \n",
            "__________________________________________________________________________________________________\n",
            "pool4_relu (Activation)         (None, 14, 14, 1024) 0           pool4_bn[0][0]                   \n",
            "__________________________________________________________________________________________________\n",
            "pool4_conv (Conv2D)             (None, 14, 14, 512)  524288      pool4_relu[0][0]                 \n",
            "__________________________________________________________________________________________________\n",
            "pool4_pool (AveragePooling2D)   (None, 7, 7, 512)    0           pool4_conv[0][0]                 \n",
            "__________________________________________________________________________________________________\n",
            "conv5_block1_0_bn (BatchNormali (None, 7, 7, 512)    2048        pool4_pool[0][0]                 \n",
            "__________________________________________________________________________________________________\n",
            "conv5_block1_0_relu (Activation (None, 7, 7, 512)    0           conv5_block1_0_bn[0][0]          \n",
            "__________________________________________________________________________________________________\n",
            "conv5_block1_1_conv (Conv2D)    (None, 7, 7, 128)    65536       conv5_block1_0_relu[0][0]        \n",
            "__________________________________________________________________________________________________\n",
            "conv5_block1_1_bn (BatchNormali (None, 7, 7, 128)    512         conv5_block1_1_conv[0][0]        \n",
            "__________________________________________________________________________________________________\n",
            "conv5_block1_1_relu (Activation (None, 7, 7, 128)    0           conv5_block1_1_bn[0][0]          \n",
            "__________________________________________________________________________________________________\n",
            "conv5_block1_2_conv (Conv2D)    (None, 7, 7, 32)     36864       conv5_block1_1_relu[0][0]        \n",
            "__________________________________________________________________________________________________\n",
            "conv5_block1_concat (Concatenat (None, 7, 7, 544)    0           pool4_pool[0][0]                 \n",
            "                                                                 conv5_block1_2_conv[0][0]        \n",
            "__________________________________________________________________________________________________\n",
            "conv5_block2_0_bn (BatchNormali (None, 7, 7, 544)    2176        conv5_block1_concat[0][0]        \n",
            "__________________________________________________________________________________________________\n",
            "conv5_block2_0_relu (Activation (None, 7, 7, 544)    0           conv5_block2_0_bn[0][0]          \n",
            "__________________________________________________________________________________________________\n",
            "conv5_block2_1_conv (Conv2D)    (None, 7, 7, 128)    69632       conv5_block2_0_relu[0][0]        \n",
            "__________________________________________________________________________________________________\n",
            "conv5_block2_1_bn (BatchNormali (None, 7, 7, 128)    512         conv5_block2_1_conv[0][0]        \n",
            "__________________________________________________________________________________________________\n",
            "conv5_block2_1_relu (Activation (None, 7, 7, 128)    0           conv5_block2_1_bn[0][0]          \n",
            "__________________________________________________________________________________________________\n",
            "conv5_block2_2_conv (Conv2D)    (None, 7, 7, 32)     36864       conv5_block2_1_relu[0][0]        \n",
            "__________________________________________________________________________________________________\n",
            "conv5_block2_concat (Concatenat (None, 7, 7, 576)    0           conv5_block1_concat[0][0]        \n",
            "                                                                 conv5_block2_2_conv[0][0]        \n",
            "__________________________________________________________________________________________________\n",
            "conv5_block3_0_bn (BatchNormali (None, 7, 7, 576)    2304        conv5_block2_concat[0][0]        \n",
            "__________________________________________________________________________________________________\n",
            "conv5_block3_0_relu (Activation (None, 7, 7, 576)    0           conv5_block3_0_bn[0][0]          \n",
            "__________________________________________________________________________________________________\n",
            "conv5_block3_1_conv (Conv2D)    (None, 7, 7, 128)    73728       conv5_block3_0_relu[0][0]        \n",
            "__________________________________________________________________________________________________\n",
            "conv5_block3_1_bn (BatchNormali (None, 7, 7, 128)    512         conv5_block3_1_conv[0][0]        \n",
            "__________________________________________________________________________________________________\n",
            "conv5_block3_1_relu (Activation (None, 7, 7, 128)    0           conv5_block3_1_bn[0][0]          \n",
            "__________________________________________________________________________________________________\n",
            "conv5_block3_2_conv (Conv2D)    (None, 7, 7, 32)     36864       conv5_block3_1_relu[0][0]        \n",
            "__________________________________________________________________________________________________\n",
            "conv5_block3_concat (Concatenat (None, 7, 7, 608)    0           conv5_block2_concat[0][0]        \n",
            "                                                                 conv5_block3_2_conv[0][0]        \n",
            "__________________________________________________________________________________________________\n",
            "conv5_block4_0_bn (BatchNormali (None, 7, 7, 608)    2432        conv5_block3_concat[0][0]        \n",
            "__________________________________________________________________________________________________\n",
            "conv5_block4_0_relu (Activation (None, 7, 7, 608)    0           conv5_block4_0_bn[0][0]          \n",
            "__________________________________________________________________________________________________\n",
            "conv5_block4_1_conv (Conv2D)    (None, 7, 7, 128)    77824       conv5_block4_0_relu[0][0]        \n",
            "__________________________________________________________________________________________________\n",
            "conv5_block4_1_bn (BatchNormali (None, 7, 7, 128)    512         conv5_block4_1_conv[0][0]        \n",
            "__________________________________________________________________________________________________\n",
            "conv5_block4_1_relu (Activation (None, 7, 7, 128)    0           conv5_block4_1_bn[0][0]          \n",
            "__________________________________________________________________________________________________\n",
            "conv5_block4_2_conv (Conv2D)    (None, 7, 7, 32)     36864       conv5_block4_1_relu[0][0]        \n",
            "__________________________________________________________________________________________________\n",
            "conv5_block4_concat (Concatenat (None, 7, 7, 640)    0           conv5_block3_concat[0][0]        \n",
            "                                                                 conv5_block4_2_conv[0][0]        \n",
            "__________________________________________________________________________________________________\n",
            "conv5_block5_0_bn (BatchNormali (None, 7, 7, 640)    2560        conv5_block4_concat[0][0]        \n",
            "__________________________________________________________________________________________________\n",
            "conv5_block5_0_relu (Activation (None, 7, 7, 640)    0           conv5_block5_0_bn[0][0]          \n",
            "__________________________________________________________________________________________________\n",
            "conv5_block5_1_conv (Conv2D)    (None, 7, 7, 128)    81920       conv5_block5_0_relu[0][0]        \n",
            "__________________________________________________________________________________________________\n",
            "conv5_block5_1_bn (BatchNormali (None, 7, 7, 128)    512         conv5_block5_1_conv[0][0]        \n",
            "__________________________________________________________________________________________________\n",
            "conv5_block5_1_relu (Activation (None, 7, 7, 128)    0           conv5_block5_1_bn[0][0]          \n",
            "__________________________________________________________________________________________________\n",
            "conv5_block5_2_conv (Conv2D)    (None, 7, 7, 32)     36864       conv5_block5_1_relu[0][0]        \n",
            "__________________________________________________________________________________________________\n",
            "conv5_block5_concat (Concatenat (None, 7, 7, 672)    0           conv5_block4_concat[0][0]        \n",
            "                                                                 conv5_block5_2_conv[0][0]        \n",
            "__________________________________________________________________________________________________\n",
            "conv5_block6_0_bn (BatchNormali (None, 7, 7, 672)    2688        conv5_block5_concat[0][0]        \n",
            "__________________________________________________________________________________________________\n",
            "conv5_block6_0_relu (Activation (None, 7, 7, 672)    0           conv5_block6_0_bn[0][0]          \n",
            "__________________________________________________________________________________________________\n",
            "conv5_block6_1_conv (Conv2D)    (None, 7, 7, 128)    86016       conv5_block6_0_relu[0][0]        \n",
            "__________________________________________________________________________________________________\n",
            "conv5_block6_1_bn (BatchNormali (None, 7, 7, 128)    512         conv5_block6_1_conv[0][0]        \n",
            "__________________________________________________________________________________________________\n",
            "conv5_block6_1_relu (Activation (None, 7, 7, 128)    0           conv5_block6_1_bn[0][0]          \n",
            "__________________________________________________________________________________________________\n",
            "conv5_block6_2_conv (Conv2D)    (None, 7, 7, 32)     36864       conv5_block6_1_relu[0][0]        \n",
            "__________________________________________________________________________________________________\n",
            "conv5_block6_concat (Concatenat (None, 7, 7, 704)    0           conv5_block5_concat[0][0]        \n",
            "                                                                 conv5_block6_2_conv[0][0]        \n",
            "__________________________________________________________________________________________________\n",
            "conv5_block7_0_bn (BatchNormali (None, 7, 7, 704)    2816        conv5_block6_concat[0][0]        \n",
            "__________________________________________________________________________________________________\n",
            "conv5_block7_0_relu (Activation (None, 7, 7, 704)    0           conv5_block7_0_bn[0][0]          \n",
            "__________________________________________________________________________________________________\n",
            "conv5_block7_1_conv (Conv2D)    (None, 7, 7, 128)    90112       conv5_block7_0_relu[0][0]        \n",
            "__________________________________________________________________________________________________\n",
            "conv5_block7_1_bn (BatchNormali (None, 7, 7, 128)    512         conv5_block7_1_conv[0][0]        \n",
            "__________________________________________________________________________________________________\n",
            "conv5_block7_1_relu (Activation (None, 7, 7, 128)    0           conv5_block7_1_bn[0][0]          \n",
            "__________________________________________________________________________________________________\n",
            "conv5_block7_2_conv (Conv2D)    (None, 7, 7, 32)     36864       conv5_block7_1_relu[0][0]        \n",
            "__________________________________________________________________________________________________\n",
            "conv5_block7_concat (Concatenat (None, 7, 7, 736)    0           conv5_block6_concat[0][0]        \n",
            "                                                                 conv5_block7_2_conv[0][0]        \n",
            "__________________________________________________________________________________________________\n",
            "conv5_block8_0_bn (BatchNormali (None, 7, 7, 736)    2944        conv5_block7_concat[0][0]        \n",
            "__________________________________________________________________________________________________\n",
            "conv5_block8_0_relu (Activation (None, 7, 7, 736)    0           conv5_block8_0_bn[0][0]          \n",
            "__________________________________________________________________________________________________\n",
            "conv5_block8_1_conv (Conv2D)    (None, 7, 7, 128)    94208       conv5_block8_0_relu[0][0]        \n",
            "__________________________________________________________________________________________________\n",
            "conv5_block8_1_bn (BatchNormali (None, 7, 7, 128)    512         conv5_block8_1_conv[0][0]        \n",
            "__________________________________________________________________________________________________\n",
            "conv5_block8_1_relu (Activation (None, 7, 7, 128)    0           conv5_block8_1_bn[0][0]          \n",
            "__________________________________________________________________________________________________\n",
            "conv5_block8_2_conv (Conv2D)    (None, 7, 7, 32)     36864       conv5_block8_1_relu[0][0]        \n",
            "__________________________________________________________________________________________________\n",
            "conv5_block8_concat (Concatenat (None, 7, 7, 768)    0           conv5_block7_concat[0][0]        \n",
            "                                                                 conv5_block8_2_conv[0][0]        \n",
            "__________________________________________________________________________________________________\n",
            "conv5_block9_0_bn (BatchNormali (None, 7, 7, 768)    3072        conv5_block8_concat[0][0]        \n",
            "__________________________________________________________________________________________________\n",
            "conv5_block9_0_relu (Activation (None, 7, 7, 768)    0           conv5_block9_0_bn[0][0]          \n",
            "__________________________________________________________________________________________________\n",
            "conv5_block9_1_conv (Conv2D)    (None, 7, 7, 128)    98304       conv5_block9_0_relu[0][0]        \n",
            "__________________________________________________________________________________________________\n",
            "conv5_block9_1_bn (BatchNormali (None, 7, 7, 128)    512         conv5_block9_1_conv[0][0]        \n",
            "__________________________________________________________________________________________________\n",
            "conv5_block9_1_relu (Activation (None, 7, 7, 128)    0           conv5_block9_1_bn[0][0]          \n",
            "__________________________________________________________________________________________________\n",
            "conv5_block9_2_conv (Conv2D)    (None, 7, 7, 32)     36864       conv5_block9_1_relu[0][0]        \n",
            "__________________________________________________________________________________________________\n",
            "conv5_block9_concat (Concatenat (None, 7, 7, 800)    0           conv5_block8_concat[0][0]        \n",
            "                                                                 conv5_block9_2_conv[0][0]        \n",
            "__________________________________________________________________________________________________\n",
            "conv5_block10_0_bn (BatchNormal (None, 7, 7, 800)    3200        conv5_block9_concat[0][0]        \n",
            "__________________________________________________________________________________________________\n",
            "conv5_block10_0_relu (Activatio (None, 7, 7, 800)    0           conv5_block10_0_bn[0][0]         \n",
            "__________________________________________________________________________________________________\n",
            "conv5_block10_1_conv (Conv2D)   (None, 7, 7, 128)    102400      conv5_block10_0_relu[0][0]       \n",
            "__________________________________________________________________________________________________\n",
            "conv5_block10_1_bn (BatchNormal (None, 7, 7, 128)    512         conv5_block10_1_conv[0][0]       \n",
            "__________________________________________________________________________________________________\n",
            "conv5_block10_1_relu (Activatio (None, 7, 7, 128)    0           conv5_block10_1_bn[0][0]         \n",
            "__________________________________________________________________________________________________\n",
            "conv5_block10_2_conv (Conv2D)   (None, 7, 7, 32)     36864       conv5_block10_1_relu[0][0]       \n",
            "__________________________________________________________________________________________________\n",
            "conv5_block10_concat (Concatena (None, 7, 7, 832)    0           conv5_block9_concat[0][0]        \n",
            "                                                                 conv5_block10_2_conv[0][0]       \n",
            "__________________________________________________________________________________________________\n",
            "conv5_block11_0_bn (BatchNormal (None, 7, 7, 832)    3328        conv5_block10_concat[0][0]       \n",
            "__________________________________________________________________________________________________\n",
            "conv5_block11_0_relu (Activatio (None, 7, 7, 832)    0           conv5_block11_0_bn[0][0]         \n",
            "__________________________________________________________________________________________________\n",
            "conv5_block11_1_conv (Conv2D)   (None, 7, 7, 128)    106496      conv5_block11_0_relu[0][0]       \n",
            "__________________________________________________________________________________________________\n",
            "conv5_block11_1_bn (BatchNormal (None, 7, 7, 128)    512         conv5_block11_1_conv[0][0]       \n",
            "__________________________________________________________________________________________________\n",
            "conv5_block11_1_relu (Activatio (None, 7, 7, 128)    0           conv5_block11_1_bn[0][0]         \n",
            "__________________________________________________________________________________________________\n",
            "conv5_block11_2_conv (Conv2D)   (None, 7, 7, 32)     36864       conv5_block11_1_relu[0][0]       \n",
            "__________________________________________________________________________________________________\n",
            "conv5_block11_concat (Concatena (None, 7, 7, 864)    0           conv5_block10_concat[0][0]       \n",
            "                                                                 conv5_block11_2_conv[0][0]       \n",
            "__________________________________________________________________________________________________\n",
            "conv5_block12_0_bn (BatchNormal (None, 7, 7, 864)    3456        conv5_block11_concat[0][0]       \n",
            "__________________________________________________________________________________________________\n",
            "conv5_block12_0_relu (Activatio (None, 7, 7, 864)    0           conv5_block12_0_bn[0][0]         \n",
            "__________________________________________________________________________________________________\n",
            "conv5_block12_1_conv (Conv2D)   (None, 7, 7, 128)    110592      conv5_block12_0_relu[0][0]       \n",
            "__________________________________________________________________________________________________\n",
            "conv5_block12_1_bn (BatchNormal (None, 7, 7, 128)    512         conv5_block12_1_conv[0][0]       \n",
            "__________________________________________________________________________________________________\n",
            "conv5_block12_1_relu (Activatio (None, 7, 7, 128)    0           conv5_block12_1_bn[0][0]         \n",
            "__________________________________________________________________________________________________\n",
            "conv5_block12_2_conv (Conv2D)   (None, 7, 7, 32)     36864       conv5_block12_1_relu[0][0]       \n",
            "__________________________________________________________________________________________________\n",
            "conv5_block12_concat (Concatena (None, 7, 7, 896)    0           conv5_block11_concat[0][0]       \n",
            "                                                                 conv5_block12_2_conv[0][0]       \n",
            "__________________________________________________________________________________________________\n",
            "conv5_block13_0_bn (BatchNormal (None, 7, 7, 896)    3584        conv5_block12_concat[0][0]       \n",
            "__________________________________________________________________________________________________\n",
            "conv5_block13_0_relu (Activatio (None, 7, 7, 896)    0           conv5_block13_0_bn[0][0]         \n",
            "__________________________________________________________________________________________________\n",
            "conv5_block13_1_conv (Conv2D)   (None, 7, 7, 128)    114688      conv5_block13_0_relu[0][0]       \n",
            "__________________________________________________________________________________________________\n",
            "conv5_block13_1_bn (BatchNormal (None, 7, 7, 128)    512         conv5_block13_1_conv[0][0]       \n",
            "__________________________________________________________________________________________________\n",
            "conv5_block13_1_relu (Activatio (None, 7, 7, 128)    0           conv5_block13_1_bn[0][0]         \n",
            "__________________________________________________________________________________________________\n",
            "conv5_block13_2_conv (Conv2D)   (None, 7, 7, 32)     36864       conv5_block13_1_relu[0][0]       \n",
            "__________________________________________________________________________________________________\n",
            "conv5_block13_concat (Concatena (None, 7, 7, 928)    0           conv5_block12_concat[0][0]       \n",
            "                                                                 conv5_block13_2_conv[0][0]       \n",
            "__________________________________________________________________________________________________\n",
            "conv5_block14_0_bn (BatchNormal (None, 7, 7, 928)    3712        conv5_block13_concat[0][0]       \n",
            "__________________________________________________________________________________________________\n",
            "conv5_block14_0_relu (Activatio (None, 7, 7, 928)    0           conv5_block14_0_bn[0][0]         \n",
            "__________________________________________________________________________________________________\n",
            "conv5_block14_1_conv (Conv2D)   (None, 7, 7, 128)    118784      conv5_block14_0_relu[0][0]       \n",
            "__________________________________________________________________________________________________\n",
            "conv5_block14_1_bn (BatchNormal (None, 7, 7, 128)    512         conv5_block14_1_conv[0][0]       \n",
            "__________________________________________________________________________________________________\n",
            "conv5_block14_1_relu (Activatio (None, 7, 7, 128)    0           conv5_block14_1_bn[0][0]         \n",
            "__________________________________________________________________________________________________\n",
            "conv5_block14_2_conv (Conv2D)   (None, 7, 7, 32)     36864       conv5_block14_1_relu[0][0]       \n",
            "__________________________________________________________________________________________________\n",
            "conv5_block14_concat (Concatena (None, 7, 7, 960)    0           conv5_block13_concat[0][0]       \n",
            "                                                                 conv5_block14_2_conv[0][0]       \n",
            "__________________________________________________________________________________________________\n",
            "conv5_block15_0_bn (BatchNormal (None, 7, 7, 960)    3840        conv5_block14_concat[0][0]       \n",
            "__________________________________________________________________________________________________\n",
            "conv5_block15_0_relu (Activatio (None, 7, 7, 960)    0           conv5_block15_0_bn[0][0]         \n",
            "__________________________________________________________________________________________________\n",
            "conv5_block15_1_conv (Conv2D)   (None, 7, 7, 128)    122880      conv5_block15_0_relu[0][0]       \n",
            "__________________________________________________________________________________________________\n",
            "conv5_block15_1_bn (BatchNormal (None, 7, 7, 128)    512         conv5_block15_1_conv[0][0]       \n",
            "__________________________________________________________________________________________________\n",
            "conv5_block15_1_relu (Activatio (None, 7, 7, 128)    0           conv5_block15_1_bn[0][0]         \n",
            "__________________________________________________________________________________________________\n",
            "conv5_block15_2_conv (Conv2D)   (None, 7, 7, 32)     36864       conv5_block15_1_relu[0][0]       \n",
            "__________________________________________________________________________________________________\n",
            "conv5_block15_concat (Concatena (None, 7, 7, 992)    0           conv5_block14_concat[0][0]       \n",
            "                                                                 conv5_block15_2_conv[0][0]       \n",
            "__________________________________________________________________________________________________\n",
            "conv5_block16_0_bn (BatchNormal (None, 7, 7, 992)    3968        conv5_block15_concat[0][0]       \n",
            "__________________________________________________________________________________________________\n",
            "conv5_block16_0_relu (Activatio (None, 7, 7, 992)    0           conv5_block16_0_bn[0][0]         \n",
            "__________________________________________________________________________________________________\n",
            "conv5_block16_1_conv (Conv2D)   (None, 7, 7, 128)    126976      conv5_block16_0_relu[0][0]       \n",
            "__________________________________________________________________________________________________\n",
            "conv5_block16_1_bn (BatchNormal (None, 7, 7, 128)    512         conv5_block16_1_conv[0][0]       \n",
            "__________________________________________________________________________________________________\n",
            "conv5_block16_1_relu (Activatio (None, 7, 7, 128)    0           conv5_block16_1_bn[0][0]         \n",
            "__________________________________________________________________________________________________\n",
            "conv5_block16_2_conv (Conv2D)   (None, 7, 7, 32)     36864       conv5_block16_1_relu[0][0]       \n",
            "__________________________________________________________________________________________________\n",
            "conv5_block16_concat (Concatena (None, 7, 7, 1024)   0           conv5_block15_concat[0][0]       \n",
            "                                                                 conv5_block16_2_conv[0][0]       \n",
            "__________________________________________________________________________________________________\n",
            "bn (BatchNormalization)         (None, 7, 7, 1024)   4096        conv5_block16_concat[0][0]       \n",
            "__________________________________________________________________________________________________\n",
            "relu (Activation)               (None, 7, 7, 1024)   0           bn[0][0]                         \n",
            "__________________________________________________________________________________________________\n",
            "avg_pool (GlobalAveragePooling2 (None, 1024)         0           relu[0][0]                       \n",
            "__________________________________________________________________________________________________\n",
            "dense_1 (Dense)                 (None, 1585)         1624625     avg_pool[0][0]                   \n",
            "==================================================================================================\n",
            "Total params: 8,662,129\n",
            "Trainable params: 4,987,569\n",
            "Non-trainable params: 3,674,560\n",
            "__________________________________________________________________________________________________\n"
          ],
          "name": "stdout"
        }
      ]
    },
    {
      "cell_type": "code",
      "metadata": {
        "id": "Hvf1Nns_D7Bn"
      },
      "source": [
        "get_layer_output = tf.keras.backend.function([fine_tuned_model.layers[0].input],[fine_tuned_model.layers[-4].output])"
      ],
      "execution_count": null,
      "outputs": []
    },
    {
      "cell_type": "code",
      "metadata": {
        "id": "JyurDwT8E8uD"
      },
      "source": [
        "def feedForward_finetuned(fname,get_layer_output):\n",
        "\n",
        "    img = tf.keras.preprocessing.image.load_img(fname, target_size=(224,224))\n",
        "    x = tf.keras.preprocessing.image.img_to_array(img)\n",
        "    x = np.expand_dims(x, axis = 0)\n",
        "    x = tf.keras.applications.densenet.preprocess_input(x)\n",
        "    features = get_layer_output([x])[0]\n",
        "    features = features.flatten()\n",
        "\n",
        "    return features\n",
        "\n",
        "def extract_store_finetuned(path_dir, model):\n",
        "  \"\"\"\n",
        "    Function that takes a path and passes all the images (inside that directory) to the feedForward function for feature extraction, and then creates\n",
        "    a dataframe containing all features and image ids of the images.\n",
        "    path_dir: full path of the directory that will be searched\n",
        "    model: model to be used for feature extraction\n",
        "\n",
        "    Returns: A pandas DataFrame containing all images and their corresponding features\n",
        "  \"\"\"\n",
        "  id_features_vector = []\n",
        "  print('Extracting features...')\n",
        "\n",
        "  for image in tqdm(os.listdir(path_dir), position= 0, leave = False):\n",
        "    path = os.path.join(path_dir, image)\n",
        "    name_image = os.path.splitext(image)[0]\n",
        "    image_id = int(name_image.replace('synpic',''))\n",
        "    vector = feedForward_finetuned(path, model)\n",
        "    vector = np.insert(vector,0,image_id)\n",
        "    id_features_vector.append(vector)\n",
        "\n",
        "\n",
        "  #df_values = pd.DataFrame(id_features_vector, dtype = float)\n",
        "\n",
        "  return id_features_vector"
      ],
      "execution_count": null,
      "outputs": []
    },
    {
      "cell_type": "code",
      "metadata": {
        "colab": {
          "base_uri": "https://localhost:8080/"
        },
        "id": "5QBjwGM_E8xj",
        "outputId": "7f58ec84-ed38-4a4f-97c3-8d4970e11c69"
      },
      "source": [
        "# Training set\n",
        "id_features_vector = extract_store_finetuned('/content/ImageCLEF2021_ConceptDetection_Training-Set/ImageCLEF2021_ConceptDetection_Training-Set/Training-Images', get_layer_output)\n",
        "#default_features_df.to_csv('/content/features-densenet-modality-clf-fined-training-2021.csv', index = False, header=False)\n",
        "np.save('/content/features-224-densenet-modality-clf-fined-training-2021.npy', id_features_vector)\n",
        "# Validation set\n",
        "id_features_vector = extract_store_finetuned('/content/ImageCLEF2021_ConceptDetection_Validation-Set/Validation-Images', get_layer_output)\n",
        "#default_features_df.to_csv('/content/features-densenet-modality-clf-fined-validation-2021.csv', index = False, header=False)\n",
        "np.save('/content/features-224-densenet-modality-clf-fined-validation-2021.npy', id_features_vector)"
      ],
      "execution_count": null,
      "outputs": [
        {
          "output_type": "stream",
          "text": [
            "\r  0%|          | 0/2756 [00:00<?, ?it/s]"
          ],
          "name": "stderr"
        },
        {
          "output_type": "stream",
          "text": [
            "Extracting features...\n"
          ],
          "name": "stdout"
        },
        {
          "output_type": "stream",
          "text": [
            "  0%|          | 1/500 [00:00<01:06,  7.51it/s]"
          ],
          "name": "stderr"
        },
        {
          "output_type": "stream",
          "text": [
            "Extracting features...\n"
          ],
          "name": "stdout"
        },
        {
          "output_type": "stream",
          "text": [
            ""
          ],
          "name": "stderr"
        }
      ]
    },
    {
      "cell_type": "code",
      "metadata": {
        "id": "4lYpL6XaE87d"
      },
      "source": [
        ""
      ],
      "execution_count": null,
      "outputs": []
    },
    {
      "cell_type": "code",
      "metadata": {
        "id": "Q3XRwnrqwKUs"
      },
      "source": [
        "# Utils functions\n",
        "def extract_concepts(root_paths, image_id_concepts_dict = dict()):\n",
        "\n",
        "    for idx, name in enumerate(root_paths):\n",
        "      with open(name, \"r\", encoding= 'utf-8-sig') as f:\n",
        "        reader = csv.reader(f, delimiter = '\\t')\n",
        "        \n",
        "        if name == '/content/Training_Set_Concepts.csv':\n",
        "          image_path = '/content/ImageCLEF2021_ConceptDetection_Training-Set/ImageCLEF2021_ConceptDetection_Training-Set/Training-Images/'\n",
        "        else:\n",
        "          image_path = '/content/ImageCLEF2021_ConceptDetection_Validation-Set/Validation-Images/'\n",
        "        for i, line in enumerate(reader):\n",
        "          if len(line[1]) < 1:\n",
        "            image_id_concepts_dict[image_path+line[0]+'.jpg'] = []\n",
        "          else:\n",
        "            image_id_concepts_dict[image_path+line[0]+'.jpg'] = list(line[1].split(';'))\n",
        "\n",
        "    return image_id_concepts_dict"
      ],
      "execution_count": null,
      "outputs": []
    },
    {
      "cell_type": "code",
      "metadata": {
        "id": "WegPoZXLwKcS"
      },
      "source": [
        "# Path and csv name to concepts file for training and validation images\n",
        "path_to_concepts = ['/content/Training_Set_Concepts.csv','/content/ImageCLEF2021_ConceptDetection_Validation-Set/Validation_Set_Concepts.csv']\n",
        "\n",
        "#Extract concepts for the validation and training images and save to dict\n",
        "image_id_concepts_dict = extract_concepts(path_to_concepts)"
      ],
      "execution_count": null,
      "outputs": []
    },
    {
      "cell_type": "code",
      "metadata": {
        "colab": {
          "base_uri": "https://localhost:8080/"
        },
        "id": "aJB_LCsQwoqX",
        "outputId": "a54d322f-ea14-4278-90ca-4a38093f6a51"
      },
      "source": [
        "# Since we are working with around 9K images. We will only load the images absolute path and the concepts to a dataframe and then use a generator to load them during training.\n",
        "# Here, we will create a dataframe with the images path\n",
        "all_images_path = []\n",
        "# Training images\n",
        "for image in tqdm(image_id_concepts_dict.keys(), position = 0):\n",
        "  all_images_path.append([image])\n",
        "df_all_images = pd.DataFrame(all_images_path, columns=['image_path'])"
      ],
      "execution_count": null,
      "outputs": [
        {
          "output_type": "stream",
          "text": [
            "100%|██████████| 3256/3256 [00:00<00:00, 898878.02it/s]\n"
          ],
          "name": "stderr"
        }
      ]
    },
    {
      "cell_type": "code",
      "metadata": {
        "colab": {
          "base_uri": "https://localhost:8080/"
        },
        "id": "kA_gmqf0wouC",
        "outputId": "d9e1b7b6-78e8-4b20-9dc6-a50d207af386"
      },
      "source": [
        "concepts = []\n",
        "for image in tqdm(image_id_concepts_dict.keys(), position=0):\n",
        "  concepts.append(image_id_concepts_dict[image])"
      ],
      "execution_count": null,
      "outputs": [
        {
          "output_type": "stream",
          "text": [
            "100%|██████████| 3256/3256 [00:00<00:00, 1044166.51it/s]\n"
          ],
          "name": "stderr"
        }
      ]
    },
    {
      "cell_type": "code",
      "metadata": {
        "id": "-ANNlzAkwoxf"
      },
      "source": [
        "mlb = MultiLabelBinarizer()"
      ],
      "execution_count": null,
      "outputs": []
    },
    {
      "cell_type": "code",
      "metadata": {
        "id": "KIUApDC2wo0N"
      },
      "source": [
        "# Since we will use flow_from_dataframe in the training, we put both the images absolute path and the encoded labels\n",
        "df_use = pd.concat([df_all_images, pd.DataFrame(np.array(mlb.fit_transform(concepts)))], axis=1)"
      ],
      "execution_count": null,
      "outputs": []
    },
    {
      "cell_type": "code",
      "metadata": {
        "colab": {
          "base_uri": "https://localhost:8080/"
        },
        "id": "ixenfXO0krpc",
        "outputId": "1cd7b098-0bfe-48b8-d511-80b570764651"
      },
      "source": [
        "default_efficient_b4 = tf.keras.applications.EfficientNetB4(include_top=False, input_shape = (492,492,3))"
      ],
      "execution_count": null,
      "outputs": [
        {
          "output_type": "stream",
          "text": [
            "Downloading data from https://storage.googleapis.com/keras-applications/efficientnetb4_notop.h5\n",
            "71688192/71686520 [==============================] - 0s 0us/step\n"
          ],
          "name": "stdout"
        }
      ]
    },
    {
      "cell_type": "code",
      "metadata": {
        "id": "n6fq84Qdkrxd"
      },
      "source": [
        "default_efficient_b4.summary()"
      ],
      "execution_count": null,
      "outputs": []
    },
    {
      "cell_type": "code",
      "metadata": {
        "id": "I1CA5QRskr1h"
      },
      "source": [
        "default_efficient_b4.trainable = False"
      ],
      "execution_count": null,
      "outputs": []
    },
    {
      "cell_type": "code",
      "metadata": {
        "id": "KV2mV9lPkr5J"
      },
      "source": [
        "x = tf.keras.layers.GlobalAveragePooling2D()(default_efficient_b4.output)\n",
        "x = tf.keras.layers.Dropout(0.2)(x)\n",
        "x = tf.keras.layers.Dense(1585, activation='sigmoid')(x)\n",
        "\n",
        "custom_efficient_b4 = tf.keras.models.Model(inputs = default_efficient_b4.input, outputs = x)"
      ],
      "execution_count": null,
      "outputs": []
    },
    {
      "cell_type": "code",
      "metadata": {
        "id": "nTeLZQumtHQT"
      },
      "source": [
        "custom_efficient_b4.summary()"
      ],
      "execution_count": null,
      "outputs": []
    },
    {
      "cell_type": "code",
      "metadata": {
        "id": "TN988bh7vDKN"
      },
      "source": [
        "# Define some required parameter for training\n",
        "init_lr = 1e-4\n",
        "epochs = 100\n",
        "batch_size = 32\n",
        "valid_batch_size = 32\n",
        "\n",
        "# Objects to be used by the model\n",
        "opt = tf.keras.optimizers.Adam(lr=init_lr, decay=init_lr / epochs)\n",
        "callbacks = [tf.keras.callbacks.EarlyStopping(monitor = 'val_acc', patience = 5, restore_best_weights= True, mode = 'max')]"
      ],
      "execution_count": null,
      "outputs": []
    },
    {
      "cell_type": "code",
      "metadata": {
        "id": "O_6NheZjvDX9"
      },
      "source": [
        "# Compile model\n",
        "custom_efficient_b4.compile(loss = 'binary_crossentropy', optimizer=opt, metrics=['acc'])"
      ],
      "execution_count": null,
      "outputs": []
    },
    {
      "cell_type": "code",
      "metadata": {
        "colab": {
          "base_uri": "https://localhost:8080/"
        },
        "id": "EOdMIWqivDb8",
        "outputId": "563d0feb-97fb-4ed9-d1b1-971431c4d37f"
      },
      "source": [
        "# Data generator\n",
        "data_generator = tf.keras.preprocessing.image.ImageDataGenerator(validation_split = 0.2, rescale=1./255) # This will split the training dataframe, and also rescale the values from loaded images\n",
        "\n",
        "# Train generator\n",
        "train_generator = data_generator.flow_from_dataframe(df_use,x_col='image_path', y_col=df_use.columns[1:], target_size=(492,492),\n",
        "                                                     class_mode ='raw',batch_size=32, shuffle=True, seed=14, subset='training')\n",
        "\n",
        "# Validation generator\n",
        "val_generator = data_generator.flow_from_dataframe(df_use,x_col='image_path', y_col=df_use.columns[1:], target_size=(492,492),\n",
        "                                                     class_mode ='raw',batch_size=32, shuffle=True, seed=14, subset='validation')"
      ],
      "execution_count": null,
      "outputs": [
        {
          "output_type": "stream",
          "text": [
            "Found 2605 validated image filenames.\n",
            "Found 651 validated image filenames.\n"
          ],
          "name": "stdout"
        }
      ]
    },
    {
      "cell_type": "code",
      "metadata": {
        "id": "X4evfcxvvDgU"
      },
      "source": [
        "# Model training (only the classification layers that have been added)\n",
        "history = custom_efficient_b4.fit(train_generator, epochs = epochs, validation_data= val_generator, verbose= 1,\n",
        "                               callbacks = callbacks, batch_size = 32)"
      ],
      "execution_count": null,
      "outputs": []
    },
    {
      "cell_type": "code",
      "metadata": {
        "id": "5ouBvaZxvDkm"
      },
      "source": [
        "layer_names = [layer.name for layer in default_efficient_b4.layers]"
      ],
      "execution_count": null,
      "outputs": []
    },
    {
      "cell_type": "code",
      "metadata": {
        "id": "T4d3__BS69x1"
      },
      "source": [
        "layer_idx = layer_names.index('block5a_expand_conv')"
      ],
      "execution_count": null,
      "outputs": []
    },
    {
      "cell_type": "code",
      "metadata": {
        "id": "LXYaog-k691M"
      },
      "source": [
        "for layer in default_efficient_b4.layers[layer_idx:]:\n",
        "  layer.trainable = True"
      ],
      "execution_count": null,
      "outputs": []
    },
    {
      "cell_type": "code",
      "metadata": {
        "id": "7PClovjm697g"
      },
      "source": [
        "# Define some required parameter for training\n",
        "init_lr = 1e-5\n",
        "epochs = 100\n",
        "\n",
        "# Objects to be used by the model\n",
        "opt = tf.keras.optimizers.Adam(lr=init_lr, decay=init_lr / epochs)\n",
        "callbacks = [tf.keras.callbacks.EarlyStopping(monitor = 'val_acc', patience = 5, restore_best_weights= True, mode = 'max')]"
      ],
      "execution_count": null,
      "outputs": []
    },
    {
      "cell_type": "code",
      "metadata": {
        "id": "gWVYc2vK69-z"
      },
      "source": [
        "# Compile model\n",
        "custom_efficient_b4.compile(loss = 'binary_crossentropy', optimizer=opt, metrics=['acc'])"
      ],
      "execution_count": null,
      "outputs": []
    },
    {
      "cell_type": "code",
      "metadata": {
        "colab": {
          "base_uri": "https://localhost:8080/"
        },
        "id": "zPfUg6L26-BX",
        "outputId": "7ee670d8-94e8-49d2-8a0e-3890c053ddd5"
      },
      "source": [
        "# Model training (only the classification layers that have been added)\n",
        "history_fined = custom_efficient_b4.fit(train_generator, epochs = epochs, validation_data= val_generator, verbose= 1,\n",
        "                               callbacks = callbacks, batch_size = 32)"
      ],
      "execution_count": null,
      "outputs": [
        {
          "output_type": "stream",
          "text": [
            "Epoch 1/100\n",
            "82/82 [==============================] - 150s 2s/step - loss: 0.8188 - acc: 0.0128 - val_loss: 0.2068 - val_acc: 0.1674\n",
            "Epoch 2/100\n",
            "82/82 [==============================] - 133s 2s/step - loss: 0.2231 - acc: 0.1659 - val_loss: 0.1266 - val_acc: 0.1674\n",
            "Epoch 3/100\n",
            "82/82 [==============================] - 133s 2s/step - loss: 0.1088 - acc: 0.1713 - val_loss: 0.0691 - val_acc: 0.1674\n",
            "Epoch 4/100\n",
            "82/82 [==============================] - 133s 2s/step - loss: 0.0743 - acc: 0.1736 - val_loss: 0.0536 - val_acc: 0.1674\n",
            "Epoch 5/100\n",
            "82/82 [==============================] - 133s 2s/step - loss: 0.0563 - acc: 0.1808 - val_loss: 0.0463 - val_acc: 0.1674\n",
            "Epoch 6/100\n",
            "82/82 [==============================] - 133s 2s/step - loss: 0.0462 - acc: 0.1715 - val_loss: 0.0404 - val_acc: 0.1674\n"
          ],
          "name": "stdout"
        }
      ]
    },
    {
      "cell_type": "code",
      "metadata": {
        "id": "4gooXlO5icIV"
      },
      "source": [
        "get_layer_output = tf.keras.backend.function([custom_efficient_b4.layers[0].input],[custom_efficient_b4.layers[-3].output])"
      ],
      "execution_count": null,
      "outputs": []
    },
    {
      "cell_type": "code",
      "metadata": {
        "id": "mYjyWf_6lOgA"
      },
      "source": [
        "def feedForward_finetuned(fname,get_layer_output):\n",
        "\n",
        "    img = tf.keras.preprocessing.image.load_img(fname, target_size=(492,492))\n",
        "    x = tf.keras.preprocessing.image.img_to_array(img)\n",
        "    x = np.expand_dims(x, axis = 0)\n",
        "    x = tf.keras.applications.efficientnet.preprocess_input(x)\n",
        "    features = get_layer_output([x])[0]\n",
        "    features = features.flatten()\n",
        "\n",
        "    return features\n",
        "\n",
        "def extract_store_finetuned(path_dir, model):\n",
        "  \"\"\"\n",
        "    Function that takes a path and passes all the images (inside that directory) to the feedForward function for feature extraction, and then creates\n",
        "    a dataframe containing all features and image ids of the images.\n",
        "    path_dir: full path of the directory that will be searched\n",
        "    model: model to be used for feature extraction\n",
        "\n",
        "    Returns: A pandas DataFrame containing all images and their corresponding features\n",
        "  \"\"\"\n",
        "  id_features_vector = []\n",
        "  print('Extracting features...')\n",
        "\n",
        "  for image in tqdm(os.listdir(path_dir), position= 0, leave = False):\n",
        "    path = os.path.join(path_dir, image)\n",
        "    name_image = os.path.splitext(image)[0]\n",
        "    image_id = int(name_image.replace('synpic',''))\n",
        "    vector = feedForward_finetuned(path, model)\n",
        "    vector = np.insert(vector,0,image_id)\n",
        "    id_features_vector.append(vector)\n",
        "\n",
        "\n",
        "  #df_values = pd.DataFrame(id_features_vector, dtype = float)\n",
        "\n",
        "  return id_features_vector"
      ],
      "execution_count": null,
      "outputs": []
    },
    {
      "cell_type": "code",
      "metadata": {
        "colab": {
          "base_uri": "https://localhost:8080/"
        },
        "id": "iJf8y8OylOkN",
        "outputId": "0f0995c5-5ebd-4179-f8c9-3d034585044d"
      },
      "source": [
        "# Training set\n",
        "id_features_vector = extract_store_finetuned('/content/ImageCLEF2021_ConceptDetection_Training-Set/ImageCLEF2021_ConceptDetection_Training-Set/Training-Images', get_layer_output)\n",
        "np.save('/content/features-492-efficient4-fined-training-2021.npy', id_features_vector)\n",
        "\n",
        "# Validation set\n",
        "id_features_vector = extract_store_finetuned('/content/ImageCLEF2021_ConceptDetection_Validation-Set/Validation-Images', get_layer_output)\n",
        "\n",
        "np.save('/content/features-492-efficient-fined-validation-2021.npy', id_features_vector)"
      ],
      "execution_count": null,
      "outputs": [
        {
          "output_type": "stream",
          "text": [
            "  0%|          | 1/2756 [00:00<07:14,  6.34it/s]"
          ],
          "name": "stderr"
        },
        {
          "output_type": "stream",
          "text": [
            "Extracting features...\n"
          ],
          "name": "stdout"
        },
        {
          "output_type": "stream",
          "text": [
            "  0%|          | 1/500 [00:00<01:10,  7.12it/s]"
          ],
          "name": "stderr"
        },
        {
          "output_type": "stream",
          "text": [
            "Extracting features...\n"
          ],
          "name": "stdout"
        },
        {
          "output_type": "stream",
          "text": [
            ""
          ],
          "name": "stderr"
        }
      ]
    },
    {
      "cell_type": "code",
      "metadata": {
        "id": "a3rn4Ru4lOok"
      },
      "source": [
        "custom_efficient_b4.save('fine-tuned-efficient4.h5')"
      ],
      "execution_count": null,
      "outputs": []
    },
    {
      "cell_type": "code",
      "metadata": {
        "id": "JmOj9TW2mHGV"
      },
      "source": [
        ""
      ],
      "execution_count": null,
      "outputs": []
    },
    {
      "cell_type": "code",
      "metadata": {
        "id": "ZQEJinDSmHKi"
      },
      "source": [
        ""
      ],
      "execution_count": null,
      "outputs": []
    },
    {
      "cell_type": "code",
      "metadata": {
        "id": "ivU9feIamHOJ"
      },
      "source": [
        ""
      ],
      "execution_count": null,
      "outputs": []
    },
    {
      "cell_type": "code",
      "metadata": {
        "id": "bLLKGaY6mHSQ"
      },
      "source": [
        ""
      ],
      "execution_count": null,
      "outputs": []
    },
    {
      "cell_type": "markdown",
      "metadata": {
        "id": "gyLq-VpOsuaf"
      },
      "source": [
        "# Feature extraction using DenseNet-121 and 2021+2020 dataset"
      ]
    },
    {
      "cell_type": "markdown",
      "metadata": {
        "id": "80VilvI6s1zi"
      },
      "source": [
        "## Default Densenet-121 model (initialized with imagenet weights) with fine-tunning"
      ]
    },
    {
      "cell_type": "code",
      "metadata": {
        "id": "x9uwkJk2s0-o"
      },
      "source": [
        "# Function to extract concepts from the training and validation images from 2021, and also from selected images from 2020 ImageCLEF dataset\n",
        "# These selected images are images that strictly have the same concepts of this year dataset, therefore, 6,556 images from last year dataset are being used\n",
        "def extract_concepts_all(root_paths, image_id_concepts_dict = dict()):\n",
        "    \"\"\"\n",
        "      Function that extract concepts for a concept file (csv and json), and stores them in a dictionary, \n",
        "      where the key is the absolute path of the image and the values are the concepts.\n",
        "\n",
        "      root_paths: a 1-d list that contains the absolute paths of the concept files\n",
        "      image_id_concepts_dict: dictionary that will contain the data from the concepts file\n",
        "\n",
        "      Returns: a dictionary with the absolute images paths as keys and their corresponding concepts as values.\n",
        "\n",
        "    \"\"\"\n",
        "    for idx, name in enumerate(root_paths):\n",
        "      if idx < 2:\n",
        "        with open(name, \"r\", encoding= 'utf-8-sig') as f:\n",
        "          reader = csv.reader(f, delimiter = '\\t')\n",
        "          if name =='/content/Training_Set_Concepts.csv':\n",
        "            path_image = '/content/ImageCLEF2021_ConceptDetection_Training-Set/ImageCLEF2021_ConceptDetection_Training-Set/Training-Images/'\n",
        "\n",
        "          if name == '/content/ImageCLEF2021_ConceptDetection_Validation-Set/Validation_Set_Concepts.csv':\n",
        "            path_image = '/content/ImageCLEF2021_ConceptDetection_Validation-Set/Validation-Images/'\n",
        "\n",
        "          for i, line in enumerate(reader):\n",
        "    \n",
        "              if len(line[1]) < 1:\n",
        "                image_id_concepts_dict[path_image+line[0]+'.jpg'] = []\n",
        "              else:\n",
        "                image_id_concepts_dict[path_image+line[0]+'.jpg'] = list(line[1].split(';'))\n",
        "                \n",
        "      else:\n",
        "        # This section is strictly for the images from 2020 dataset\n",
        "        for concept_file in os.listdir(name):\n",
        "          modality = concept_file.split(\"_\")[0]\n",
        "          if name == '/content/ImageCLEF2020_Train_Concepts':\n",
        "            path_image = '/content/ImageCLEF2020_Train_Images/Train/%s/' %modality\n",
        "          if name == '/content/ImageCLEF2020_Validation_Concepts':\n",
        "            path_image = '/content/ImageCLEF2020_Validation_Images/Validation/%s/' %modality\n",
        "\n",
        "          with open(os.path.join(name,concept_file), \"r\", encoding='utf-8-sig') as f:\n",
        "            reader = csv.reader(f)\n",
        "            for i, line in enumerate(reader):\n",
        "              image_id_concepts_dict[path_image+line[0]] = line[1:]\n",
        "\n",
        "    return image_id_concepts_dict"
      ],
      "execution_count": null,
      "outputs": []
    },
    {
      "cell_type": "code",
      "metadata": {
        "id": "MOhTDLFZs1BL"
      },
      "source": [
        "path_to_concepts = ['/content/Training_Set_Concepts.csv',\n",
        "                    '/content/ImageCLEF2021_ConceptDetection_Validation-Set/Validation_Set_Concepts.csv',\n",
        "                    '/content/ImageCLEF2020_Train_Concepts','/content/ImageCLEF2020_Validation_Concepts']\n",
        "image_id_concepts_dict = extract_concepts_all(path_to_concepts)"
      ],
      "execution_count": null,
      "outputs": []
    },
    {
      "cell_type": "code",
      "metadata": {
        "id": "hwrEQ6MIs1Ek"
      },
      "source": [
        "images_path_and_concepts = []\n",
        "for image in image_id_concepts_dict.keys():\n",
        "  images_path_and_concepts.append([image,image_id_concepts_dict[image]])\n",
        "\n",
        "df_images_concepts = pd.DataFrame(images_path_and_concepts, columns=['image_path', 'tags'])"
      ],
      "execution_count": null,
      "outputs": []
    },
    {
      "cell_type": "code",
      "metadata": {
        "id": "haQU-cGQwn_K"
      },
      "source": [
        "default_densenet = tf.keras.applications.densenet.DenseNet121(include_top=True, weights= 'imagenet')"
      ],
      "execution_count": null,
      "outputs": []
    },
    {
      "cell_type": "code",
      "metadata": {
        "id": "yROVoMWEwoBk"
      },
      "source": [
        "default_densenet.trainable = False # Set the densenet-121 layers to train = False before creating new mode"
      ],
      "execution_count": null,
      "outputs": []
    },
    {
      "cell_type": "code",
      "metadata": {
        "id": "cP9wiA6swoG3"
      },
      "source": [
        "x = default_densenet.layers[-2].output\n",
        "prediction_layer = tf.keras.layers.Dense(4339, activation= 'sigmoid')(x)\n",
        "fine_tuned_model = tf.keras.models.Model(inputs = default_densenet.input, outputs = prediction_layer)"
      ],
      "execution_count": null,
      "outputs": []
    },
    {
      "cell_type": "code",
      "metadata": {
        "id": "Arn4dWeXwoKO"
      },
      "source": [
        "initial_learning_rate = 0.001\n",
        "lr_schedule = tf.keras.optimizers.schedules.ExponentialDecay(initial_learning_rate, decay_steps=100, decay_rate=0.90, staircase=True)\n",
        "\n",
        "fine_tuned_model.compile(loss = 'binary_crossentropy', optimizer= tf.keras.optimizers.Adam(learning_rate=lr_schedule), metrics = ['acc'])\n",
        "\n",
        "callback_earlystop = tf.keras.callbacks.EarlyStopping(monitor = 'val_loss', patience = 5, restore_best_weights= True)"
      ],
      "execution_count": null,
      "outputs": []
    },
    {
      "cell_type": "code",
      "metadata": {
        "id": "-Yd-heigwoM2"
      },
      "source": [
        "data_generator = tf.keras.preprocessing.image.ImageDataGenerator(validation_split = 0.2, rescale=1./255)"
      ],
      "execution_count": null,
      "outputs": []
    },
    {
      "cell_type": "code",
      "metadata": {
        "colab": {
          "base_uri": "https://localhost:8080/"
        },
        "id": "Jp0UCzwdwoPp",
        "outputId": "5d2f0522-d21a-443b-811e-f9f44b9604aa"
      },
      "source": [
        "train_generator = data_generator.flow_from_dataframe(df_images_concepts, x_col='image_path',y_col='tags',target_size=(224,224), \n",
        "                                                     class_mode='categorical',shuffle=True, seed=14, subset = 'training')\n",
        "val_generator = data_generator.flow_from_dataframe(df_images_concepts, x_col='image_path',y_col='tags',target_size=(224,224), \n",
        "                                                     class_mode='categorical',shuffle=True, seed=14, subset = 'validation')"
      ],
      "execution_count": null,
      "outputs": [
        {
          "output_type": "stream",
          "text": [
            "Found 67184 validated image filenames belonging to 4339 classes.\n",
            "Found 16795 validated image filenames belonging to 4339 classes.\n"
          ],
          "name": "stdout"
        }
      ]
    },
    {
      "cell_type": "code",
      "metadata": {
        "colab": {
          "base_uri": "https://localhost:8080/"
        },
        "id": "m5tuHWM3yI6u",
        "outputId": "590c723c-9cb5-431d-b6a0-98d2a630f077"
      },
      "source": [
        "history = fine_tuned_model.fit(train_generator, epochs = 15, validation_data= val_generator, verbose= 1,\n",
        "                               callbacks = [callback_earlystop])"
      ],
      "execution_count": null,
      "outputs": [
        {
          "output_type": "stream",
          "text": [
            "Epoch 1/15\n",
            "2100/2100 [==============================] - 538s 238ms/step - loss: 0.0237 - acc: 0.2496 - val_loss: 0.0124 - val_acc: 0.2732\n",
            "Epoch 2/15\n",
            "2100/2100 [==============================] - 469s 223ms/step - loss: 0.0137 - acc: 0.2860 - val_loss: 0.0123 - val_acc: 0.2760\n",
            "Epoch 3/15\n",
            "2100/2100 [==============================] - 452s 215ms/step - loss: 0.0135 - acc: 0.2859 - val_loss: 0.0123 - val_acc: 0.2762\n",
            "Epoch 4/15\n",
            "2100/2100 [==============================] - 452s 215ms/step - loss: 0.0134 - acc: 0.2880 - val_loss: 0.0123 - val_acc: 0.2762\n",
            "Epoch 5/15\n",
            "2100/2100 [==============================] - 454s 216ms/step - loss: 0.0135 - acc: 0.2862 - val_loss: 0.0123 - val_acc: 0.2762\n",
            "Epoch 6/15\n",
            "2100/2100 [==============================] - 454s 216ms/step - loss: 0.0134 - acc: 0.2911 - val_loss: 0.0123 - val_acc: 0.2762\n",
            "Epoch 7/15\n",
            "2100/2100 [==============================] - 455s 217ms/step - loss: 0.0133 - acc: 0.2913 - val_loss: 0.0123 - val_acc: 0.2762\n",
            "Epoch 8/15\n",
            "2100/2100 [==============================] - 455s 216ms/step - loss: 0.0135 - acc: 0.2870 - val_loss: 0.0123 - val_acc: 0.2762\n",
            "Epoch 9/15\n",
            "2100/2100 [==============================] - 454s 216ms/step - loss: 0.0135 - acc: 0.2842 - val_loss: 0.0123 - val_acc: 0.2762\n"
          ],
          "name": "stdout"
        }
      ]
    },
    {
      "cell_type": "code",
      "metadata": {
        "id": "VzaqyOqnyI-V"
      },
      "source": [
        "default_densenet.trainable = True"
      ],
      "execution_count": null,
      "outputs": []
    },
    {
      "cell_type": "code",
      "metadata": {
        "id": "8u_vacqNyJBg"
      },
      "source": [
        "initial_learning_rate = 0.0001\n",
        "lr_schedule = tf.keras.optimizers.schedules.ExponentialDecay(initial_learning_rate, decay_steps=100, decay_rate=0.90, staircase=True)\n",
        "\n",
        "fine_tuned_model.compile(loss='binary_crossentropy', optimizer= tf.keras.optimizers.Adam(learning_rate=lr_schedule), metrics = ['acc'])"
      ],
      "execution_count": null,
      "outputs": []
    },
    {
      "cell_type": "code",
      "metadata": {
        "colab": {
          "base_uri": "https://localhost:8080/"
        },
        "id": "Q2mJqNZAyJE5",
        "outputId": "3d8a28dc-bd39-4a7b-e52a-73bd493affc6"
      },
      "source": [
        "fine_tune_epochs = 100\n",
        "total_epochs =  15 + fine_tune_epochs\n",
        "\n",
        "history_fine = fine_tuned_model.fit(train_generator, epochs = total_epochs, validation_data= val_generator, \n",
        "                                    verbose= 1, callbacks = [callback_earlystop], initial_epoch = history.epoch[-1])"
      ],
      "execution_count": null,
      "outputs": [
        {
          "output_type": "stream",
          "text": [
            "Epoch 9/115\n",
            "2100/2100 [==============================] - 871s 409ms/step - loss: 0.0137 - acc: 0.3022 - val_loss: 0.0120 - val_acc: 0.2807\n",
            "Epoch 10/115\n",
            "2100/2100 [==============================] - 857s 408ms/step - loss: 0.0132 - acc: 0.2908 - val_loss: 0.0120 - val_acc: 0.2797\n",
            "Epoch 11/115\n",
            "2100/2100 [==============================] - 859s 409ms/step - loss: 0.0133 - acc: 0.2887 - val_loss: 0.0120 - val_acc: 0.2787\n",
            "Epoch 12/115\n",
            "2100/2100 [==============================] - 858s 409ms/step - loss: 0.0132 - acc: 0.2887 - val_loss: 0.0120 - val_acc: 0.2797\n",
            "Epoch 13/115\n",
            "2100/2100 [==============================] - 860s 409ms/step - loss: 0.0132 - acc: 0.2902 - val_loss: 0.0120 - val_acc: 0.2788\n",
            "Epoch 14/115\n",
            "2100/2100 [==============================] - 860s 409ms/step - loss: 0.0132 - acc: 0.2914 - val_loss: 0.0120 - val_acc: 0.2786\n",
            "Epoch 15/115\n",
            "2100/2100 [==============================] - 860s 409ms/step - loss: 0.0132 - acc: 0.2911 - val_loss: 0.0120 - val_acc: 0.2794\n",
            "Epoch 16/115\n",
            "2100/2100 [==============================] - 858s 409ms/step - loss: 0.0132 - acc: 0.2900 - val_loss: 0.0120 - val_acc: 0.2792\n",
            "Epoch 17/115\n",
            "2100/2100 [==============================] - 859s 409ms/step - loss: 0.0133 - acc: 0.2862 - val_loss: 0.0120 - val_acc: 0.2801\n",
            "Epoch 18/115\n",
            "2100/2100 [==============================] - 858s 409ms/step - loss: 0.0133 - acc: 0.2869 - val_loss: 0.0120 - val_acc: 0.2787\n",
            "Epoch 19/115\n",
            "2100/2100 [==============================] - 856s 407ms/step - loss: 0.0132 - acc: 0.2884 - val_loss: 0.0120 - val_acc: 0.2795\n",
            "Epoch 20/115\n",
            "2100/2100 [==============================] - 856s 408ms/step - loss: 0.0131 - acc: 0.2928 - val_loss: 0.0120 - val_acc: 0.2797\n",
            "Epoch 21/115\n",
            "2100/2100 [==============================] - 857s 408ms/step - loss: 0.0132 - acc: 0.2866 - val_loss: 0.0120 - val_acc: 0.2794\n",
            "Epoch 22/115\n",
            "2100/2100 [==============================] - 856s 408ms/step - loss: 0.0132 - acc: 0.2908 - val_loss: 0.0120 - val_acc: 0.2794\n",
            "Epoch 23/115\n",
            "2100/2100 [==============================] - 856s 408ms/step - loss: 0.0132 - acc: 0.2874 - val_loss: 0.0120 - val_acc: 0.2793\n",
            "Epoch 24/115\n",
            " 422/2100 [=====>........................] - ETA: 10:09 - loss: 0.0135 - acc: 0.2919"
          ],
          "name": "stdout"
        }
      ]
    },
    {
      "cell_type": "code",
      "metadata": {
        "id": "3gt0awsEyJIU"
      },
      "source": [
        ""
      ],
      "execution_count": null,
      "outputs": []
    },
    {
      "cell_type": "code",
      "metadata": {
        "id": "4RBqT-_QyJK5"
      },
      "source": [
        ""
      ],
      "execution_count": null,
      "outputs": []
    },
    {
      "cell_type": "markdown",
      "metadata": {
        "id": "l_N6Ty9RZnCg"
      },
      "source": [
        "# Kaggle API commands to create dataset"
      ]
    },
    {
      "cell_type": "code",
      "metadata": {
        "id": "z5e1ptTPZrN0",
        "colab": {
          "base_uri": "https://localhost:8080/"
        },
        "outputId": "8e8f41dc-46e0-456a-88f4-89cd18fec8ab"
      },
      "source": [
        "!kaggle datasets init -p image-features-2020-2021\n",
        "# Change metadata file\n"
      ],
      "execution_count": null,
      "outputs": [
        {
          "output_type": "stream",
          "text": [
            "Data package template written to: image-features-2020-2021/dataset-metadata.json\n",
            "Default slug detected, please change values before uploading\n"
          ],
          "name": "stdout"
        }
      ]
    },
    {
      "cell_type": "code",
      "metadata": {
        "colab": {
          "base_uri": "https://localhost:8080/"
        },
        "id": "UujpF-CqdYrH",
        "outputId": "8d62fd31-34aa-4de5-b820-95433346dfdc"
      },
      "source": [
        "!kaggle datasets create -p image-features-2020-2021"
      ],
      "execution_count": null,
      "outputs": [
        {
          "output_type": "stream",
          "text": [
            "Starting upload for file train_concepts_2020_2021_sample_merged.csv\n",
            "Warning: Looks like you're using an outdated API Version, please consider updating (server 1.5.12 / client 1.5.4)\n",
            "100% 2.85M/2.85M [00:00<00:00, 6.43MB/s]\n",
            "Upload successful: train_concepts_2020_2021_sample_merged.csv (3MB)\n",
            "Skipping folder: .ipynb_checkpoints; use '--dir-mode' to upload folders\n",
            "Starting upload for file features-images-2020-2021-sample-default-densenet-shard-1.npy\n",
            "100% 2.43G/2.43G [01:12<00:00, 36.0MB/s]\n",
            "Upload successful: features-images-2020-2021-sample-default-densenet-shard-1.npy (2GB)\n",
            "Starting upload for file features-images-2020-2021-sample-default-densenet-shard-2.npy\n",
            "100% 2.61G/2.61G [01:17<00:00, 36.1MB/s]\n",
            "Upload successful: features-images-2020-2021-sample-default-densenet-shard-2.npy (3GB)\n",
            "Your private Dataset is being created. Please check progress at https://www.kaggle.com/fjpa121197/image-features-2020-2021\n"
          ],
          "name": "stdout"
        }
      ]
    }
  ]
}