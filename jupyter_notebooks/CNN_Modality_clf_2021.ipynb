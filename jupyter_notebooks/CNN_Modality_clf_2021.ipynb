{
  "nbformat": 4,
  "nbformat_minor": 0,
  "metadata": {
    "colab": {
      "name": "CNN_Modality_clf_2021",
      "provenance": [],
      "toc_visible": true,
      "include_colab_link": true
    },
    "kernelspec": {
      "name": "python3",
      "display_name": "Python 3"
    },
    "accelerator": "GPU"
  },
  "cells": [
    {
      "cell_type": "markdown",
      "metadata": {
        "id": "view-in-github",
        "colab_type": "text"
      },
      "source": [
        "<a href=\"https://colab.research.google.com/github/fjpa121197/ImageCLEF2021/blob/colab/jupyter_notebooks/CNN_Modality_clf_2021.ipynb\" target=\"_parent\"><img src=\"https://colab.research.google.com/assets/colab-badge.svg\" alt=\"Open In Colab\"/></a>"
      ]
    },
    {
      "cell_type": "code",
      "metadata": {
        "id": "hYvAR7M2gTG_",
        "colab": {
          "base_uri": "https://localhost:8080/"
        },
        "outputId": "6860205d-07db-4496-9fc1-d1ab459c191f"
      },
      "source": [
        "import os\n",
        "os.environ['KAGGLE_USERNAME'] = \"fjpa121197\" # username from the json file\n",
        "os.environ['KAGGLE_KEY'] = \"ea7bd33026696afdb7940bc87acaed0\" # keya from the json file\n",
        "!kaggle datasets download -d fjpa121197/imageclefmed2021 # api copied from kaggle !!!!!!!CHANGE API COMMAND TO THE NEW DATASET"
      ],
      "execution_count": null,
      "outputs": [
        {
          "output_type": "stream",
          "text": [
            "Downloading imageclefmed2021.zip to /content\n",
            "100% 3.84G/3.84G [01:11<00:00, 51.0MB/s]\n",
            "100% 3.84G/3.84G [01:11<00:00, 57.4MB/s]\n"
          ],
          "name": "stdout"
        }
      ]
    },
    {
      "cell_type": "code",
      "metadata": {
        "id": "8RGo6VyZgaic",
        "colab": {
          "base_uri": "https://localhost:8080/"
        },
        "outputId": "e37fe9bf-ef44-4538-e573-e49d303aa964"
      },
      "source": [
        "# Upload data\n",
        "from zipfile import ZipFile\n",
        "\n",
        "file_name = \"/content/imageclefmed2021.zip\"\n",
        "\n",
        "with ZipFile(file_name, 'r') as zip:\n",
        "  zip.extractall()\n",
        "  print('done')"
      ],
      "execution_count": null,
      "outputs": [
        {
          "output_type": "stream",
          "text": [
            "done\n"
          ],
          "name": "stdout"
        }
      ]
    },
    {
      "cell_type": "code",
      "metadata": {
        "id": "UD2rj98BNA6d"
      },
      "source": [
        "from numpy.random import seed\n",
        "seed(1)\n",
        "import tensorflow\n",
        "tensorflow.random.set_seed(14)"
      ],
      "execution_count": null,
      "outputs": []
    },
    {
      "cell_type": "code",
      "metadata": {
        "id": "sfNMOxsTM4xm"
      },
      "source": [
        "from tensorflow.keras import models\n",
        "from tensorflow.keras import layers\n",
        "from tensorflow.keras.utils import to_categorical\n",
        "from tensorflow.keras.preprocessing.image import ImageDataGenerator\n",
        "from tensorflow.keras import optimizers\n",
        "from tensorflow.keras.callbacks import EarlyStopping\n",
        "from sklearn.utils import class_weight\n",
        "import numpy as np\n",
        "from sklearn import metrics\n",
        "\n",
        "import matplotlib.pyplot as plt"
      ],
      "execution_count": null,
      "outputs": []
    },
    {
      "cell_type": "markdown",
      "metadata": {
        "id": "FdpXN1qiQlFJ"
      },
      "source": [
        "\n",
        "**Please make a new section if you are about to try different model architectures, use different parameters or data augmentation techniques, use class_weights, oversampling or undersampling, etc. Also, explain what is the variation. It will be good to set a fixed seed for all parts that use one, this is to make sure that improvements are because of model architecture changes and not something random.**"
      ]
    },
    {
      "cell_type": "markdown",
      "metadata": {
        "id": "2zr7jvg4Jdq5"
      },
      "source": [
        "# CNN Modality Classification (wo targeting imbalanced dataset)\n",
        "CNN model to classify image modality which class weights or image per modality frequency is not taken into consideration."
      ]
    },
    {
      "cell_type": "code",
      "metadata": {
        "id": "x3sqmxATNtRZ",
        "colab": {
          "base_uri": "https://localhost:8080/"
        },
        "outputId": "b6490de0-9800-4ef2-c6e3-25bb29368b91"
      },
      "source": [
        "##Create model\n",
        "model_base = models.Sequential()\n",
        "model_base.add(layers.Conv2D(32, (3, 3), activation='relu', input_shape=(256, 256, 3)))\n",
        "model_base.add(layers.MaxPooling2D((2, 2)))\n",
        "model_base.add(layers.Conv2D(128, (3,3), activation= 'relu'))\n",
        "model_base.add(layers.MaxPooling2D((2,2)))\n",
        "model_base.add(layers.Conv2D(64, (3, 3), activation='relu'))\n",
        "model_base.add(layers.MaxPooling2D((2, 2)))\n",
        "model_base.add(layers.Conv2D(64, (3, 3), activation='relu'))\n",
        "model_base.add(layers.Flatten())\n",
        "model_base.add(layers.Dense(64, activation='relu'))\n",
        "model_base.add(layers.Dense(7, activation='softmax'))\n",
        "model_base.summary()"
      ],
      "execution_count": null,
      "outputs": [
        {
          "output_type": "stream",
          "text": [
            "Model: \"sequential_7\"\n",
            "_________________________________________________________________\n",
            "Layer (type)                 Output Shape              Param #   \n",
            "=================================================================\n",
            "conv2d_25 (Conv2D)           (None, 254, 254, 32)      896       \n",
            "_________________________________________________________________\n",
            "max_pooling2d_18 (MaxPooling (None, 127, 127, 32)      0         \n",
            "_________________________________________________________________\n",
            "conv2d_26 (Conv2D)           (None, 125, 125, 128)     36992     \n",
            "_________________________________________________________________\n",
            "max_pooling2d_19 (MaxPooling (None, 62, 62, 128)       0         \n",
            "_________________________________________________________________\n",
            "conv2d_27 (Conv2D)           (None, 60, 60, 64)        73792     \n",
            "_________________________________________________________________\n",
            "max_pooling2d_20 (MaxPooling (None, 30, 30, 64)        0         \n",
            "_________________________________________________________________\n",
            "conv2d_28 (Conv2D)           (None, 28, 28, 64)        36928     \n",
            "_________________________________________________________________\n",
            "flatten_7 (Flatten)          (None, 50176)             0         \n",
            "_________________________________________________________________\n",
            "dense_14 (Dense)             (None, 64)                3211328   \n",
            "_________________________________________________________________\n",
            "dense_15 (Dense)             (None, 7)                 455       \n",
            "=================================================================\n",
            "Total params: 3,360,391\n",
            "Trainable params: 3,360,391\n",
            "Non-trainable params: 0\n",
            "_________________________________________________________________\n"
          ],
          "name": "stdout"
        }
      ]
    },
    {
      "cell_type": "code",
      "metadata": {
        "id": "B7AqgXK1OP9U"
      },
      "source": [
        "model_base.compile(loss='categorical_crossentropy', \n",
        "              optimizer=optimizers.Adam(learning_rate=0.001),\n",
        "              metrics=['acc'])\n",
        "\n",
        "#Early stopping based on val_loss, however, this metrics and params might change. Also, reducing learning rate might be implemented\n",
        "callback_earlystop = EarlyStopping(monitor = 'val_loss', patience = 15, restore_best_weights= True)"
      ],
      "execution_count": null,
      "outputs": []
    },
    {
      "cell_type": "code",
      "metadata": {
        "id": "zK2Zpff5Oi0z",
        "colab": {
          "base_uri": "https://localhost:8080/"
        },
        "outputId": "dee104a9-2b6f-42ca-eba6-5a9a436d6c48"
      },
      "source": [
        "# A generator is used for training to generate batches of data and not load all dataset to disk. And the same time, perform a split and rescale the image to a standard size.\n",
        "train_datagen = ImageDataGenerator(validation_split=0.2,rescale=1./255)\n",
        "\n",
        "# Flow from directory is used, in order to take leverage of the dataset directory structure and get the target for the images in each modality.\n",
        "# We will use only the training set, and get the validation set from it. Training -> Training (0.8) and Validation (0.2)\n",
        "\n",
        "train_generator = train_datagen.flow_from_directory(directory = '/content/ImageCLEF2020_Train_Images/Train/',\n",
        "                                                    target_size=(256, 256), \n",
        "                                                    batch_size=32,\n",
        "                                                    subset = 'training', seed = 14,\n",
        "                                                    class_mode='categorical')\n",
        "\n",
        "validation_generator = train_datagen.flow_from_directory(directory='/content/ImageCLEF2020_Train_Images/Train/',\n",
        "                                                        target_size=(256, 256),\n",
        "                                                        batch_size=32,\n",
        "                                                        subset = 'validation', seed = 14,\n",
        "                                                        class_mode='categorical')"
      ],
      "execution_count": null,
      "outputs": [
        {
          "output_type": "stream",
          "text": [
            "Found 51806 images belonging to 7 classes.\n",
            "Found 12947 images belonging to 7 classes.\n"
          ],
          "name": "stdout"
        }
      ]
    },
    {
      "cell_type": "code",
      "metadata": {
        "id": "ZwVDKRyjTeNI",
        "colab": {
          "base_uri": "https://localhost:8080/"
        },
        "outputId": "6e4a1b76-d83e-42a2-e89b-4b4a271a08f4"
      },
      "source": [
        "history = model_base.fit(train_generator,\n",
        "                              steps_per_epoch=100,\n",
        "                              epochs=100,\n",
        "                              validation_data=validation_generator, callbacks = [callback],\n",
        "                              validation_steps=10)\n"
      ],
      "execution_count": null,
      "outputs": [
        {
          "output_type": "stream",
          "text": [
            "Epoch 1/100\n",
            "100/100 [==============================] - 20s 192ms/step - loss: 1.3823 - acc: 0.4564 - val_loss: 0.8319 - val_acc: 0.6812\n",
            "Epoch 2/100\n",
            "100/100 [==============================] - 19s 186ms/step - loss: 0.8868 - acc: 0.6699 - val_loss: 0.7588 - val_acc: 0.7156\n",
            "Epoch 3/100\n",
            "100/100 [==============================] - 19s 186ms/step - loss: 0.6907 - acc: 0.7428 - val_loss: 0.5102 - val_acc: 0.8156\n",
            "Epoch 4/100\n",
            "100/100 [==============================] - 19s 189ms/step - loss: 0.6015 - acc: 0.7850 - val_loss: 0.7276 - val_acc: 0.7250\n",
            "Epoch 5/100\n",
            "100/100 [==============================] - 19s 186ms/step - loss: 0.5412 - acc: 0.8025 - val_loss: 0.5124 - val_acc: 0.8000\n",
            "Epoch 6/100\n",
            "100/100 [==============================] - 19s 189ms/step - loss: 0.5220 - acc: 0.8151 - val_loss: 0.6253 - val_acc: 0.7781\n",
            "Epoch 7/100\n",
            "100/100 [==============================] - 19s 189ms/step - loss: 0.5212 - acc: 0.8219 - val_loss: 0.5908 - val_acc: 0.7594\n",
            "Epoch 8/100\n",
            "100/100 [==============================] - 19s 189ms/step - loss: 0.4843 - acc: 0.8204 - val_loss: 0.4840 - val_acc: 0.8281\n",
            "Epoch 9/100\n",
            "100/100 [==============================] - 19s 188ms/step - loss: 0.4547 - acc: 0.8338 - val_loss: 0.4754 - val_acc: 0.8500\n",
            "Epoch 10/100\n",
            "100/100 [==============================] - 19s 189ms/step - loss: 0.4203 - acc: 0.8560 - val_loss: 0.5094 - val_acc: 0.7969\n",
            "Epoch 11/100\n",
            "100/100 [==============================] - 19s 191ms/step - loss: 0.3713 - acc: 0.8637 - val_loss: 0.3229 - val_acc: 0.8562\n",
            "Epoch 12/100\n",
            "100/100 [==============================] - 19s 186ms/step - loss: 0.3331 - acc: 0.8707 - val_loss: 0.3391 - val_acc: 0.8750\n",
            "Epoch 13/100\n",
            "100/100 [==============================] - 19s 188ms/step - loss: 0.3524 - acc: 0.8740 - val_loss: 0.4757 - val_acc: 0.8594\n",
            "Epoch 14/100\n",
            "100/100 [==============================] - 19s 188ms/step - loss: 0.3371 - acc: 0.8798 - val_loss: 0.3402 - val_acc: 0.8625\n",
            "Epoch 15/100\n",
            "100/100 [==============================] - 19s 186ms/step - loss: 0.2935 - acc: 0.8923 - val_loss: 0.4000 - val_acc: 0.8594\n",
            "Epoch 16/100\n",
            "100/100 [==============================] - 19s 188ms/step - loss: 0.3332 - acc: 0.8828 - val_loss: 0.3448 - val_acc: 0.8687\n",
            "Epoch 17/100\n",
            "100/100 [==============================] - 19s 186ms/step - loss: 0.3043 - acc: 0.8955 - val_loss: 0.3167 - val_acc: 0.8844\n",
            "Epoch 18/100\n",
            "100/100 [==============================] - 19s 191ms/step - loss: 0.2941 - acc: 0.9031 - val_loss: 0.2940 - val_acc: 0.8875\n",
            "Epoch 19/100\n",
            "100/100 [==============================] - 19s 189ms/step - loss: 0.2748 - acc: 0.9060 - val_loss: 0.4110 - val_acc: 0.8625\n",
            "Epoch 20/100\n",
            "100/100 [==============================] - 19s 189ms/step - loss: 0.2448 - acc: 0.9182 - val_loss: 0.3734 - val_acc: 0.8938\n",
            "Epoch 21/100\n",
            "100/100 [==============================] - 19s 189ms/step - loss: 0.2563 - acc: 0.9137 - val_loss: 0.2309 - val_acc: 0.9187\n",
            "Epoch 22/100\n",
            "100/100 [==============================] - 19s 189ms/step - loss: 0.2482 - acc: 0.9100 - val_loss: 0.2863 - val_acc: 0.9094\n",
            "Epoch 23/100\n",
            "100/100 [==============================] - 19s 189ms/step - loss: 0.2457 - acc: 0.9136 - val_loss: 0.3539 - val_acc: 0.9000\n",
            "Epoch 24/100\n",
            "100/100 [==============================] - 18s 185ms/step - loss: 0.2357 - acc: 0.9098 - val_loss: 0.3568 - val_acc: 0.8813\n",
            "Epoch 25/100\n",
            "100/100 [==============================] - 19s 186ms/step - loss: 0.2046 - acc: 0.9299 - val_loss: 0.2808 - val_acc: 0.9125\n",
            "Epoch 26/100\n",
            "100/100 [==============================] - 19s 187ms/step - loss: 0.2105 - acc: 0.9214 - val_loss: 0.3431 - val_acc: 0.9125\n",
            "Epoch 27/100\n",
            "100/100 [==============================] - 19s 190ms/step - loss: 0.1730 - acc: 0.9361 - val_loss: 0.3267 - val_acc: 0.8719\n",
            "Epoch 28/100\n",
            "100/100 [==============================] - 19s 188ms/step - loss: 0.2192 - acc: 0.9252 - val_loss: 0.3162 - val_acc: 0.9000\n",
            "Epoch 29/100\n",
            "100/100 [==============================] - 19s 187ms/step - loss: 0.1869 - acc: 0.9435 - val_loss: 0.3871 - val_acc: 0.8687\n",
            "Epoch 30/100\n",
            "100/100 [==============================] - 19s 187ms/step - loss: 0.1612 - acc: 0.9459 - val_loss: 0.3413 - val_acc: 0.8906\n",
            "Epoch 31/100\n",
            "100/100 [==============================] - 19s 188ms/step - loss: 0.1949 - acc: 0.9310 - val_loss: 0.2908 - val_acc: 0.9000\n",
            "Epoch 32/100\n",
            "100/100 [==============================] - 19s 189ms/step - loss: 0.1590 - acc: 0.9424 - val_loss: 0.2882 - val_acc: 0.9031\n",
            "Epoch 33/100\n",
            "100/100 [==============================] - 19s 187ms/step - loss: 0.1803 - acc: 0.9405 - val_loss: 0.3390 - val_acc: 0.8875\n",
            "Epoch 34/100\n",
            "100/100 [==============================] - 19s 188ms/step - loss: 0.1608 - acc: 0.9433 - val_loss: 0.2651 - val_acc: 0.8906\n",
            "Epoch 35/100\n",
            "100/100 [==============================] - 19s 188ms/step - loss: 0.1715 - acc: 0.9444 - val_loss: 0.2871 - val_acc: 0.8938\n",
            "Epoch 36/100\n",
            "100/100 [==============================] - 19s 188ms/step - loss: 0.1298 - acc: 0.9588 - val_loss: 0.2956 - val_acc: 0.8938\n"
          ],
          "name": "stdout"
        }
      ]
    },
    {
      "cell_type": "code",
      "metadata": {
        "colab": {
          "base_uri": "https://localhost:8080/",
          "height": 544
        },
        "id": "KufSwOsbNLc3",
        "outputId": "f927a3ed-5a17-46ee-b0bf-bf4b7ef7153f"
      },
      "source": [
        "model_base.save('ImageCLEF_Modality_Detection.h5')\n",
        "\n",
        "acc = history.history['acc']\n",
        "val_acc = history.history['val_acc']\n",
        "loss = history.history['loss']\n",
        "val_loss = history.history['val_loss']\n",
        "\n",
        "epochs = range(1, len(acc) + 1)\n",
        "\n",
        "plt.plot(epochs, acc, 'bo', label='Training acc')\n",
        "plt.plot(epochs, val_acc, 'b', label='Validation acc')\n",
        "plt.title('Training and validation accuracy')\n",
        "plt.legend()\n",
        "plt.savefig('this is a test2.png', bbox_inches='tight')\n",
        "plt.figure()\n",
        "\n",
        "plt.plot(epochs, loss, 'bo', label='Training loss')\n",
        "plt.plot(epochs, val_loss, 'b', label='Validation loss')\n",
        "plt.title('Training and validation loss')\n",
        "plt.legend()\n",
        "plt.savefig('this is a test1.png', bbox_inches='tight')\n",
        "plt.show()"
      ],
      "execution_count": null,
      "outputs": [
        {
          "output_type": "display_data",
          "data": {
            "image/png": "[encoded data removed]",
            "text/plain": [
              "<Figure size 432x288 with 1 Axes>"
            ]
          },
          "metadata": {
            "tags": [],
            "needs_background": "light"
          }
        },
        {
          "output_type": "display_data",
          "data": {
            "image/png": "[encoded data removed]",
            "text/plain": [
              "<Figure size 432x288 with 1 Axes>"
            ]
          },
          "metadata": {
            "tags": [],
            "needs_background": "light"
          }
        }
      ]
    },
    {
      "cell_type": "code",
      "metadata": {
        "colab": {
          "base_uri": "https://localhost:8080/"
        },
        "id": "6Jj8qODNNd5I",
        "outputId": "406bc365-53e1-4109-9b70-a95630a724a2"
      },
      "source": [
        "#Now, lets use the model_base to predict the image modality using the validation set (which hasnt been used)\n",
        "\n",
        "#Create image generator to load new images in batches and perform same data augmentation as the training data.\n",
        "test_generator = ImageDataGenerator(rescale=1./255).flow_from_directory(directory = '/content/ImageCLEF2020_Validation_Images/Validation/',\n",
        "                                                                        target_size = (256,256), shuffle = False, class_mode = 'categorical', batch_size = 32)\n",
        "test_steps_per_epoch = numpy.math.ceil(test_generator.samples / test_generator.batch_size) # You can either supply each image and make a single prediction or make a batch prediction\n",
        "\n",
        "predictions = model_base.predict(test_generator,steps = test_steps_per_epoch)\n",
        "prediction_classes = numpy.argmax(predictions, axis = 1) # Returns true for the index with the highest probability"
      ],
      "execution_count": null,
      "outputs": [
        {
          "output_type": "stream",
          "text": [
            "Found 15970 images belonging to 7 classes.\n"
          ],
          "name": "stdout"
        }
      ]
    },
    {
      "cell_type": "code",
      "metadata": {
        "colab": {
          "base_uri": "https://localhost:8080/"
        },
        "id": "mYS1ICTSOjuN",
        "outputId": "5d367a5d-54fd-4ef4-ec32-8d6bc883543e"
      },
      "source": [
        "true_classes = test_generator.classes # Gets the available classes passed to the generator\n",
        "class_labels = list(test_generator.class_indices.keys()) # Gets the label ffor each class\n",
        "report = metrics.classification_report(true_classes,prediction_classes, target_names = class_labels)\n",
        "print(\"Based model classification report\")\n",
        "print(report)"
      ],
      "execution_count": null,
      "outputs": [
        {
          "output_type": "stream",
          "text": [
            "Based model classification report\n",
            "              precision    recall  f1-score   support\n",
            "\n",
            "        DRAN       0.83      0.75      0.79      1132\n",
            "        DRCO       0.81      0.85      0.83        73\n",
            "        DRCT       0.90      0.93      0.92      4992\n",
            "        DRMR       0.83      0.83      0.83      2848\n",
            "        DRPE       0.88      0.72      0.79        74\n",
            "        DRUS       0.96      0.94      0.95      2134\n",
            "        DRXR       0.91      0.91      0.91      4717\n",
            "\n",
            "    accuracy                           0.89     15970\n",
            "   macro avg       0.87      0.85      0.86     15970\n",
            "weighted avg       0.89      0.89      0.89     15970\n",
            "\n"
          ],
          "name": "stdout"
        }
      ]
    },
    {
      "cell_type": "markdown",
      "metadata": {
        "id": "YItsiNHxQ5Sc"
      },
      "source": [
        "# CNN Modality classification (targeting imbalanced dataset using class weights)\n",
        "This CNN model will use the same architecture as the previous one, same parameters. However, it will use class weights in the fit method, which are obtained use the compute_class_weight from sklearn, this is to weight the loss function and be higher for the modalities with less images."
      ]
    },
    {
      "cell_type": "code",
      "metadata": {
        "colab": {
          "base_uri": "https://localhost:8080/"
        },
        "id": "e7Mp3MuETSw0",
        "outputId": "3a0f6ad4-eaa7-40df-b6a0-bebc9060aac6"
      },
      "source": [
        "#model definiton\n",
        "model_1 = models.Sequential()\n",
        "model_1.add(layers.Conv2D(32, (3, 3), activation='relu', input_shape=(256, 256, 3)))\n",
        "model_1.add(layers.MaxPooling2D((2, 2)))\n",
        "model_1.add(layers.Conv2D(128, (3,3), activation= 'relu'))\n",
        "model_1.add(layers.MaxPooling2D((2,2)))\n",
        "model_1.add(layers.Conv2D(64, (3, 3), activation='relu'))\n",
        "model_1.add(layers.MaxPooling2D((2, 2)))\n",
        "model_1.add(layers.Conv2D(64, (3, 3), activation='relu'))\n",
        "model_1.add(layers.Flatten())\n",
        "model_1.add(layers.Dense(64, activation='relu'))\n",
        "model_1.add(layers.Dense(7, activation='softmax'))\n",
        "model_1.summary()"
      ],
      "execution_count": null,
      "outputs": [
        {
          "output_type": "stream",
          "text": [
            "Model: \"sequential_9\"\n",
            "_________________________________________________________________\n",
            "Layer (type)                 Output Shape              Param #   \n",
            "=================================================================\n",
            "conv2d_33 (Conv2D)           (None, 254, 254, 32)      896       \n",
            "_________________________________________________________________\n",
            "max_pooling2d_24 (MaxPooling (None, 127, 127, 32)      0         \n",
            "_________________________________________________________________\n",
            "conv2d_34 (Conv2D)           (None, 125, 125, 128)     36992     \n",
            "_________________________________________________________________\n",
            "max_pooling2d_25 (MaxPooling (None, 62, 62, 128)       0         \n",
            "_________________________________________________________________\n",
            "conv2d_35 (Conv2D)           (None, 60, 60, 64)        73792     \n",
            "_________________________________________________________________\n",
            "max_pooling2d_26 (MaxPooling (None, 30, 30, 64)        0         \n",
            "_________________________________________________________________\n",
            "conv2d_36 (Conv2D)           (None, 28, 28, 64)        36928     \n",
            "_________________________________________________________________\n",
            "flatten_9 (Flatten)          (None, 50176)             0         \n",
            "_________________________________________________________________\n",
            "dense_18 (Dense)             (None, 64)                3211328   \n",
            "_________________________________________________________________\n",
            "dense_19 (Dense)             (None, 7)                 455       \n",
            "=================================================================\n",
            "Total params: 3,360,391\n",
            "Trainable params: 3,360,391\n",
            "Non-trainable params: 0\n",
            "_________________________________________________________________\n"
          ],
          "name": "stdout"
        }
      ]
    },
    {
      "cell_type": "code",
      "metadata": {
        "id": "nrNaG298TS0p"
      },
      "source": [
        "model_1.compile(loss='categorical_crossentropy', \n",
        "              optimizer=optimizers.Adam(learning_rate=0.001),\n",
        "              metrics=['acc'])\n",
        "\n",
        "#Early stopping based on val_loss, however, this metrics and params might change. Also, reducing learning rate might be implemented\n",
        "callback_earlystop = EarlyStopping(monitor = 'val_loss', patience = 15, restore_best_weights= True)"
      ],
      "execution_count": null,
      "outputs": []
    },
    {
      "cell_type": "code",
      "metadata": {
        "colab": {
          "base_uri": "https://localhost:8080/"
        },
        "id": "QxYzfF6UTS4T",
        "outputId": "6a2b83bd-01d6-4530-e942-8343f9f76f99"
      },
      "source": [
        "# Flow from directory is used, in order to take leverage of the dataset directory structure and get the target for the images in each modality.\n",
        "# We will use only the training set, and get the validation set from it. Training -> Training (0.8) and Validation (0.2)\n",
        "\n",
        "train_generator_1 = ImageDataGenerator(validation_split=0.2,rescale=1./255).flow_from_directory(directory = '/content/ImageCLEF2020_Train_Images/Train/',\n",
        "                                                    target_size=(256, 256), \n",
        "                                                    batch_size=32,\n",
        "                                                    subset = 'training', seed = 14,\n",
        "                                                    class_mode='categorical')\n",
        "\n",
        "validation_generator_1 = ImageDataGenerator(validation_split=0.2,rescale=1./255).flow_from_directory(directory='/content/ImageCLEF2020_Train_Images/Train/',\n",
        "                                                        target_size=(256, 256),\n",
        "                                                        batch_size=32,\n",
        "                                                        subset = 'validation', seed = 14,\n",
        "                                                        class_mode='categorical')"
      ],
      "execution_count": null,
      "outputs": [
        {
          "output_type": "stream",
          "text": [
            "Found 51806 images belonging to 7 classes.\n",
            "Found 12947 images belonging to 7 classes.\n"
          ],
          "name": "stdout"
        }
      ]
    },
    {
      "cell_type": "code",
      "metadata": {
        "colab": {
          "base_uri": "https://localhost:8080/"
        },
        "id": "tcaKqi-QTS7w",
        "outputId": "e09449b5-bfd5-4ad8-aad3-02c98d176eb3"
      },
      "source": [
        "# Lets see the class weights (based on sklearn class_weight module) which are computed based on the amount of images per class (the higher the number of image samples -> the lower the weight)\n",
        "class_weights = class_weight.compute_class_weight('balanced', np.unique(train_generator.classes),train_generator.classes)\n",
        "class_weight_dict = dict(enumerate(class_weights)) # Sklear returns an array with the corresponding weights, but the fit method uses a dict\n",
        "class_weight_dict"
      ],
      "execution_count": null,
      "outputs": [
        {
          "output_type": "execute_result",
          "data": {
            "text/plain": [
              "{0: 1.9625715043376142,\n",
              " 1: 18.976556776556777,\n",
              " 2: 0.4618319589926454,\n",
              " 3: 0.808130284216766,\n",
              " 4: 18.410092395167023,\n",
              " 5: 1.071966561827512,\n",
              " 6: 0.4883120310673755}"
            ]
          },
          "metadata": {
            "tags": []
          },
          "execution_count": 106
        }
      ]
    },
    {
      "cell_type": "code",
      "metadata": {
        "colab": {
          "base_uri": "https://localhost:8080/"
        },
        "id": "dbDjl-j-TS-2",
        "outputId": "5e88608b-4ac4-41d5-e16f-566dc0c487b9"
      },
      "source": [
        "history_1 = model_1.fit(train_generator_1,\n",
        "                              steps_per_epoch=100,\n",
        "                              epochs=100,\n",
        "                              validation_data=validation_generator_1, callbacks = [callback], class_weight = class_weight_dict,\n",
        "                              validation_steps=10)"
      ],
      "execution_count": null,
      "outputs": [
        {
          "output_type": "stream",
          "text": [
            "Epoch 1/100\n",
            "100/100 [==============================] - 19s 187ms/step - loss: 1.4135 - acc: 0.3928 - val_loss: 1.3425 - val_acc: 0.5469\n",
            "Epoch 2/100\n",
            "100/100 [==============================] - 19s 187ms/step - loss: 1.4054 - acc: 0.4641 - val_loss: 1.0809 - val_acc: 0.6000\n",
            "Epoch 3/100\n",
            "100/100 [==============================] - 19s 190ms/step - loss: 1.0457 - acc: 0.5919 - val_loss: 1.0329 - val_acc: 0.6062\n",
            "Epoch 4/100\n",
            "100/100 [==============================] - 18s 183ms/step - loss: 0.9964 - acc: 0.5984 - val_loss: 0.9931 - val_acc: 0.5906\n",
            "Epoch 5/100\n",
            "100/100 [==============================] - 19s 187ms/step - loss: 0.8032 - acc: 0.6525 - val_loss: 0.8014 - val_acc: 0.6531\n",
            "Epoch 6/100\n",
            "100/100 [==============================] - 20s 199ms/step - loss: 0.7898 - acc: 0.6617 - val_loss: 1.6008 - val_acc: 0.5219\n",
            "Epoch 7/100\n",
            "100/100 [==============================] - 19s 189ms/step - loss: 0.7233 - acc: 0.6694 - val_loss: 0.8686 - val_acc: 0.6375\n",
            "Epoch 8/100\n",
            "100/100 [==============================] - 19s 188ms/step - loss: 0.9077 - acc: 0.6634 - val_loss: 0.7788 - val_acc: 0.7000\n",
            "Epoch 9/100\n",
            "100/100 [==============================] - 19s 189ms/step - loss: 0.8017 - acc: 0.6812 - val_loss: 0.7078 - val_acc: 0.7469\n",
            "Epoch 10/100\n",
            "100/100 [==============================] - 19s 185ms/step - loss: 0.6890 - acc: 0.7144 - val_loss: 0.7691 - val_acc: 0.7406\n",
            "Epoch 11/100\n",
            "100/100 [==============================] - 19s 190ms/step - loss: 0.6073 - acc: 0.7247 - val_loss: 0.6194 - val_acc: 0.7625\n",
            "Epoch 12/100\n",
            "100/100 [==============================] - 19s 190ms/step - loss: 0.5810 - acc: 0.7387 - val_loss: 0.6707 - val_acc: 0.7375\n",
            "Epoch 13/100\n",
            "100/100 [==============================] - 19s 189ms/step - loss: 0.6222 - acc: 0.7300 - val_loss: 0.5594 - val_acc: 0.8062\n",
            "Epoch 14/100\n",
            "100/100 [==============================] - 19s 188ms/step - loss: 0.7020 - acc: 0.7291 - val_loss: 0.7298 - val_acc: 0.7094\n",
            "Epoch 15/100\n",
            "100/100 [==============================] - 19s 187ms/step - loss: 0.6932 - acc: 0.7106 - val_loss: 0.6424 - val_acc: 0.7906\n",
            "Epoch 16/100\n",
            "100/100 [==============================] - 19s 188ms/step - loss: 0.5477 - acc: 0.7500 - val_loss: 0.5756 - val_acc: 0.7594\n",
            "Epoch 17/100\n",
            "100/100 [==============================] - 19s 188ms/step - loss: 0.4817 - acc: 0.7722 - val_loss: 0.6187 - val_acc: 0.7531\n",
            "Epoch 18/100\n",
            "100/100 [==============================] - 19s 188ms/step - loss: 0.5514 - acc: 0.7766 - val_loss: 0.7118 - val_acc: 0.7188\n",
            "Epoch 19/100\n",
            "100/100 [==============================] - 19s 188ms/step - loss: 0.5219 - acc: 0.7588 - val_loss: 0.5626 - val_acc: 0.7719\n",
            "Epoch 20/100\n",
            "100/100 [==============================] - 19s 188ms/step - loss: 0.4834 - acc: 0.7894 - val_loss: 0.5021 - val_acc: 0.8219\n",
            "Epoch 21/100\n",
            "100/100 [==============================] - 19s 187ms/step - loss: 0.5618 - acc: 0.7775 - val_loss: 0.8962 - val_acc: 0.6750\n",
            "Epoch 22/100\n",
            "100/100 [==============================] - 19s 185ms/step - loss: 0.4119 - acc: 0.8097 - val_loss: 0.5183 - val_acc: 0.8156\n",
            "Epoch 23/100\n",
            "100/100 [==============================] - 19s 188ms/step - loss: 0.5157 - acc: 0.7997 - val_loss: 0.6259 - val_acc: 0.7719\n",
            "Epoch 24/100\n",
            "100/100 [==============================] - 19s 186ms/step - loss: 0.4750 - acc: 0.8209 - val_loss: 0.7686 - val_acc: 0.7437\n",
            "Epoch 25/100\n",
            "100/100 [==============================] - 19s 187ms/step - loss: 0.5005 - acc: 0.8000 - val_loss: 0.5107 - val_acc: 0.8156\n",
            "Epoch 26/100\n",
            "100/100 [==============================] - 19s 185ms/step - loss: 0.4663 - acc: 0.7950 - val_loss: 0.5727 - val_acc: 0.8031\n",
            "Epoch 27/100\n",
            "100/100 [==============================] - 19s 187ms/step - loss: 0.5811 - acc: 0.7853 - val_loss: 0.6920 - val_acc: 0.7625\n",
            "Epoch 28/100\n",
            "100/100 [==============================] - 19s 191ms/step - loss: 0.4519 - acc: 0.8122 - val_loss: 0.5208 - val_acc: 0.8250\n",
            "Epoch 29/100\n",
            "100/100 [==============================] - 19s 187ms/step - loss: 0.3545 - acc: 0.8541 - val_loss: 0.4461 - val_acc: 0.8406\n",
            "Epoch 30/100\n",
            "100/100 [==============================] - 19s 187ms/step - loss: 0.6030 - acc: 0.8069 - val_loss: 0.6426 - val_acc: 0.7406\n",
            "Epoch 31/100\n",
            "100/100 [==============================] - 19s 188ms/step - loss: 0.4101 - acc: 0.8303 - val_loss: 0.4438 - val_acc: 0.8469\n",
            "Epoch 32/100\n",
            "100/100 [==============================] - 19s 188ms/step - loss: 0.3782 - acc: 0.8416 - val_loss: 0.7400 - val_acc: 0.7063\n",
            "Epoch 33/100\n",
            "100/100 [==============================] - 19s 190ms/step - loss: 0.3636 - acc: 0.8434 - val_loss: 0.5498 - val_acc: 0.7781\n",
            "Epoch 34/100\n",
            "100/100 [==============================] - 19s 188ms/step - loss: 0.3208 - acc: 0.8575 - val_loss: 0.5793 - val_acc: 0.8000\n",
            "Epoch 35/100\n",
            "100/100 [==============================] - 19s 185ms/step - loss: 0.2939 - acc: 0.8650 - val_loss: 0.4387 - val_acc: 0.8594\n",
            "Epoch 36/100\n",
            "100/100 [==============================] - 19s 185ms/step - loss: 0.3181 - acc: 0.8575 - val_loss: 0.4737 - val_acc: 0.8562\n",
            "Epoch 37/100\n",
            "100/100 [==============================] - 19s 187ms/step - loss: 0.3017 - acc: 0.8649 - val_loss: 0.3923 - val_acc: 0.8500\n",
            "Epoch 38/100\n",
            "100/100 [==============================] - 19s 187ms/step - loss: 0.2965 - acc: 0.8625 - val_loss: 0.5906 - val_acc: 0.7812\n",
            "Epoch 39/100\n",
            "100/100 [==============================] - 19s 186ms/step - loss: 0.3591 - acc: 0.8534 - val_loss: 0.5531 - val_acc: 0.8188\n",
            "Epoch 40/100\n",
            "100/100 [==============================] - 19s 188ms/step - loss: 0.3604 - acc: 0.8478 - val_loss: 0.4704 - val_acc: 0.8562\n",
            "Epoch 41/100\n",
            "100/100 [==============================] - 19s 187ms/step - loss: 0.4154 - acc: 0.8487 - val_loss: 0.7308 - val_acc: 0.7500\n",
            "Epoch 42/100\n",
            "100/100 [==============================] - 19s 189ms/step - loss: 0.3561 - acc: 0.8519 - val_loss: 0.6599 - val_acc: 0.7781\n",
            "Epoch 43/100\n",
            "100/100 [==============================] - 19s 189ms/step - loss: 0.4199 - acc: 0.8338 - val_loss: 0.6171 - val_acc: 0.7812\n",
            "Epoch 44/100\n",
            "100/100 [==============================] - 19s 189ms/step - loss: 0.3471 - acc: 0.8497 - val_loss: 0.4020 - val_acc: 0.8719\n",
            "Epoch 45/100\n",
            "100/100 [==============================] - 19s 188ms/step - loss: 0.4694 - acc: 0.8478 - val_loss: 0.8135 - val_acc: 0.7094\n",
            "Epoch 46/100\n",
            "100/100 [==============================] - 19s 188ms/step - loss: 0.4514 - acc: 0.8275 - val_loss: 0.3810 - val_acc: 0.8687\n",
            "Epoch 47/100\n",
            "100/100 [==============================] - 19s 187ms/step - loss: 0.3516 - acc: 0.8591 - val_loss: 0.4619 - val_acc: 0.8438\n",
            "Epoch 48/100\n",
            "100/100 [==============================] - 19s 185ms/step - loss: 0.3686 - acc: 0.8587 - val_loss: 0.5682 - val_acc: 0.8062\n",
            "Epoch 49/100\n",
            "100/100 [==============================] - 19s 188ms/step - loss: 0.3252 - acc: 0.8671 - val_loss: 0.4813 - val_acc: 0.8188\n",
            "Epoch 50/100\n",
            "100/100 [==============================] - 19s 184ms/step - loss: 0.2682 - acc: 0.8750 - val_loss: 0.8737 - val_acc: 0.7125\n",
            "Epoch 51/100\n",
            "100/100 [==============================] - 19s 187ms/step - loss: 0.2931 - acc: 0.8694 - val_loss: 0.3571 - val_acc: 0.8656\n",
            "Epoch 52/100\n",
            "100/100 [==============================] - 19s 187ms/step - loss: 0.6250 - acc: 0.8731 - val_loss: 0.7536 - val_acc: 0.7688\n",
            "Epoch 53/100\n",
            "100/100 [==============================] - 19s 188ms/step - loss: 0.5445 - acc: 0.8293 - val_loss: 0.5011 - val_acc: 0.8313\n",
            "Epoch 54/100\n",
            "100/100 [==============================] - 19s 188ms/step - loss: 0.2979 - acc: 0.8763 - val_loss: 0.4270 - val_acc: 0.8562\n",
            "Epoch 55/100\n",
            "100/100 [==============================] - 19s 189ms/step - loss: 0.4687 - acc: 0.8428 - val_loss: 0.4984 - val_acc: 0.8406\n",
            "Epoch 56/100\n",
            "100/100 [==============================] - 19s 188ms/step - loss: 0.3000 - acc: 0.8744 - val_loss: 0.4758 - val_acc: 0.8313\n",
            "Epoch 57/100\n",
            "100/100 [==============================] - 19s 188ms/step - loss: 0.2504 - acc: 0.8984 - val_loss: 0.4393 - val_acc: 0.8469\n",
            "Epoch 58/100\n",
            "100/100 [==============================] - 19s 188ms/step - loss: 0.2766 - acc: 0.8894 - val_loss: 0.3337 - val_acc: 0.8719\n",
            "Epoch 59/100\n",
            "100/100 [==============================] - 19s 187ms/step - loss: 0.1979 - acc: 0.9100 - val_loss: 0.4688 - val_acc: 0.8469\n",
            "Epoch 60/100\n",
            "100/100 [==============================] - 19s 186ms/step - loss: 0.2118 - acc: 0.9087 - val_loss: 0.4083 - val_acc: 0.8719\n",
            "Epoch 61/100\n",
            "100/100 [==============================] - 19s 186ms/step - loss: 0.2203 - acc: 0.9200 - val_loss: 0.3816 - val_acc: 0.8781\n",
            "Epoch 62/100\n",
            "100/100 [==============================] - 19s 186ms/step - loss: 0.2792 - acc: 0.8900 - val_loss: 0.4342 - val_acc: 0.8375\n",
            "Epoch 63/100\n",
            "100/100 [==============================] - 19s 187ms/step - loss: 0.2950 - acc: 0.8941 - val_loss: 0.3963 - val_acc: 0.8594\n",
            "Epoch 64/100\n",
            "100/100 [==============================] - 19s 189ms/step - loss: 0.2905 - acc: 0.8925 - val_loss: 0.5428 - val_acc: 0.8250\n",
            "Epoch 65/100\n",
            "100/100 [==============================] - 19s 187ms/step - loss: 0.4252 - acc: 0.9087 - val_loss: 0.7245 - val_acc: 0.7906\n",
            "Epoch 66/100\n",
            "100/100 [==============================] - 19s 187ms/step - loss: 0.3143 - acc: 0.8884 - val_loss: 0.6287 - val_acc: 0.8188\n",
            "Epoch 67/100\n",
            "100/100 [==============================] - 19s 190ms/step - loss: 0.2473 - acc: 0.8991 - val_loss: 0.4359 - val_acc: 0.8656\n",
            "Epoch 68/100\n",
            "100/100 [==============================] - 19s 188ms/step - loss: 0.1695 - acc: 0.9259 - val_loss: 0.3888 - val_acc: 0.8750\n",
            "Epoch 69/100\n",
            "100/100 [==============================] - 19s 186ms/step - loss: 0.1862 - acc: 0.9253 - val_loss: 0.3850 - val_acc: 0.8813\n",
            "Epoch 70/100\n",
            "100/100 [==============================] - 19s 189ms/step - loss: 0.1968 - acc: 0.9119 - val_loss: 0.4241 - val_acc: 0.8469\n",
            "Epoch 71/100\n",
            "100/100 [==============================] - 19s 186ms/step - loss: 0.2380 - acc: 0.9343 - val_loss: 0.4550 - val_acc: 0.8562\n",
            "Epoch 72/100\n",
            "100/100 [==============================] - 19s 190ms/step - loss: 0.2073 - acc: 0.9112 - val_loss: 0.3869 - val_acc: 0.8687\n",
            "Epoch 73/100\n",
            "100/100 [==============================] - 19s 187ms/step - loss: 0.1850 - acc: 0.9266 - val_loss: 0.3339 - val_acc: 0.8844\n"
          ],
          "name": "stdout"
        }
      ]
    },
    {
      "cell_type": "code",
      "metadata": {
        "colab": {
          "base_uri": "https://localhost:8080/",
          "height": 544
        },
        "id": "H-jSocJRTTBv",
        "outputId": "7620901a-9d59-47cd-d3db-53b51e90c400"
      },
      "source": [
        "model_1.save('ImageCLEF_Modality_Detection.h5')\n",
        "\n",
        "acc = history_1.history['acc']\n",
        "val_acc = history_1.history['val_acc']\n",
        "loss = history_1.history['loss']\n",
        "val_loss = history_1.history['val_loss']\n",
        "\n",
        "epochs = range(1, len(acc) + 1)\n",
        "\n",
        "plt.plot(epochs, acc, 'bo', label='Training acc')\n",
        "plt.plot(epochs, val_acc, 'b', label='Validation acc')\n",
        "plt.title('Training and validation accuracy')\n",
        "plt.legend()\n",
        "plt.savefig('this is a test2.png', bbox_inches='tight')\n",
        "plt.figure()\n",
        "\n",
        "plt.plot(epochs, loss, 'bo', label='Training loss')\n",
        "plt.plot(epochs, val_loss, 'b', label='Validation loss')\n",
        "plt.title('Training and validation loss')\n",
        "plt.legend()\n",
        "plt.savefig('this is a test1.png', bbox_inches='tight')\n",
        "plt.show()"
      ],
      "execution_count": null,
      "outputs": [
        {
          "output_type": "display_data",
          "data": {
            "image/png": "[encoded data removed]",
            "text/plain": [
              "<Figure size 432x288 with 1 Axes>"
            ]
          },
          "metadata": {
            "tags": [],
            "needs_background": "light"
          }
        },
        {
          "output_type": "display_data",
          "data": {
            "image/png": "[encoded data removed]",
            "text/plain": [
              "<Figure size 432x288 with 1 Axes>"
            ]
          },
          "metadata": {
            "tags": [],
            "needs_background": "light"
          }
        }
      ]
    },
    {
      "cell_type": "code",
      "metadata": {
        "colab": {
          "base_uri": "https://localhost:8080/"
        },
        "id": "wY-3KPUXx9I2",
        "outputId": "c5d7da34-5f40-4f85-a57e-aba59f0d69ce"
      },
      "source": [
        "#Now, lets use the model_base to predict the image modality using the validation set (which hasnt been used)\n",
        "\n",
        "#Create image generator to load new images in batches and perform same data augmentation as the training data.\n",
        "test_generator_1 = ImageDataGenerator(rescale=1./255).flow_from_directory(directory = '/content/ImageCLEF2020_Validation_Images/Validation/',\n",
        "                                                                        target_size = (256,256), shuffle = False, class_mode = 'categorical', batch_size = 32)\n",
        "test_steps_per_epoch = numpy.math.ceil(test_generator.samples / test_generator.batch_size) # You can either supply each image and make a single prediction or make a batch prediction\n",
        "\n",
        "predictions = model_1.predict(test_generator_1,steps = test_steps_per_epoch)\n",
        "prediction_classes = numpy.argmax(predictions, axis = 1) # Returns true for the index with the highest probability"
      ],
      "execution_count": null,
      "outputs": [
        {
          "output_type": "stream",
          "text": [
            "Found 15970 images belonging to 7 classes.\n"
          ],
          "name": "stdout"
        }
      ]
    },
    {
      "cell_type": "code",
      "metadata": {
        "colab": {
          "base_uri": "https://localhost:8080/"
        },
        "id": "3kGUKW7dVXNg",
        "outputId": "28374da3-10a9-4fc0-e3c5-deb4aa007e34"
      },
      "source": [
        "true_classes_1 = test_generator_1.classes # Gets the available classes passed to the generator\n",
        "class_labels_1 = list(test_generator_1.class_indices.keys()) # Gets the label ffor each class\n",
        "report_1 = metrics.classification_report(true_classes_1,prediction_classes, target_names = class_labels_1)\n",
        "print(\"Based model classification report\")\n",
        "print(report_1)"
      ],
      "execution_count": null,
      "outputs": [
        {
          "output_type": "stream",
          "text": [
            "Based model classification report\n",
            "              precision    recall  f1-score   support\n",
            "\n",
            "        DRAN       0.75      0.76      0.75      1132\n",
            "        DRCO       0.67      0.93      0.78        73\n",
            "        DRCT       0.89      0.90      0.89      4992\n",
            "        DRMR       0.76      0.79      0.77      2848\n",
            "        DRPE       0.37      0.88      0.52        74\n",
            "        DRUS       0.92      0.90      0.91      2134\n",
            "        DRXR       0.91      0.85      0.88      4717\n",
            "\n",
            "    accuracy                           0.86     15970\n",
            "   macro avg       0.75      0.86      0.79     15970\n",
            "weighted avg       0.86      0.86      0.86     15970\n",
            "\n"
          ],
          "name": "stdout"
        }
      ]
    },
    {
      "cell_type": "code",
      "metadata": {
        "id": "Y_y8N7xhV2i_"
      },
      "source": [
        ""
      ],
      "execution_count": null,
      "outputs": []
    },
    {
      "cell_type": "markdown",
      "metadata": {
        "id": "NA9dGjjMQ9tn"
      },
      "source": [
        "# CNN Modality Classification (wo targeting imbalanced dataset and using DenseNet-121 architecture)\n",
        "This CNN model will use Densenet-121 architecture (120 layers + fully connected layer with 7 class output).\n",
        "\n",
        "**Conclusion: Compared to previous experiments where the model arhcitecture is developed by us, using Densenet-121 architecture and adding the classification layer has increased the accuracy by 6%. However, training takes longer.**"
      ]
    },
    {
      "cell_type": "code",
      "metadata": {
        "id": "_Cab-OE6RJa2"
      },
      "source": [
        "from tensorflow.keras.applications import DenseNet121\n",
        "from tensorflow.keras.layers import GlobalAveragePooling2D, Flatten, Dense, Dropout"
      ],
      "execution_count": null,
      "outputs": []
    },
    {
      "cell_type": "code",
      "metadata": {
        "id": "YgtB9KvFS-2F",
        "colab": {
          "base_uri": "https://localhost:8080/"
        },
        "outputId": "35cd0640-cc3a-4521-e6c8-5335f4faf448"
      },
      "source": [
        "model_base_densenet = DenseNet121(include_top = False, weights = 'imagenet', input_shape= (256,256,3))"
      ],
      "execution_count": null,
      "outputs": [
        {
          "output_type": "stream",
          "text": [
            "Downloading data from https://storage.googleapis.com/tensorflow/keras-applications/densenet/densenet121_weights_tf_dim_ordering_tf_kernels_notop.h5\n",
            "29089792/29084464 [==============================] - 0s 0us/step\n"
          ],
          "name": "stdout"
        }
      ]
    },
    {
      "cell_type": "code",
      "metadata": {
        "id": "XPeOqnzlSL1f"
      },
      "source": [
        "model_densenet121 = GlobalAveragePooling2D()(model_base_densenet.output)\n",
        "model_densenet121 = Dense(64, activation= 'relu')(model_densenet121)\n",
        "model_densenet121 = Dropout(0.5)(model_densenet121)\n",
        "predictions = Dense(7, activation= 'softmax')(model_densenet121)\n",
        "model_3 = models.Model(inputs=model_base_densenet.input, outputs=predictions)"
      ],
      "execution_count": null,
      "outputs": []
    },
    {
      "cell_type": "code",
      "metadata": {
        "id": "RuJXWMcaUzX_"
      },
      "source": [
        "model_3.compile(loss='categorical_crossentropy', \n",
        "              optimizer=optimizers.Adam(learning_rate=0.001),\n",
        "              metrics=['acc'])\n",
        "#Early stopping based on val_loss, however, this metrics and params might change. Also, reducing learning rate might be implemented\n",
        "callback_earlystop = EarlyStopping(monitor = 'val_loss', patience = 15, restore_best_weights= True)"
      ],
      "execution_count": null,
      "outputs": []
    },
    {
      "cell_type": "code",
      "metadata": {
        "colab": {
          "base_uri": "https://localhost:8080/"
        },
        "id": "pGErtgyYVHpz",
        "outputId": "c5f8dc30-d004-4497-f930-7fc46ab85c0d"
      },
      "source": [
        "# Flow from directory is used, in order to take leverage of the dataset directory structure and get the target for the images in each modality.\n",
        "# We will use only the training set, and get the validation set from it. Training -> Training (0.8) and Validation (0.2)\n",
        "\n",
        "train_generator_1 = ImageDataGenerator(validation_split=0.2,rescale=1./255).flow_from_directory(directory = '/content/ImageCLEF2020_Train_Images/Train/',\n",
        "                                                    target_size=(256, 256), \n",
        "                                                    batch_size=32,\n",
        "                                                    subset = 'training', seed = 14,\n",
        "                                                    class_mode='categorical')\n",
        "\n",
        "validation_generator_1 = ImageDataGenerator(validation_split=0.2,rescale=1./255).flow_from_directory(directory='/content/ImageCLEF2020_Train_Images/Train/',\n",
        "                                                        target_size=(256, 256),\n",
        "                                                        batch_size=32,\n",
        "                                                        subset = 'validation', seed = 14,\n",
        "                                                        class_mode='categorical')"
      ],
      "execution_count": null,
      "outputs": [
        {
          "output_type": "stream",
          "text": [
            "Found 51806 images belonging to 7 classes.\n",
            "Found 12947 images belonging to 7 classes.\n"
          ],
          "name": "stdout"
        }
      ]
    },
    {
      "cell_type": "code",
      "metadata": {
        "colab": {
          "base_uri": "https://localhost:8080/"
        },
        "id": "5vgn9CymVRHv",
        "outputId": "03248496-8ebc-46f6-c4b0-020e64103f38"
      },
      "source": [
        "history_3 = model_3.fit(train_generator_1,\n",
        "                              steps_per_epoch=100,\n",
        "                              epochs=100,\n",
        "                              validation_data=validation_generator_1, callbacks = [callback_earlystop],\n",
        "                              validation_steps=10)"
      ],
      "execution_count": null,
      "outputs": [
        {
          "output_type": "stream",
          "text": [
            "Epoch 1/100\n",
            "100/100 [==============================] - 94s 497ms/step - loss: 0.9244 - acc: 0.6964 - val_loss: 21.1219 - val_acc: 0.3469\n",
            "Epoch 2/100\n",
            "100/100 [==============================] - 45s 446ms/step - loss: 0.4896 - acc: 0.8504 - val_loss: 6.1085 - val_acc: 0.3375\n",
            "Epoch 3/100\n",
            "100/100 [==============================] - 45s 447ms/step - loss: 0.4719 - acc: 0.8474 - val_loss: 5.9496 - val_acc: 0.5688\n",
            "Epoch 4/100\n",
            "100/100 [==============================] - 45s 451ms/step - loss: 0.3923 - acc: 0.8744 - val_loss: 1.3070 - val_acc: 0.6500\n",
            "Epoch 5/100\n",
            "100/100 [==============================] - 45s 452ms/step - loss: 0.3521 - acc: 0.8919 - val_loss: 0.4524 - val_acc: 0.8594\n",
            "Epoch 6/100\n",
            "100/100 [==============================] - 46s 454ms/step - loss: 0.3632 - acc: 0.8855 - val_loss: 1.3542 - val_acc: 0.6906\n",
            "Epoch 7/100\n",
            "100/100 [==============================] - 46s 455ms/step - loss: 0.3037 - acc: 0.9003 - val_loss: 12.3552 - val_acc: 0.2344\n",
            "Epoch 8/100\n",
            "100/100 [==============================] - 46s 455ms/step - loss: 0.2688 - acc: 0.9073 - val_loss: 0.1830 - val_acc: 0.9375\n",
            "Epoch 9/100\n",
            "100/100 [==============================] - 46s 455ms/step - loss: 0.2485 - acc: 0.9296 - val_loss: 1.4293 - val_acc: 0.7125\n",
            "Epoch 10/100\n",
            "100/100 [==============================] - 46s 455ms/step - loss: 0.2560 - acc: 0.9220 - val_loss: 0.7864 - val_acc: 0.7156\n",
            "Epoch 11/100\n",
            "100/100 [==============================] - 46s 457ms/step - loss: 0.2705 - acc: 0.9070 - val_loss: 0.3996 - val_acc: 0.8625\n",
            "Epoch 12/100\n",
            "100/100 [==============================] - 46s 457ms/step - loss: 0.2478 - acc: 0.9167 - val_loss: 0.3366 - val_acc: 0.9000\n",
            "Epoch 13/100\n",
            "100/100 [==============================] - 46s 456ms/step - loss: 0.2518 - acc: 0.9242 - val_loss: 0.7779 - val_acc: 0.7812\n",
            "Epoch 14/100\n",
            "100/100 [==============================] - 46s 456ms/step - loss: 0.2424 - acc: 0.9229 - val_loss: 0.3571 - val_acc: 0.8969\n",
            "Epoch 15/100\n",
            "100/100 [==============================] - 46s 457ms/step - loss: 0.2625 - acc: 0.9239 - val_loss: 0.3191 - val_acc: 0.9094\n",
            "Epoch 16/100\n",
            "100/100 [==============================] - 46s 457ms/step - loss: 0.2201 - acc: 0.9278 - val_loss: 1.4653 - val_acc: 0.7375\n",
            "Epoch 17/100\n",
            "100/100 [==============================] - 46s 457ms/step - loss: 0.2869 - acc: 0.9152 - val_loss: 0.7188 - val_acc: 0.7500\n",
            "Epoch 18/100\n",
            "100/100 [==============================] - 46s 457ms/step - loss: 0.2331 - acc: 0.9335 - val_loss: 0.2626 - val_acc: 0.9312\n",
            "Epoch 19/100\n",
            "100/100 [==============================] - 46s 456ms/step - loss: 0.2221 - acc: 0.9302 - val_loss: 0.1220 - val_acc: 0.9500\n",
            "Epoch 20/100\n",
            "100/100 [==============================] - 46s 456ms/step - loss: 0.1883 - acc: 0.9373 - val_loss: 0.3991 - val_acc: 0.8687\n",
            "Epoch 21/100\n",
            "100/100 [==============================] - 46s 455ms/step - loss: 0.1796 - acc: 0.9442 - val_loss: 0.3374 - val_acc: 0.8969\n",
            "Epoch 22/100\n",
            "100/100 [==============================] - 46s 456ms/step - loss: 0.1856 - acc: 0.9441 - val_loss: 0.4100 - val_acc: 0.8562\n",
            "Epoch 23/100\n",
            "100/100 [==============================] - 46s 455ms/step - loss: 0.2121 - acc: 0.9318 - val_loss: 0.2825 - val_acc: 0.9219\n",
            "Epoch 24/100\n",
            "100/100 [==============================] - 46s 455ms/step - loss: 0.2155 - acc: 0.9330 - val_loss: 0.4357 - val_acc: 0.8594\n",
            "Epoch 25/100\n",
            "100/100 [==============================] - 46s 456ms/step - loss: 0.1836 - acc: 0.9482 - val_loss: 0.6716 - val_acc: 0.7594\n",
            "Epoch 26/100\n",
            "100/100 [==============================] - 46s 455ms/step - loss: 0.2222 - acc: 0.9301 - val_loss: 0.2344 - val_acc: 0.9031\n",
            "Epoch 27/100\n",
            "100/100 [==============================] - 45s 453ms/step - loss: 0.1908 - acc: 0.9425 - val_loss: 0.4638 - val_acc: 0.8844\n",
            "Epoch 28/100\n",
            "100/100 [==============================] - 46s 455ms/step - loss: 0.1912 - acc: 0.9426 - val_loss: 0.2385 - val_acc: 0.9281\n",
            "Epoch 29/100\n",
            "100/100 [==============================] - 46s 455ms/step - loss: 0.1850 - acc: 0.9374 - val_loss: 0.6670 - val_acc: 0.8313\n",
            "Epoch 30/100\n",
            "100/100 [==============================] - 46s 454ms/step - loss: 0.1924 - acc: 0.9348 - val_loss: 0.2646 - val_acc: 0.9094\n",
            "Epoch 31/100\n",
            "100/100 [==============================] - 46s 455ms/step - loss: 0.2137 - acc: 0.9312 - val_loss: 0.2062 - val_acc: 0.9312\n",
            "Epoch 32/100\n",
            "100/100 [==============================] - 46s 454ms/step - loss: 0.1963 - acc: 0.9412 - val_loss: 0.5147 - val_acc: 0.8594\n",
            "Epoch 33/100\n",
            "100/100 [==============================] - 46s 455ms/step - loss: 0.1944 - acc: 0.9388 - val_loss: 0.3437 - val_acc: 0.8938\n",
            "Epoch 34/100\n",
            "100/100 [==============================] - 46s 456ms/step - loss: 0.1839 - acc: 0.9358 - val_loss: 0.3588 - val_acc: 0.9125\n"
          ],
          "name": "stdout"
        }
      ]
    },
    {
      "cell_type": "code",
      "metadata": {
        "colab": {
          "base_uri": "https://localhost:8080/",
          "height": 544
        },
        "id": "3qqzrYLWVY9P",
        "outputId": "b4623b73-e8ca-4c05-d8a4-00713db7cba2"
      },
      "source": [
        "model_3.save('ImageCLEF_Modality_Detection.h5')\n",
        "\n",
        "acc = history_3.history['acc']\n",
        "val_acc = history_3.history['val_acc']\n",
        "loss = history_3.history['loss']\n",
        "val_loss = history_3.history['val_loss']\n",
        "\n",
        "epochs = range(1, len(acc) + 1)\n",
        "\n",
        "plt.plot(epochs, acc, 'bo', label='Training acc')\n",
        "plt.plot(epochs, val_acc, 'b', label='Validation acc')\n",
        "plt.title('Training and validation accuracy')\n",
        "plt.legend()\n",
        "plt.savefig('this is a test2.png', bbox_inches='tight')\n",
        "plt.figure()\n",
        "\n",
        "plt.plot(epochs, loss, 'bo', label='Training loss')\n",
        "plt.plot(epochs, val_loss, 'b', label='Validation loss')\n",
        "plt.title('Training and validation loss')\n",
        "plt.legend()\n",
        "plt.savefig('this is a test1.png', bbox_inches='tight')\n",
        "plt.show()"
      ],
      "execution_count": null,
      "outputs": [
        {
          "output_type": "display_data",
          "data": {
            "image/png": "[encoded data removed]",
            "text/plain": [
              "<Figure size 432x288 with 1 Axes>"
            ]
          },
          "metadata": {
            "tags": [],
            "needs_background": "light"
          }
        },
        {
          "output_type": "display_data",
          "data": {
            "image/png": "[encoded data removed]",
            "text/plain": [
              "<Figure size 432x288 with 1 Axes>"
            ]
          },
          "metadata": {
            "tags": [],
            "needs_background": "light"
          }
        }
      ]
    },
    {
      "cell_type": "code",
      "metadata": {
        "colab": {
          "base_uri": "https://localhost:8080/"
        },
        "id": "xATT73wocvRW",
        "outputId": "5a0edec5-2629-4673-f48c-f494b0acb426"
      },
      "source": [
        "#Now, lets use the model_base to predict the image modality using the validation set (which hasnt been used)\n",
        "import numpy\n",
        "#Create image generator to load new images in batches and perform same data augmentation as the training data.\n",
        "test_generator_3 = ImageDataGenerator(rescale=1./255).flow_from_directory(directory = '/content/ImageCLEF2020_Validation_Images/Validation/',\n",
        "                                                                        target_size = (256,256), shuffle = False, class_mode = 'categorical', batch_size = 32)\n",
        "test_steps_per_epoch = numpy.math.ceil(test_generator_3.samples / test_generator_3.batch_size) # You can either supply each image and make a single prediction or make a batch prediction\n",
        "\n",
        "predictions = model_3.predict(test_generator_3,steps = test_steps_per_epoch)\n",
        "prediction_classes = numpy.argmax(predictions, axis = 1) # Returns true for the index with the highest probability"
      ],
      "execution_count": null,
      "outputs": [
        {
          "output_type": "stream",
          "text": [
            "Found 15970 images belonging to 7 classes.\n"
          ],
          "name": "stdout"
        }
      ]
    },
    {
      "cell_type": "code",
      "metadata": {
        "colab": {
          "base_uri": "https://localhost:8080/"
        },
        "id": "eekgZJsqc_nH",
        "outputId": "135f68f1-7d66-4d8c-cf10-c87868f32b86"
      },
      "source": [
        "true_classes_3 = test_generator_3.classes # Gets the available classes passed to the generator\n",
        "class_labels_3 = list(test_generator_3.class_indices.keys()) # Gets the label ffor each class\n",
        "report_3 = metrics.classification_report(true_classes_3,prediction_classes, target_names = class_labels_3)\n",
        "print(\"Based model classification report\")\n",
        "print(report_3)"
      ],
      "execution_count": null,
      "outputs": [
        {
          "output_type": "stream",
          "text": [
            "Based model classification report\n",
            "              precision    recall  f1-score   support\n",
            "\n",
            "        DRAN       0.91      0.95      0.93      1132\n",
            "        DRCO       0.63      0.92      0.75        73\n",
            "        DRCT       0.92      0.97      0.94      4992\n",
            "        DRMR       0.93      0.87      0.90      2848\n",
            "        DRPE       0.91      0.96      0.93        74\n",
            "        DRUS       0.99      0.99      0.99      2134\n",
            "        DRXR       0.99      0.95      0.97      4717\n",
            "\n",
            "    accuracy                           0.95     15970\n",
            "   macro avg       0.90      0.94      0.92     15970\n",
            "weighted avg       0.95      0.95      0.95     15970\n",
            "\n"
          ],
          "name": "stdout"
        }
      ]
    },
    {
      "cell_type": "markdown",
      "metadata": {
        "id": "Pj045ca2giw8"
      },
      "source": [
        "THIS IS USING THE TEST SET:"
      ]
    },
    {
      "cell_type": "code",
      "metadata": {
        "colab": {
          "base_uri": "https://localhost:8080/"
        },
        "id": "H9FRhaN2dPbU",
        "outputId": "b33ada8f-19fc-4a95-e140-6fcf8fa37f9b"
      },
      "source": [
        "test_generator_4 = ImageDataGenerator(rescale=1./255).flow_from_directory(directory = '/content/ImageCLEF2020_Test_Images/',\n",
        "                                                                        target_size = (256,256), shuffle = False, class_mode = 'categorical', batch_size = 32)\n",
        "test_steps_per_epoch = numpy.math.ceil(test_generator_4.samples / test_generator_4.batch_size) # You can either supply each image and make a single prediction or make a batch prediction\n",
        "\n",
        "predictions = model_3.predict(test_generator_4,steps = test_steps_per_epoch)\n",
        "prediction_classes = numpy.argmax(predictions, axis = 1) # Returns true for the index with the highest probability"
      ],
      "execution_count": null,
      "outputs": [
        {
          "output_type": "stream",
          "text": [
            "Found 3534 images belonging to 7 classes.\n"
          ],
          "name": "stdout"
        }
      ]
    },
    {
      "cell_type": "code",
      "metadata": {
        "colab": {
          "base_uri": "https://localhost:8080/"
        },
        "id": "JulTF1Gwffla",
        "outputId": "d25ee5f8-ccca-4d77-b03f-546327787c8c"
      },
      "source": [
        "true_classes_4 = test_generator_4.classes # Gets the available classes passed to the generator\n",
        "class_labels_4 = list(test_generator_4.class_indices.keys()) # Gets the label ffor each class\n",
        "report_4 = metrics.classification_report(true_classes_4,prediction_classes, target_names = class_labels_4)\n",
        "print(\"Based model classification report\")\n",
        "print(report_4)"
      ],
      "execution_count": null,
      "outputs": [
        {
          "output_type": "stream",
          "text": [
            "Based model classification report\n",
            "              precision    recall  f1-score   support\n",
            "\n",
            "        DRAN       0.97      0.88      0.92       325\n",
            "        DRCO       1.00      0.69      0.82        49\n",
            "        DRCT       0.93      0.93      0.93      1140\n",
            "        DRMR       0.84      0.87      0.85       562\n",
            "        DRPE       0.81      0.92      0.86        38\n",
            "        DRUS       0.98      0.97      0.98       502\n",
            "        DRXR       0.94      0.96      0.95       918\n",
            "\n",
            "    accuracy                           0.93      3534\n",
            "   macro avg       0.92      0.89      0.90      3534\n",
            "weighted avg       0.93      0.93      0.93      3534\n",
            "\n"
          ],
          "name": "stdout"
        }
      ]
    },
    {
      "cell_type": "markdown",
      "metadata": {
        "id": "iZoPklE-hugY"
      },
      "source": [
        "# CNN Modality Classification (targeting imbalanced dataset and using DenseNet-121 architecture)\n",
        "This CNN model will use Densenet-121 architecture (120 layers + fully connected layer with 7 class output).\n",
        "\n",
        "**Conclusion: Adding or targeting the imbalance dataset fact with class weight from sklearn did not help at all, maybe increasing the patience from the early stopping might help, but patience = 15 didnt help**"
      ]
    },
    {
      "cell_type": "code",
      "metadata": {
        "id": "t8JDA2eWh0QC"
      },
      "source": [
        "from tensorflow.keras.applications import DenseNet121\n",
        "from tensorflow.keras.layers import GlobalAveragePooling2D, Flatten, Dense, Dropout\n",
        "import numpy"
      ],
      "execution_count": null,
      "outputs": []
    },
    {
      "cell_type": "code",
      "metadata": {
        "id": "w600hy31i-ze"
      },
      "source": [
        "model_base_densenet_1 = DenseNet121(include_top = False, weights = 'imagenet', input_shape= (256,256,3))"
      ],
      "execution_count": null,
      "outputs": []
    },
    {
      "cell_type": "code",
      "metadata": {
        "id": "BgVv7v4ejEDI"
      },
      "source": [
        "model_densenet121 = GlobalAveragePooling2D()(model_base_densenet_1.output)\n",
        "model_densenet121 = Dense(64, activation= 'relu')(model_densenet121)\n",
        "model_densenet121 = Dropout(0.5)(model_densenet121)\n",
        "predictions = Dense(7, activation= 'softmax')(model_densenet121)\n",
        "model_4 = models.Model(inputs=model_base_densenet_1.input, outputs=predictions)"
      ],
      "execution_count": null,
      "outputs": []
    },
    {
      "cell_type": "code",
      "metadata": {
        "id": "61kf8bUAjKul"
      },
      "source": [
        "model_4.compile(loss='categorical_crossentropy', \n",
        "              optimizer=optimizers.Adam(learning_rate=0.001),\n",
        "              metrics=['acc'])\n",
        "#Early stopping based on val_loss, however, this metrics and params might change. Also, reducing learning rate might be implemented\n",
        "callback_earlystop = EarlyStopping(monitor = 'val_loss', patience = 15, restore_best_weights= True)"
      ],
      "execution_count": null,
      "outputs": []
    },
    {
      "cell_type": "code",
      "metadata": {
        "colab": {
          "base_uri": "https://localhost:8080/"
        },
        "id": "GTEP6-w5jecR",
        "outputId": "d53f4fdf-5bf9-414f-8fd0-7ea581d7c63a"
      },
      "source": [
        "train_generator_1 = ImageDataGenerator(validation_split=0.2,rescale=1./255).flow_from_directory(directory = '/content/ImageCLEF2020_Train_Images/Train/',\n",
        "                                                    target_size=(256, 256), \n",
        "                                                    batch_size=32,\n",
        "                                                    subset = 'training', seed = 14,\n",
        "                                                    class_mode='categorical')\n",
        "\n",
        "validation_generator_1 = ImageDataGenerator(validation_split=0.2,rescale=1./255).flow_from_directory(directory='/content/ImageCLEF2020_Train_Images/Train/',\n",
        "                                                        target_size=(256, 256),\n",
        "                                                        batch_size=32,\n",
        "                                                        subset = 'validation', seed = 14,\n",
        "                                                        class_mode='categorical')"
      ],
      "execution_count": null,
      "outputs": [
        {
          "output_type": "stream",
          "text": [
            "Found 51806 images belonging to 7 classes.\n",
            "Found 12947 images belonging to 7 classes.\n"
          ],
          "name": "stdout"
        }
      ]
    },
    {
      "cell_type": "code",
      "metadata": {
        "colab": {
          "base_uri": "https://localhost:8080/"
        },
        "id": "8FW_m6AJjsHS",
        "outputId": "d2e8192f-9726-4a27-88ff-f3b32368e5fb"
      },
      "source": [
        "class_weights = class_weight.compute_class_weight('balanced', np.unique(train_generator_1.classes),train_generator_1.classes)\n",
        "class_weight_dict = dict(enumerate(class_weights)) # Sklear returns an array with the corresponding weights, but the fit method uses a dict\n",
        "class_weight_dict"
      ],
      "execution_count": null,
      "outputs": [
        {
          "output_type": "execute_result",
          "data": {
            "text/plain": [
              "{0: 1.9625715043376142,\n",
              " 1: 18.976556776556777,\n",
              " 2: 0.4618319589926454,\n",
              " 3: 0.808130284216766,\n",
              " 4: 18.410092395167023,\n",
              " 5: 1.071966561827512,\n",
              " 6: 0.4883120310673755}"
            ]
          },
          "metadata": {
            "tags": []
          },
          "execution_count": 42
        }
      ]
    },
    {
      "cell_type": "code",
      "metadata": {
        "colab": {
          "base_uri": "https://localhost:8080/"
        },
        "id": "qauwl3ctjl9i",
        "outputId": "e8078762-cb25-485c-8bc7-b95083ca564e"
      },
      "source": [
        "history_4 = model_4.fit(train_generator_1,\n",
        "                              steps_per_epoch=100,\n",
        "                              epochs=100,\n",
        "                              validation_data=validation_generator_1, callbacks = [callback_earlystop], class_weight = class_weight_dict,\n",
        "                              validation_steps=10)"
      ],
      "execution_count": null,
      "outputs": [
        {
          "output_type": "stream",
          "text": [
            "Epoch 1/100\n",
            "100/100 [==============================] - 59s 499ms/step - loss: 1.5539 - acc: 0.5252 - val_loss: 4.4819 - val_acc: 0.4250\n",
            "Epoch 2/100\n",
            "100/100 [==============================] - 47s 470ms/step - loss: 1.2665 - acc: 0.5539 - val_loss: 26.9253 - val_acc: 0.1219\n",
            "Epoch 3/100\n",
            "100/100 [==============================] - 47s 473ms/step - loss: 1.1570 - acc: 0.4513 - val_loss: 2.5581 - val_acc: 0.3063\n",
            "Epoch 4/100\n",
            "100/100 [==============================] - 47s 474ms/step - loss: 1.3549 - acc: 0.4306 - val_loss: 13.4670 - val_acc: 0.3750\n",
            "Epoch 5/100\n",
            "100/100 [==============================] - 47s 473ms/step - loss: 1.1943 - acc: 0.4825 - val_loss: 1.7313 - val_acc: 0.4156\n",
            "Epoch 6/100\n",
            "100/100 [==============================] - 47s 473ms/step - loss: 1.0418 - acc: 0.4488 - val_loss: 3.0306 - val_acc: 0.3500\n",
            "Epoch 7/100\n",
            "100/100 [==============================] - 47s 473ms/step - loss: 1.3694 - acc: 0.4360 - val_loss: 1.3195 - val_acc: 0.4656\n",
            "Epoch 8/100\n",
            "100/100 [==============================] - 47s 474ms/step - loss: 1.0470 - acc: 0.4821 - val_loss: 2.6965 - val_acc: 0.2062\n",
            "Epoch 9/100\n",
            "100/100 [==============================] - 48s 475ms/step - loss: 1.1771 - acc: 0.4425 - val_loss: 1.2206 - val_acc: 0.5531\n",
            "Epoch 10/100\n",
            "100/100 [==============================] - 47s 474ms/step - loss: 0.9781 - acc: 0.5286 - val_loss: 19.5611 - val_acc: 0.0188\n",
            "Epoch 11/100\n",
            "100/100 [==============================] - 47s 473ms/step - loss: 1.2846 - acc: 0.4776 - val_loss: 1.0782 - val_acc: 0.5094\n",
            "Epoch 12/100\n",
            "100/100 [==============================] - 47s 473ms/step - loss: 0.8908 - acc: 0.5093 - val_loss: 1.1017 - val_acc: 0.5719\n",
            "Epoch 13/100\n",
            "100/100 [==============================] - 47s 473ms/step - loss: 1.3444 - acc: 0.4868 - val_loss: 1.6366 - val_acc: 0.4219\n",
            "Epoch 14/100\n",
            "100/100 [==============================] - 47s 473ms/step - loss: 0.9298 - acc: 0.5587 - val_loss: 0.9679 - val_acc: 0.6250\n",
            "Epoch 15/100\n",
            "100/100 [==============================] - 47s 472ms/step - loss: 0.9155 - acc: 0.5090 - val_loss: 2.3103 - val_acc: 0.2781\n",
            "Epoch 16/100\n",
            "100/100 [==============================] - 48s 475ms/step - loss: 0.9950 - acc: 0.5407 - val_loss: 12.9913 - val_acc: 0.0500\n",
            "Epoch 17/100\n",
            "100/100 [==============================] - 47s 474ms/step - loss: 1.1918 - acc: 0.4481 - val_loss: 1.9721 - val_acc: 0.3438\n",
            "Epoch 18/100\n",
            "100/100 [==============================] - 52s 519ms/step - loss: 0.9832 - acc: 0.5406 - val_loss: 2.2872 - val_acc: 0.3219\n",
            "Epoch 19/100\n",
            "100/100 [==============================] - 48s 475ms/step - loss: 0.8766 - acc: 0.5780 - val_loss: 0.8822 - val_acc: 0.6812\n",
            "Epoch 20/100\n",
            "100/100 [==============================] - 48s 475ms/step - loss: 0.7349 - acc: 0.6026 - val_loss: 1.5589 - val_acc: 0.5781\n",
            "Epoch 21/100\n",
            "100/100 [==============================] - 48s 474ms/step - loss: 1.0080 - acc: 0.5954 - val_loss: 7.0876 - val_acc: 0.3000\n",
            "Epoch 22/100\n",
            "100/100 [==============================] - 47s 474ms/step - loss: 1.1562 - acc: 0.5336 - val_loss: 1.6615 - val_acc: 0.3500\n",
            "Epoch 23/100\n",
            "100/100 [==============================] - 48s 474ms/step - loss: 0.8915 - acc: 0.4869 - val_loss: 2.7982 - val_acc: 0.3219\n",
            "Epoch 24/100\n",
            "100/100 [==============================] - 47s 473ms/step - loss: 0.8844 - acc: 0.5340 - val_loss: 1.9518 - val_acc: 0.4250\n",
            "Epoch 25/100\n",
            "100/100 [==============================] - 47s 473ms/step - loss: 0.8682 - acc: 0.5692 - val_loss: 0.8147 - val_acc: 0.6375\n",
            "Epoch 26/100\n",
            "100/100 [==============================] - 47s 474ms/step - loss: 0.9464 - acc: 0.6004 - val_loss: 0.7904 - val_acc: 0.7125\n",
            "Epoch 27/100\n",
            "100/100 [==============================] - 47s 474ms/step - loss: 0.6467 - acc: 0.6832 - val_loss: 0.8308 - val_acc: 0.7188\n",
            "Epoch 28/100\n",
            "100/100 [==============================] - 47s 473ms/step - loss: 0.7181 - acc: 0.6504 - val_loss: 0.9615 - val_acc: 0.6750\n",
            "Epoch 29/100\n",
            "100/100 [==============================] - 48s 474ms/step - loss: 0.8237 - acc: 0.6225 - val_loss: 2.4127 - val_acc: 0.4000\n",
            "Epoch 30/100\n",
            "100/100 [==============================] - 47s 473ms/step - loss: 0.9564 - acc: 0.6035 - val_loss: 1.4738 - val_acc: 0.4906\n",
            "Epoch 31/100\n",
            "100/100 [==============================] - 48s 474ms/step - loss: 0.9499 - acc: 0.6188 - val_loss: 8.2660 - val_acc: 0.3812\n",
            "Epoch 32/100\n",
            "100/100 [==============================] - 47s 472ms/step - loss: 0.9015 - acc: 0.5982 - val_loss: 2.0774 - val_acc: 0.4906\n",
            "Epoch 33/100\n",
            "100/100 [==============================] - 47s 473ms/step - loss: 0.9954 - acc: 0.5454 - val_loss: 1.3750 - val_acc: 0.4719\n",
            "Epoch 34/100\n",
            "100/100 [==============================] - 47s 473ms/step - loss: 0.9586 - acc: 0.5603 - val_loss: 2.1229 - val_acc: 0.3688\n",
            "Epoch 35/100\n",
            "100/100 [==============================] - 47s 473ms/step - loss: 0.8026 - acc: 0.5836 - val_loss: 1.1724 - val_acc: 0.4625\n",
            "Epoch 36/100\n",
            "100/100 [==============================] - 47s 474ms/step - loss: 0.6883 - acc: 0.6423 - val_loss: 1.0513 - val_acc: 0.6844\n",
            "Epoch 37/100\n",
            "100/100 [==============================] - 47s 472ms/step - loss: 1.2311 - acc: 0.5305 - val_loss: 3.5032 - val_acc: 0.2906\n",
            "Epoch 38/100\n",
            "100/100 [==============================] - 47s 473ms/step - loss: 1.0692 - acc: 0.4151 - val_loss: 1.4672 - val_acc: 0.5250\n",
            "Epoch 39/100\n",
            "100/100 [==============================] - 47s 473ms/step - loss: 0.9115 - acc: 0.5226 - val_loss: 1.3672 - val_acc: 0.3688\n",
            "Epoch 40/100\n",
            "100/100 [==============================] - 47s 473ms/step - loss: 0.9187 - acc: 0.5446 - val_loss: 11.8920 - val_acc: 0.0875\n",
            "Epoch 41/100\n",
            "100/100 [==============================] - 47s 472ms/step - loss: 1.0637 - acc: 0.4901 - val_loss: 1.1327 - val_acc: 0.5906\n"
          ],
          "name": "stdout"
        }
      ]
    },
    {
      "cell_type": "code",
      "metadata": {
        "colab": {
          "base_uri": "https://localhost:8080/",
          "height": 544
        },
        "id": "nN6dGGNEkA7Z",
        "outputId": "bfdb5624-7bae-475c-cf32-df29b11e7524"
      },
      "source": [
        "model_4.save('ImageCLEF_Modality_Detection.h5')\n",
        "\n",
        "acc = history_4.history['acc']\n",
        "val_acc = history_4.history['val_acc']\n",
        "loss = history_4.history['loss']\n",
        "val_loss = history_4.history['val_loss']\n",
        "\n",
        "epochs = range(1, len(acc) + 1)\n",
        "\n",
        "plt.plot(epochs, acc, 'bo', label='Training acc')\n",
        "plt.plot(epochs, val_acc, 'b', label='Validation acc')\n",
        "plt.title('Training and validation accuracy')\n",
        "plt.legend()\n",
        "plt.savefig('this is a test2.png', bbox_inches='tight')\n",
        "plt.figure()\n",
        "\n",
        "plt.plot(epochs, loss, 'bo', label='Training loss')\n",
        "plt.plot(epochs, val_loss, 'b', label='Validation loss')\n",
        "plt.title('Training and validation loss')\n",
        "plt.legend()\n",
        "plt.savefig('this is a test1.png', bbox_inches='tight')\n",
        "plt.show()"
      ],
      "execution_count": null,
      "outputs": [
        {
          "output_type": "display_data",
          "data": {
            "image/png": "[encoded data removed]",
            "text/plain": [
              "<Figure size 432x288 with 1 Axes>"
            ]
          },
          "metadata": {
            "tags": [],
            "needs_background": "light"
          }
        },
        {
          "output_type": "display_data",
          "data": {
            "image/png": "[encoded data removed]",
            "text/plain": [
              "<Figure size 432x288 with 1 Axes>"
            ]
          },
          "metadata": {
            "tags": [],
            "needs_background": "light"
          }
        }
      ]
    },
    {
      "cell_type": "code",
      "metadata": {
        "colab": {
          "base_uri": "https://localhost:8080/"
        },
        "id": "dqFWXsLCsBjI",
        "outputId": "2f71c14e-7e3e-47f0-fc95-717a2db0517a"
      },
      "source": [
        "#Create image generator to load new images in batches and perform same data augmentation as the training data.\n",
        "test_generator_5 = ImageDataGenerator(rescale=1./255).flow_from_directory(directory = '/content/ImageCLEF2020_Validation_Images/Validation/',\n",
        "                                                                        target_size = (256,256), shuffle = False, class_mode = 'categorical', batch_size = 32)\n",
        "test_steps_per_epoch = numpy.math.ceil(test_generator_5.samples / test_generator_5.batch_size) # You can either supply each image and make a single prediction or make a batch prediction\n",
        "\n",
        "predictions = model_4.predict(test_generator_5,steps = test_steps_per_epoch)\n",
        "prediction_classes = numpy.argmax(predictions, axis = 1) # Returns true for the index with the highest probability"
      ],
      "execution_count": null,
      "outputs": [
        {
          "output_type": "stream",
          "text": [
            "Found 15970 images belonging to 7 classes.\n"
          ],
          "name": "stdout"
        }
      ]
    },
    {
      "cell_type": "code",
      "metadata": {
        "colab": {
          "base_uri": "https://localhost:8080/"
        },
        "id": "f4YerZ96sfe1",
        "outputId": "37145458-a020-4070-9c08-ea88594d2929"
      },
      "source": [
        "true_classes_5 = test_generator_5.classes # Gets the available classes passed to the generator\n",
        "class_labels_5 = list(test_generator_5.class_indices.keys()) # Gets the label ffor each class\n",
        "report_5 = metrics.classification_report(true_classes_5,prediction_classes, target_names = class_labels_5)\n",
        "print(\"Based model classification report\")\n",
        "print(report_5)"
      ],
      "execution_count": null,
      "outputs": [
        {
          "output_type": "stream",
          "text": [
            "Based model classification report\n",
            "              precision    recall  f1-score   support\n",
            "\n",
            "        DRAN       0.39      0.78      0.52      1132\n",
            "        DRCO       0.11      1.00      0.21        73\n",
            "        DRCT       0.91      0.68      0.78      4992\n",
            "        DRMR       0.65      0.73      0.69      2848\n",
            "        DRPE       0.12      0.88      0.20        74\n",
            "        DRUS       0.95      0.87      0.91      2134\n",
            "        DRXR       0.77      0.59      0.67      4717\n",
            "\n",
            "    accuracy                           0.70     15970\n",
            "   macro avg       0.56      0.79      0.57     15970\n",
            "weighted avg       0.78      0.70      0.72     15970\n",
            "\n"
          ],
          "name": "stdout"
        }
      ]
    },
    {
      "cell_type": "code",
      "metadata": {
        "id": "dm-dhpw5spIW"
      },
      "source": [
        ""
      ],
      "execution_count": null,
      "outputs": []
    }
  ]
}
